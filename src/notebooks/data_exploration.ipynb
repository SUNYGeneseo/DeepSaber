{
 "cells": [
  {
   "cell_type": "markdown",
   "metadata": {},
   "source": [
    "# Data exploration"
   ]
  },
  {
   "cell_type": "code",
   "execution_count": 1,
   "metadata": {},
   "outputs": [],
   "source": [
    "from typing import Tuple\n",
    "import pandas as pd\n",
    "import sys\n",
    "sys.path.append(\"../\") # go to parent dir\n",
    "\n",
    "def load_datasets(storage_folder) -> Tuple[pd.DataFrame, pd.DataFrame, pd.DataFrame]:\n",
    "    return [pd.read_pickle(storage_folder / f'{phase}_beatmaps.pkl') for phase in\n",
    "            ['train', 'val', 'test']]"
   ]
  },
  {
   "cell_type": "code",
   "execution_count": 102,
   "metadata": {},
   "outputs": [],
   "source": [
    "from IPython.display import display, Markdown, Latex\n",
    "\n",
    "def dataset_stats(df: pd.DataFrame):\n",
    "    # 1/2 of snippets are overlapping\n",
    "    group_over = ['name', 'difficulty', 'snippet', 'time', ]\n",
    "    for end_index in range(1, len(group_over) + 1):\n",
    "        print(f\"{df.groupby(group_over[:end_index]).ngroups:9} unique {' × '.join(group_over[:end_index])}\")\n",
    "    \n",
    "    print(f\"{df.groupby(['name']).apply(lambda x: x.index.to_frame()['time'].max()).sum() / 3600:9.2f} \"\n",
    "          'hours of unique audio')\n",
    "    print(f\"{df.groupby(['name', 'difficulty']).apply(lambda x: x.index.to_frame()['time'].max()).sum() / 3600:9.2f} \"\n",
    "          'hours of unique gameplay')\n",
    "    print(f\"{len(df['word'].unique()):9} unique actions\")\n",
    "\n",
    "def whole_dataset_stats(train, val, test):\n",
    "    display(Markdown('### Train'))\n",
    "    dataset_stats(train)\n",
    "    display(Markdown('### Validation'))\n",
    "    dataset_stats(val)\n",
    "    display(Markdown('### Test'))\n",
    "    dataset_stats(test)\n",
    "    display(Markdown('### Unique actions overlap'))\n",
    "    print(f'{len(set(val.word.unique()) - set(train.word.unique())):9} unique actions in validation compared to train')\n",
    "    print(f'{len(set(test.word.unique()) - set(train.word.unique()) - set(val.word.unique())):9} unique actions in test compared to train and validation')"
   ]
  },
  {
   "cell_type": "code",
   "execution_count": 105,
   "metadata": {},
   "outputs": [
    {
     "data": {
      "text/markdown": [
       "## Our dataset"
      ],
      "text/plain": [
       "<IPython.core.display.Markdown object>"
      ]
     },
     "metadata": {},
     "output_type": "display_data"
    },
    {
     "data": {
      "text/markdown": [
       "### Train"
      ],
      "text/plain": [
       "<IPython.core.display.Markdown object>"
      ]
     },
     "metadata": {},
     "output_type": "display_data"
    },
    {
     "name": "stdout",
     "output_type": "stream",
     "text": [
      "      705 unique name\n",
      "     1615 unique name × difficulty\n",
      "    33883 unique name × difficulty × snippet\n",
      "  1694150 unique name × difficulty × snippet × time\n",
      "    38.07 hours of unique audio\n",
      "    86.68 hours of unique gameplay\n",
      "     2449 unique actions\n"
     ]
    },
    {
     "data": {
      "text/markdown": [
       "### Validation"
      ],
      "text/plain": [
       "<IPython.core.display.Markdown object>"
      ]
     },
     "metadata": {},
     "output_type": "display_data"
    },
    {
     "name": "stdout",
     "output_type": "stream",
     "text": [
      "       86 unique name\n",
      "      182 unique name × difficulty\n",
      "     3779 unique name × difficulty × snippet\n",
      "   188950 unique name × difficulty × snippet × time\n",
      "     4.49 hours of unique audio\n",
      "     9.22 hours of unique gameplay\n",
      "      924 unique actions\n"
     ]
    },
    {
     "data": {
      "text/markdown": [
       "### Test"
      ],
      "text/plain": [
       "<IPython.core.display.Markdown object>"
      ]
     },
     "metadata": {},
     "output_type": "display_data"
    },
    {
     "name": "stdout",
     "output_type": "stream",
     "text": [
      "       78 unique name\n",
      "      179 unique name × difficulty\n",
      "     4039 unique name × difficulty × snippet\n",
      "   201950 unique name × difficulty × snippet × time\n",
      "     4.23 hours of unique audio\n",
      "     9.36 hours of unique gameplay\n",
      "      946 unique actions\n"
     ]
    },
    {
     "data": {
      "text/markdown": [
       "### Unique actions overlap"
      ],
      "text/plain": [
       "<IPython.core.display.Markdown object>"
      ]
     },
     "metadata": {},
     "output_type": "display_data"
    },
    {
     "name": "stdout",
     "output_type": "stream",
     "text": [
      "       96 unique actions in validation compared to train\n",
      "       99 unique actions in test compared to train and validation\n"
     ]
    },
    {
     "data": {
      "text/markdown": [
       "## OxAI dataset"
      ],
      "text/plain": [
       "<IPython.core.display.Markdown object>"
      ]
     },
     "metadata": {},
     "output_type": "display_data"
    },
    {
     "data": {
      "text/markdown": [
       "### Train"
      ],
      "text/plain": [
       "<IPython.core.display.Markdown object>"
      ]
     },
     "metadata": {},
     "output_type": "display_data"
    },
    {
     "name": "stdout",
     "output_type": "stream",
     "text": [
      "      613 unique name\n",
      "     1499 unique name × difficulty\n",
      "    36141 unique name × difficulty × snippet\n",
      "  1807050 unique name × difficulty × snippet × time\n",
      "    32.48 hours of unique audio\n",
      "    77.61 hours of unique gameplay\n",
      "     2489 unique actions\n"
     ]
    },
    {
     "data": {
      "text/markdown": [
       "### Validation"
      ],
      "text/plain": [
       "<IPython.core.display.Markdown object>"
      ]
     },
     "metadata": {},
     "output_type": "display_data"
    },
    {
     "name": "stdout",
     "output_type": "stream",
     "text": [
      "       80 unique name\n",
      "      197 unique name × difficulty\n",
      "     4927 unique name × difficulty × snippet\n",
      "   246350 unique name × difficulty × snippet × time\n",
      "     4.28 hours of unique audio\n",
      "    10.40 hours of unique gameplay\n",
      "     1060 unique actions\n"
     ]
    },
    {
     "data": {
      "text/markdown": [
       "### Test"
      ],
      "text/plain": [
       "<IPython.core.display.Markdown object>"
      ]
     },
     "metadata": {},
     "output_type": "display_data"
    },
    {
     "name": "stdout",
     "output_type": "stream",
     "text": [
      "       72 unique name\n",
      "      152 unique name × difficulty\n",
      "     3916 unique name × difficulty × snippet\n",
      "   195800 unique name × difficulty × snippet × time\n",
      "     3.93 hours of unique audio\n",
      "     8.19 hours of unique gameplay\n",
      "      981 unique actions\n"
     ]
    },
    {
     "data": {
      "text/markdown": [
       "### Unique actions overlap"
      ],
      "text/plain": [
       "<IPython.core.display.Markdown object>"
      ]
     },
     "metadata": {},
     "output_type": "display_data"
    },
    {
     "name": "stdout",
     "output_type": "stream",
     "text": [
      "      105 unique actions in validation compared to train\n",
      "       79 unique actions in test compared to train and validation\n"
     ]
    }
   ],
   "source": [
    "from pathlib import Path\n",
    "\n",
    "display(Markdown('## Our dataset'))\n",
    "storage_folder = Path('../../data/old_datasets')\n",
    "whole_dataset_stats(*load_datasets(storage_folder))\n",
    "\n",
    "display(Markdown('## OxAI dataset'))\n",
    "storage_folder = Path('../../data/new_datasets')\n",
    "whole_dataset_stats(*load_datasets(storage_folder))"
   ]
  },
  {
   "cell_type": "markdown",
   "metadata": {},
   "source": [
    "## Number of beat elements per action"
   ]
  },
  {
   "cell_type": "code",
   "execution_count": 204,
   "metadata": {},
   "outputs": [],
   "source": [
    "import matplotlib.pyplot as plt\n",
    "plt.rcParams.update({'font.size': 21})\n",
    "\n",
    "def plot_action_distro(df: pd.DataFrame):\n",
    "    ax = (train.word.str.len() // 5 + 1).value_counts().sort_index().plot.bar(logy=True, figsize=(16, 8))\n",
    "    ax.set_title('Number of beat elements per action')\n",
    "\n",
    "    by_difficulty = train.groupby('difficulty').apply(lambda df: (df.word.str.len() // 5 + 1).value_counts().sort_index().to_frame().T)\n",
    "\n",
    "    by_difficulty.index = by_difficulty.index.droplevel(1)\n",
    "\n",
    "    ax = by_difficulty.reindex(['Easy', 'Normal', 'Hard', 'Expert', 'ExpertPlus',], fill_value=0.0).plot.bar(logy=True, figsize=(16, 8))\n",
    "    ax.set_title('Number of beat elements per action per distribution')\n",
    "    ax.set_ylabel('# of actions')"
   ]
  },
  {
   "cell_type": "code",
   "execution_count": 205,
   "metadata": {
    "scrolled": false
   },
   "outputs": [
    {
     "data": {
      "text/markdown": [
       "## Our dataset"
      ],
      "text/plain": [
       "<IPython.core.display.Markdown object>"
      ]
     },
     "metadata": {},
     "output_type": "display_data"
    },
    {
     "data": {
      "image/png": "[encoded data removed]",
      "text/plain": [
       "<Figure size 1152x576 with 1 Axes>"
      ]
     },
     "metadata": {
      "needs_background": "light"
     },
     "output_type": "display_data"
    },
    {
     "data": {
      "image/png": "[encoded data removed]",
      "text/plain": [
       "<Figure size 1152x576 with 1 Axes>"
      ]
     },
     "metadata": {
      "needs_background": "light"
     },
     "output_type": "display_data"
    }
   ],
   "source": [
    "display(Markdown('## Our dataset'))\n",
    "storage_folder = Path('../../data/old_datasets')\n",
    "train, val, test = load_datasets(storage_folder)\n",
    "plot_action_distro(train)"
   ]
  },
  {
   "cell_type": "code",
   "execution_count": 200,
   "metadata": {},
   "outputs": [
    {
     "data": {
      "text/markdown": [
       "## OxAI dataset"
      ],
      "text/plain": [
       "<IPython.core.display.Markdown object>"
      ]
     },
     "metadata": {},
     "output_type": "display_data"
    },
    {
     "data": {
      "image/png": "[encoded data removed]",
      "text/plain": [
       "<Figure size 1152x576 with 1 Axes>"
      ]
     },
     "metadata": {
      "needs_background": "light"
     },
     "output_type": "display_data"
    },
    {
     "data": {
      "image/png": "[encoded data removed]",
      "text/plain": [
       "<Figure size 1152x576 with 1 Axes>"
      ]
     },
     "metadata": {
      "needs_background": "light"
     },
     "output_type": "display_data"
    }
   ],
   "source": [
    "display(Markdown('## OxAI dataset'))\n",
    "storage_folder = Path('../../data/new_datasets')\n",
    "train, val, test = load_datasets(storage_folder)\n",
    "plot_action_distro(train)"
   ]
  },
  {
   "cell_type": "markdown",
   "metadata": {},
   "source": [
    "## Song length"
   ]
  },
  {
   "cell_type": "code",
   "execution_count": 217,
   "metadata": {},
   "outputs": [],
   "source": [
    "def create_sentence(x):\n",
    "    x.name = 'word'\n",
    "    x = x.reset_index('time')\n",
    "    x = x.drop_duplicates('time')\n",
    "    return x.word.to_list()\n",
    "\n",
    "def plot_sentence_lengths(df):\n",
    "    lengths = df.droplevel(2).word.groupby(['name', 'difficulty']).apply(create_sentence).str.len()\n",
    "    ax = lengths.plot.hist(figsize=(16, 8))\n",
    "    ax.set_xlabel('Sentence length [# words]')\n",
    "    display(lengths.describe().to_frame())"
   ]
  },
  {
   "cell_type": "code",
   "execution_count": 218,
   "metadata": {},
   "outputs": [
    {
     "data": {
      "text/markdown": [
       "## Our dataset"
      ],
      "text/plain": [
       "<IPython.core.display.Markdown object>"
      ]
     },
     "metadata": {},
     "output_type": "display_data"
    },
    {
     "data": {
      "text/html": [
       "<div>\n",
       "<style scoped>\n",
       "    .dataframe tbody tr th:only-of-type {\n",
       "        vertical-align: middle;\n",
       "    }\n",
       "\n",
       "    .dataframe tbody tr th {\n",
       "        vertical-align: top;\n",
       "    }\n",
       "\n",
       "    .dataframe thead th {\n",
       "        text-align: right;\n",
       "    }\n",
       "</style>\n",
       "<table border=\"1\" class=\"dataframe\">\n",
       "  <thead>\n",
       "    <tr style=\"text-align: right;\">\n",
       "      <th></th>\n",
       "      <th>word</th>\n",
       "    </tr>\n",
       "  </thead>\n",
       "  <tbody>\n",
       "    <tr>\n",
       "      <th>count</th>\n",
       "      <td>1615.000000</td>\n",
       "    </tr>\n",
       "    <tr>\n",
       "      <th>mean</th>\n",
       "      <td>512.653251</td>\n",
       "    </tr>\n",
       "    <tr>\n",
       "      <th>std</th>\n",
       "      <td>250.657588</td>\n",
       "    </tr>\n",
       "    <tr>\n",
       "      <th>min</th>\n",
       "      <td>57.000000</td>\n",
       "    </tr>\n",
       "    <tr>\n",
       "      <th>25%</th>\n",
       "      <td>329.500000</td>\n",
       "    </tr>\n",
       "    <tr>\n",
       "      <th>50%</th>\n",
       "      <td>469.000000</td>\n",
       "    </tr>\n",
       "    <tr>\n",
       "      <th>75%</th>\n",
       "      <td>645.000000</td>\n",
       "    </tr>\n",
       "    <tr>\n",
       "      <th>max</th>\n",
       "      <td>1701.000000</td>\n",
       "    </tr>\n",
       "  </tbody>\n",
       "</table>\n",
       "</div>"
      ],
      "text/plain": [
       "              word\n",
       "count  1615.000000\n",
       "mean    512.653251\n",
       "std     250.657588\n",
       "min      57.000000\n",
       "25%     329.500000\n",
       "50%     469.000000\n",
       "75%     645.000000\n",
       "max    1701.000000"
      ]
     },
     "metadata": {},
     "output_type": "display_data"
    },
    {
     "data": {
      "image/png": "[encoded data removed]",
      "text/plain": [
       "<Figure size 1152x576 with 1 Axes>"
      ]
     },
     "metadata": {
      "needs_background": "light"
     },
     "output_type": "display_data"
    }
   ],
   "source": [
    "display(Markdown('## Our dataset'))\n",
    "storage_folder = Path('../../data/old_datasets')\n",
    "train, val, test = load_datasets(storage_folder)\n",
    "plot_sentence_lengths(train)"
   ]
  },
  {
   "cell_type": "code",
   "execution_count": 219,
   "metadata": {},
   "outputs": [
    {
     "data": {
      "text/markdown": [
       "## OxAI dataset"
      ],
      "text/plain": [
       "<IPython.core.display.Markdown object>"
      ]
     },
     "metadata": {},
     "output_type": "display_data"
    },
    {
     "data": {
      "text/html": [
       "<div>\n",
       "<style scoped>\n",
       "    .dataframe tbody tr th:only-of-type {\n",
       "        vertical-align: middle;\n",
       "    }\n",
       "\n",
       "    .dataframe tbody tr th {\n",
       "        vertical-align: top;\n",
       "    }\n",
       "\n",
       "    .dataframe thead th {\n",
       "        text-align: right;\n",
       "    }\n",
       "</style>\n",
       "<table border=\"1\" class=\"dataframe\">\n",
       "  <thead>\n",
       "    <tr style=\"text-align: right;\">\n",
       "      <th></th>\n",
       "      <th>word</th>\n",
       "    </tr>\n",
       "  </thead>\n",
       "  <tbody>\n",
       "    <tr>\n",
       "      <th>count</th>\n",
       "      <td>1499.000000</td>\n",
       "    </tr>\n",
       "    <tr>\n",
       "      <th>mean</th>\n",
       "      <td>590.402268</td>\n",
       "    </tr>\n",
       "    <tr>\n",
       "      <th>std</th>\n",
       "      <td>315.588323</td>\n",
       "    </tr>\n",
       "    <tr>\n",
       "      <th>min</th>\n",
       "      <td>52.000000</td>\n",
       "    </tr>\n",
       "    <tr>\n",
       "      <th>25%</th>\n",
       "      <td>360.000000</td>\n",
       "    </tr>\n",
       "    <tr>\n",
       "      <th>50%</th>\n",
       "      <td>548.000000</td>\n",
       "    </tr>\n",
       "    <tr>\n",
       "      <th>75%</th>\n",
       "      <td>758.000000</td>\n",
       "    </tr>\n",
       "    <tr>\n",
       "      <th>max</th>\n",
       "      <td>3013.000000</td>\n",
       "    </tr>\n",
       "  </tbody>\n",
       "</table>\n",
       "</div>"
      ],
      "text/plain": [
       "              word\n",
       "count  1499.000000\n",
       "mean    590.402268\n",
       "std     315.588323\n",
       "min      52.000000\n",
       "25%     360.000000\n",
       "50%     548.000000\n",
       "75%     758.000000\n",
       "max    3013.000000"
      ]
     },
     "metadata": {},
     "output_type": "display_data"
    },
    {
     "data": {
      "image/png": "[encoded data removed]",
      "text/plain": [
       "<Figure size 1152x576 with 1 Axes>"
      ]
     },
     "metadata": {
      "needs_background": "light"
     },
     "output_type": "display_data"
    }
   ],
   "source": [
    "display(Markdown('## OxAI dataset'))\n",
    "storage_folder = Path('../../data/new_datasets')\n",
    "train, val, test = load_datasets(storage_folder)\n",
    "plot_sentence_lengths(train)"
   ]
  },
  {
   "cell_type": "markdown",
   "metadata": {},
   "source": [
    "## LaTeX DataFrame output"
   ]
  },
  {
   "cell_type": "code",
   "execution_count": 183,
   "metadata": {},
   "outputs": [
    {
     "data": {
      "text/plain": [
       "array(['AMENOHOAKARI', 'Adventure of a Lifetime',\n",
       "       'All Time Low (BOXINLION Remix)', 'Alone Slushii Remix', 'Always',\n",
       "       'Armed And Ready', 'BABYMETAL-Starlight', 'BRAVE JEWEL (TV size)',\n",
       "       'Bangarang', 'Beat it', 'Becoming', 'Black Rover (TV Size)',\n",
       "       'Bonfire', 'Bottle of Jack - Mikey Wax',\n",
       "       'Boulevard of Broken Dreams', 'Bring it Back - Tisoki',\n",
       "       'Careless Whisper', 'Closer', 'Conqueror', 'Courage',\n",
       "       'Crack Traxxxx', 'Crawling', 'Crossing Field',\n",
       "       'Darkside - Alan Walker', 'EC1-Rio', 'Fire Hive (Rickput)',\n",
       "       'Flat Zone 2', 'Good Morning USA', 'Goodbye to A World',\n",
       "       'Heaven Rd 2', \"Hideki Naganuma - AIN'T NOTHIN' LIKE A FUNKY BEAT\",\n",
       "       'High Hopes', 'Hitorigoto - ClariS', 'Hype feat. Such',\n",
       "       'Hyper Drive', 'Hysteria', 'I Knew You Were In Trouble',\n",
       "       'I Took A Pill In Ibiza (SeeB Remix)', 'I nyaned for Hours',\n",
       "       'Ignite (SAO)', 'John Powell - Test Drive', 'Jump Up, Super Star!',\n",
       "       'LAST GAME (TV-Size)', 'LUVORATORRRRRY',\n",
       "       'Last Dance (Custic Remix)', 'Megalovania (Cement City Remix)',\n",
       "       'New Dawn', 'Nice To Meet You, Mr. Earthling', 'Nightcore This',\n",
       "       'Nightcore-Senpai', 'No Money', 'No Pantalones',\n",
       "       'Omoi-SnowDrive(01.23)', 'Party Rock Anthem', 'Polish Girl',\n",
       "       'Pompeii', 'Professional Griefers', 'Rasputin (Funk Overload)',\n",
       "       'Ride', 'Sayoko', 'Senbonzakura Poppin Party cover', 'Shakedown',\n",
       "       'Since U Been Gone',\n",
       "       'Six Trillion Years and Overnight Story Roselia cover',\n",
       "       'Solo Camp Recommendation', 'The Bomb',\n",
       "       'The Everlasting Guilty Crown Roselia cover',\n",
       "       'The Force Theme (Far Out Remix)', 'The Fox', 'The Resistance',\n",
       "       'The World Revolving', 'Tieduprightnow', 'Uncle Fucker',\n",
       "       'Uptown Funk', 'Wareta Ringo', 'We Wont Be Alone',\n",
       "       'Weapon of Choice', 'When Can I See You Again', 'Your Love',\n",
       "       'Your Song', 'Zen Zen Zense', \"don't say lazy afterglow cover v2\",\n",
       "       'endless line', 'internet moms', 'meltdown', 'time to say goodbye'],\n",
       "      dtype=object)"
      ]
     },
     "execution_count": 183,
     "metadata": {},
     "output_type": "execute_result"
    }
   ],
   "source": [
    "storage_folder = Path('../../data/old_datasets')\n",
    "train, val, test = load_datasets(storage_folder)\n",
    "val.index.to_frame().name.unique()[:100]"
   ]
  },
  {
   "cell_type": "code",
   "execution_count": 116,
   "metadata": {},
   "outputs": [
    {
     "name": "stdout",
     "output_type": "stream",
     "text": [
      "\\begin{tabular}{llllrrrrrrlrrrllrrrrrrrlr}\n",
      "\\toprule\n",
      "     &        &   &       &  l\\_lineLayer &  l\\_lineIndex &  l\\_cutDirection &  r\\_lineLayer &  r\\_lineIndex &  r\\_cutDirection &       word &   prev &   next &      part &                                               mfcc &                                           word\\_vec &  word\\_id &  prev\\_l\\_lineLayer &  prev\\_l\\_lineIndex &  prev\\_l\\_cutDirection &  prev\\_r\\_lineLayer &  prev\\_r\\_lineIndex &  prev\\_r\\_cutDirection &                                      prev\\_word\\_vec &  prev\\_word\\_id \\\\\n",
      "name & difficulty & snippet & time &              &              &                 &              &              &                 &            &        &        &           &                                                    &                                                    &          &                   &                   &                      &                   &                   &                      &                                                    &               \\\\\n",
      "\\midrule\n",
      "30ef & Expert & 0 & 6.276 &            0 &            0 &               8 &            0 &            1 &               8 &  L008\\_R018 &  0.660 &  0.661 &  0.019023 &  [3.12, 9.734, -5.324, -2.65, -2.318, 2.762, 0.... &  [0.06204, 0.802, -0.0704, -0.4146, -0.1514, -0... &      370 &                 0 &                 2 &                    8 &                 0 &                 3 &                    8 &  [-0.011314, 0.6533, -0.1385, -0.4766, -0.1547,... &         392.0 \\\\\n",
      "     &        &   & 6.937 &            2 &            2 &               8 &            2 &            3 &               8 &  L228\\_R238 &  0.661 &  0.660 &  0.021027 &  [3.12, 9.734, -5.324, -2.65, -2.318, 2.762, 0.... &  [0.4087, 0.288, -0.0749, -0.3352, 0.0555, -0.3... &      371 &                 0 &                 0 &                    8 &                 0 &                 1 &                    8 &  [0.06204, 0.802, -0.0704, -0.4146, -0.1514, -0... &         370.0 \\\\\n",
      "     &        &   & 7.597 &            2 &            0 &               8 &            2 &            1 &               8 &  L208\\_R218 &  0.660 &  0.496 &  0.023027 &  [2.814, 11.266, -6.773, -2.705, -2.238, 3.87, ... &  [0.0726, 0.3982, -0.1726, -0.2705, -0.2386, 0.... &      372 &                 2 &                 2 &                    8 &                 2 &                 3 &                    8 &  [0.4087, 0.288, -0.0749, -0.3352, 0.0555, -0.3... &         371.0 \\\\\n",
      "     &        &   & 8.093 &            0 &            2 &               6 &            0 &            2 &               6 &       R026 &  0.496 &  0.165 &  0.024531 &  [2.568, 7.22, -7.535, -3.975, -3.318, 1.266, 0... &  [-0.313, -0.636, -0.1244, 0.0874, -0.3857, 0.3... &       58 &                 2 &                 0 &                    8 &                 2 &                 1 &                    8 &  [0.0726, 0.3982, -0.1726, -0.2705, -0.2386, 0.... &         372.0 \\\\\n",
      "     &        &   & 8.258 &            0 &            0 &               6 &            0 &            0 &               6 &       L006 &  0.165 &  0.330 &  0.025031 &  [2.568, 7.22, -7.535, -3.975, -3.318, 1.266, 0... &  [-0.3596, -0.1683, -0.335, -0.2322, 0.07153, 0... &       79 &                 0 &                 2 &                    6 &                 0 &                 2 &                    6 &  [-0.313, -0.636, -0.1244, 0.0874, -0.3857, 0.3... &          58.0 \\\\\n",
      "\\bottomrule\n",
      "\\end{tabular}\n",
      "\n",
      "Index(['l_lineLayer', 'l_lineIndex', 'l_cutDirection', 'r_lineLayer',\n",
      "       'r_lineIndex', 'r_cutDirection', 'word', 'prev', 'next', 'part', 'mfcc',\n",
      "       'word_vec', 'word_id', 'prev_l_lineLayer', 'prev_l_lineIndex',\n",
      "       'prev_l_cutDirection', 'prev_r_lineLayer', 'prev_r_lineIndex',\n",
      "       'prev_r_cutDirection', 'prev_word_vec', 'prev_word_id'],\n",
      "      dtype='object')\n"
     ]
    },
    {
     "data": {
      "text/html": [
       "<div>\n",
       "<style scoped>\n",
       "    .dataframe tbody tr th:only-of-type {\n",
       "        vertical-align: middle;\n",
       "    }\n",
       "\n",
       "    .dataframe tbody tr th {\n",
       "        vertical-align: top;\n",
       "    }\n",
       "\n",
       "    .dataframe thead th {\n",
       "        text-align: right;\n",
       "    }\n",
       "</style>\n",
       "<table border=\"1\" class=\"dataframe\">\n",
       "  <thead>\n",
       "    <tr style=\"text-align: right;\">\n",
       "      <th></th>\n",
       "      <th></th>\n",
       "      <th></th>\n",
       "      <th></th>\n",
       "      <th>l_lineLayer</th>\n",
       "      <th>l_lineIndex</th>\n",
       "      <th>l_cutDirection</th>\n",
       "      <th>r_lineLayer</th>\n",
       "      <th>r_lineIndex</th>\n",
       "      <th>r_cutDirection</th>\n",
       "      <th>word</th>\n",
       "      <th>prev</th>\n",
       "      <th>next</th>\n",
       "      <th>part</th>\n",
       "      <th>...</th>\n",
       "      <th>word_vec</th>\n",
       "      <th>word_id</th>\n",
       "      <th>prev_l_lineLayer</th>\n",
       "      <th>prev_l_lineIndex</th>\n",
       "      <th>prev_l_cutDirection</th>\n",
       "      <th>prev_r_lineLayer</th>\n",
       "      <th>prev_r_lineIndex</th>\n",
       "      <th>prev_r_cutDirection</th>\n",
       "      <th>prev_word_vec</th>\n",
       "      <th>prev_word_id</th>\n",
       "    </tr>\n",
       "    <tr>\n",
       "      <th>name</th>\n",
       "      <th>difficulty</th>\n",
       "      <th>snippet</th>\n",
       "      <th>time</th>\n",
       "      <th></th>\n",
       "      <th></th>\n",
       "      <th></th>\n",
       "      <th></th>\n",
       "      <th></th>\n",
       "      <th></th>\n",
       "      <th></th>\n",
       "      <th></th>\n",
       "      <th></th>\n",
       "      <th></th>\n",
       "      <th></th>\n",
       "      <th></th>\n",
       "      <th></th>\n",
       "      <th></th>\n",
       "      <th></th>\n",
       "      <th></th>\n",
       "      <th></th>\n",
       "      <th></th>\n",
       "      <th></th>\n",
       "      <th></th>\n",
       "      <th></th>\n",
       "    </tr>\n",
       "  </thead>\n",
       "  <tbody>\n",
       "    <tr>\n",
       "      <th rowspan=\"5\" valign=\"top\">30ef</th>\n",
       "      <th rowspan=\"5\" valign=\"top\">Expert</th>\n",
       "      <th rowspan=\"5\" valign=\"top\">250</th>\n",
       "      <th>90.918</th>\n",
       "      <td>0</td>\n",
       "      <td>2</td>\n",
       "      <td>1</td>\n",
       "      <td>0</td>\n",
       "      <td>3</td>\n",
       "      <td>1</td>\n",
       "      <td>L021_R031</td>\n",
       "      <td>0.330</td>\n",
       "      <td>0.331</td>\n",
       "      <td>0.275581</td>\n",
       "      <td>...</td>\n",
       "      <td>[-0.2642, -0.1865, -0.2078, -0.2866, 0.09827, ...</td>\n",
       "      <td>88</td>\n",
       "      <td>1</td>\n",
       "      <td>3</td>\n",
       "      <td>3</td>\n",
       "      <td>1</td>\n",
       "      <td>3</td>\n",
       "      <td>3</td>\n",
       "      <td>[0.5366, -0.287, 0.8335, -0.02771, 0.5464, 0.1...</td>\n",
       "      <td>5.0</td>\n",
       "    </tr>\n",
       "    <tr>\n",
       "      <th>91.249</th>\n",
       "      <td>1</td>\n",
       "      <td>0</td>\n",
       "      <td>2</td>\n",
       "      <td>1</td>\n",
       "      <td>0</td>\n",
       "      <td>2</td>\n",
       "      <td>L102</td>\n",
       "      <td>0.331</td>\n",
       "      <td>0.171</td>\n",
       "      <td>0.276584</td>\n",
       "      <td>...</td>\n",
       "      <td>[0.2184, 0.0528, 0.561, -0.0498, -0.0955, 0.40...</td>\n",
       "      <td>4</td>\n",
       "      <td>0</td>\n",
       "      <td>2</td>\n",
       "      <td>1</td>\n",
       "      <td>0</td>\n",
       "      <td>3</td>\n",
       "      <td>1</td>\n",
       "      <td>[-0.2642, -0.1865, -0.2078, -0.2866, 0.09827, ...</td>\n",
       "      <td>88.0</td>\n",
       "    </tr>\n",
       "    <tr>\n",
       "      <th>91.420</th>\n",
       "      <td>0</td>\n",
       "      <td>1</td>\n",
       "      <td>1</td>\n",
       "      <td>0</td>\n",
       "      <td>2</td>\n",
       "      <td>1</td>\n",
       "      <td>L011_R021</td>\n",
       "      <td>0.171</td>\n",
       "      <td>0.159</td>\n",
       "      <td>0.277103</td>\n",
       "      <td>...</td>\n",
       "      <td>[-0.02002, 0.11383, 0.1425, -0.02528, 0.178, -...</td>\n",
       "      <td>25</td>\n",
       "      <td>1</td>\n",
       "      <td>0</td>\n",
       "      <td>2</td>\n",
       "      <td>1</td>\n",
       "      <td>0</td>\n",
       "      <td>2</td>\n",
       "      <td>[0.2184, 0.0528, 0.561, -0.0498, -0.0955, 0.40...</td>\n",
       "      <td>4.0</td>\n",
       "    </tr>\n",
       "    <tr>\n",
       "      <th>91.579</th>\n",
       "      <td>0</td>\n",
       "      <td>3</td>\n",
       "      <td>7</td>\n",
       "      <td>0</td>\n",
       "      <td>3</td>\n",
       "      <td>7</td>\n",
       "      <td>R037</td>\n",
       "      <td>0.159</td>\n",
       "      <td>0.172</td>\n",
       "      <td>0.277584</td>\n",
       "      <td>...</td>\n",
       "      <td>[-0.3286, -0.305, 0.003819, -0.01487, 0.3926, ...</td>\n",
       "      <td>63</td>\n",
       "      <td>0</td>\n",
       "      <td>1</td>\n",
       "      <td>1</td>\n",
       "      <td>0</td>\n",
       "      <td>2</td>\n",
       "      <td>1</td>\n",
       "      <td>[-0.02002, 0.11383, 0.1425, -0.02528, 0.178, -...</td>\n",
       "      <td>25.0</td>\n",
       "    </tr>\n",
       "    <tr>\n",
       "      <th>91.751</th>\n",
       "      <td>0</td>\n",
       "      <td>0</td>\n",
       "      <td>6</td>\n",
       "      <td>0</td>\n",
       "      <td>0</td>\n",
       "      <td>6</td>\n",
       "      <td>L006</td>\n",
       "      <td>0.172</td>\n",
       "      <td>0.158</td>\n",
       "      <td>0.278106</td>\n",
       "      <td>...</td>\n",
       "      <td>[-0.3596, -0.1683, -0.335, -0.2322, 0.07153, 0...</td>\n",
       "      <td>79</td>\n",
       "      <td>0</td>\n",
       "      <td>3</td>\n",
       "      <td>7</td>\n",
       "      <td>0</td>\n",
       "      <td>3</td>\n",
       "      <td>7</td>\n",
       "      <td>[-0.3286, -0.305, 0.003819, -0.01487, 0.3926, ...</td>\n",
       "      <td>63.0</td>\n",
       "    </tr>\n",
       "  </tbody>\n",
       "</table>\n",
       "<p>5 rows × 21 columns</p>\n",
       "</div>"
      ],
      "text/plain": [
       "                                l_lineLayer  l_lineIndex  l_cutDirection  \\\n",
       "name difficulty snippet time                                               \n",
       "30ef Expert     250     90.918            0            2               1   \n",
       "                        91.249            1            0               2   \n",
       "                        91.420            0            1               1   \n",
       "                        91.579            0            3               7   \n",
       "                        91.751            0            0               6   \n",
       "\n",
       "                                r_lineLayer  r_lineIndex  r_cutDirection  \\\n",
       "name difficulty snippet time                                               \n",
       "30ef Expert     250     90.918            0            3               1   \n",
       "                        91.249            1            0               2   \n",
       "                        91.420            0            2               1   \n",
       "                        91.579            0            3               7   \n",
       "                        91.751            0            0               6   \n",
       "\n",
       "                                     word   prev   next      part  ...  \\\n",
       "name difficulty snippet time                                       ...   \n",
       "30ef Expert     250     90.918  L021_R031  0.330  0.331  0.275581  ...   \n",
       "                        91.249       L102  0.331  0.171  0.276584  ...   \n",
       "                        91.420  L011_R021  0.171  0.159  0.277103  ...   \n",
       "                        91.579       R037  0.159  0.172  0.277584  ...   \n",
       "                        91.751       L006  0.172  0.158  0.278106  ...   \n",
       "\n",
       "                                                                         word_vec  \\\n",
       "name difficulty snippet time                                                        \n",
       "30ef Expert     250     90.918  [-0.2642, -0.1865, -0.2078, -0.2866, 0.09827, ...   \n",
       "                        91.249  [0.2184, 0.0528, 0.561, -0.0498, -0.0955, 0.40...   \n",
       "                        91.420  [-0.02002, 0.11383, 0.1425, -0.02528, 0.178, -...   \n",
       "                        91.579  [-0.3286, -0.305, 0.003819, -0.01487, 0.3926, ...   \n",
       "                        91.751  [-0.3596, -0.1683, -0.335, -0.2322, 0.07153, 0...   \n",
       "\n",
       "                               word_id  prev_l_lineLayer  prev_l_lineIndex  \\\n",
       "name difficulty snippet time                                                 \n",
       "30ef Expert     250     90.918      88                 1                 3   \n",
       "                        91.249       4                 0                 2   \n",
       "                        91.420      25                 1                 0   \n",
       "                        91.579      63                 0                 1   \n",
       "                        91.751      79                 0                 3   \n",
       "\n",
       "                                prev_l_cutDirection  prev_r_lineLayer  \\\n",
       "name difficulty snippet time                                            \n",
       "30ef Expert     250     90.918                    3                 1   \n",
       "                        91.249                    1                 0   \n",
       "                        91.420                    2                 1   \n",
       "                        91.579                    1                 0   \n",
       "                        91.751                    7                 0   \n",
       "\n",
       "                                prev_r_lineIndex  prev_r_cutDirection  \\\n",
       "name difficulty snippet time                                            \n",
       "30ef Expert     250     90.918                 3                    3   \n",
       "                        91.249                 3                    1   \n",
       "                        91.420                 0                    2   \n",
       "                        91.579                 2                    1   \n",
       "                        91.751                 3                    7   \n",
       "\n",
       "                                                                    prev_word_vec  \\\n",
       "name difficulty snippet time                                                        \n",
       "30ef Expert     250     90.918  [0.5366, -0.287, 0.8335, -0.02771, 0.5464, 0.1...   \n",
       "                        91.249  [-0.2642, -0.1865, -0.2078, -0.2866, 0.09827, ...   \n",
       "                        91.420  [0.2184, 0.0528, 0.561, -0.0498, -0.0955, 0.40...   \n",
       "                        91.579  [-0.02002, 0.11383, 0.1425, -0.02528, 0.178, -...   \n",
       "                        91.751  [-0.3286, -0.305, 0.003819, -0.01487, 0.3926, ...   \n",
       "\n",
       "                               prev_word_id  \n",
       "name difficulty snippet time                 \n",
       "30ef Expert     250     90.918          5.0  \n",
       "                        91.249         88.0  \n",
       "                        91.420          4.0  \n",
       "                        91.579         25.0  \n",
       "                        91.751         63.0  \n",
       "\n",
       "[5 rows x 21 columns]"
      ]
     },
     "execution_count": 116,
     "metadata": {},
     "output_type": "execute_result"
    }
   ],
   "source": [
    "storage_folder = Path('../../data/new_datasets')\n",
    "train, val, test = load_datasets(storage_folder)\n",
    "print(val.head().to_latex())\n",
    "print(val.columns)\n",
    "val.iloc[500:600].head()"
   ]
  },
  {
   "cell_type": "markdown",
   "metadata": {},
   "source": [
    "## Data changes exploration"
   ]
  },
  {
   "cell_type": "code",
   "execution_count": 118,
   "metadata": {},
   "outputs": [],
   "source": [
    "storage_folder = Path('../../data/new_datasets_config_test') # 26 + 26\n",
    "train, val, test = load_datasets(storage_folder)"
   ]
  },
  {
   "cell_type": "code",
   "execution_count": 130,
   "metadata": {},
   "outputs": [
    {
     "data": {
      "text/plain": [
       "array(['Expert', 'Hard', 'Normal', 'ExpertPlus', 'Easy'], dtype=object)"
      ]
     },
     "execution_count": 130,
     "metadata": {},
     "output_type": "execute_result"
    }
   ],
   "source": [
    "val.index.to_frame().difficulty.unique()"
   ]
  },
  {
   "cell_type": "code",
   "execution_count": 143,
   "metadata": {},
   "outputs": [
    {
     "data": {
      "text/plain": [
       "297"
      ]
     },
     "execution_count": 143,
     "metadata": {},
     "output_type": "execute_result"
    }
   ],
   "source": [
    "len(set(train.word.unique()) - set(train.xs('ExpertPlus', level='difficulty').word.unique()))"
   ]
  },
  {
   "cell_type": "code",
   "execution_count": 151,
   "metadata": {},
   "outputs": [
    {
     "data": {
      "text/plain": [
       "2192"
      ]
     },
     "execution_count": 151,
     "metadata": {},
     "output_type": "execute_result"
    }
   ],
   "source": [
    "len(set(train.xs('ExpertPlus', level='difficulty').word.unique()) & set(train.word.unique()))"
   ]
  },
  {
   "cell_type": "code",
   "execution_count": 150,
   "metadata": {},
   "outputs": [
    {
     "data": {
      "text/plain": [
       "2489"
      ]
     },
     "execution_count": 150,
     "metadata": {},
     "output_type": "execute_result"
    }
   ],
   "source": [
    "len(train.word.unique())- 297 - 2192"
   ]
  },
  {
   "cell_type": "code",
   "execution_count": 89,
   "metadata": {},
   "outputs": [
    {
     "name": "stdout",
     "output_type": "stream",
     "text": [
      "m1-a m1-b\n",
      "m2-a m2-b\n"
     ]
    },
    {
     "ename": "AttributeError",
     "evalue": "'ArbitraryDataclass' object has no attribute 'train'",
     "output_type": "error",
     "traceback": [
      "\u001b[0;31m---------------------------------------------------------------------------\u001b[0m",
      "\u001b[0;31mAttributeError\u001b[0m                            Traceback (most recent call last)",
      "\u001b[0;32m<ipython-input-89-8ee9b8d80077>\u001b[0m in \u001b[0;36m<module>\u001b[0;34m\u001b[0m\n\u001b[1;32m     31\u001b[0m \u001b[0mvisualize\u001b[0m\u001b[0;34m(\u001b[0m\u001b[0mdata\u001b[0m\u001b[0;34m,\u001b[0m \u001b[0mmodels\u001b[0m\u001b[0;34m)\u001b[0m\u001b[0;34m\u001b[0m\u001b[0;34m\u001b[0m\u001b[0m\n\u001b[1;32m     32\u001b[0m \u001b[0;34m\u001b[0m\u001b[0m\n\u001b[0;32m---> 33\u001b[0;31m \u001b[0mdata\u001b[0m\u001b[0;34m[\u001b[0m\u001b[0;34m'm1'\u001b[0m\u001b[0;34m]\u001b[0m\u001b[0;34m.\u001b[0m\u001b[0mtrain\u001b[0m\u001b[0;34m\u001b[0m\u001b[0;34m\u001b[0m\u001b[0m\n\u001b[0m",
      "\u001b[0;31mAttributeError\u001b[0m: 'ArbitraryDataclass' object has no attribute 'train'"
     ]
    }
   ],
   "source": [
    "class ArbitraryDataclass():\n",
    "    def __init__(self, **kwargs):\n",
    "        for key, val in kwargs.items():\n",
    "            setattr(self, key, val)\n",
    "            \n",
    "class DataDict():\n",
    "    def __init__(self):\n",
    "        self.__dict = {}\n",
    "        \n",
    "    def __setitem__(self, key, val):\n",
    "        self.__dict[key] = ArbitraryDataclass(**val)\n",
    "        \n",
    "    def __getitem__(self, key):\n",
    "        return self.__dict[key]\n",
    "\n",
    "models = ['m1', 'm2', ]\n",
    "data = DataDict()\n",
    "\n",
    "def data_prep(data, models):\n",
    "    for m in models:\n",
    "        a = m + '-a'\n",
    "        b = m + '-b'\n",
    "        data[m] = locals()\n",
    "\n",
    "def visualize(data, models):\n",
    "    for m in models:\n",
    "        l = data[m]\n",
    "        print(l.a, l.b, )\n",
    "\n",
    "data_prep(data, models)\n",
    "visualize(data, models)\n",
    "\n",
    "data['m1'].train"
   ]
  },
  {
   "cell_type": "code",
   "execution_count": 84,
   "metadata": {},
   "outputs": [],
   "source": [
    "q = 'asd'"
   ]
  },
  {
   "cell_type": "code",
   "execution_count": 56,
   "metadata": {},
   "outputs": [
    {
     "ename": "KeyError",
     "evalue": "'m'",
     "output_type": "error",
     "traceback": [
      "\u001b[0;31m---------------------------------------------------------------------------\u001b[0m",
      "\u001b[0;31mKeyError\u001b[0m                                  Traceback (most recent call last)",
      "\u001b[0;32m<ipython-input-56-395b77183a02>\u001b[0m in \u001b[0;36m<module>\u001b[0;34m\u001b[0m\n\u001b[0;32m----> 1\u001b[0;31m \u001b[0md\u001b[0m\u001b[0;34m[\u001b[0m\u001b[0;34m'm'\u001b[0m\u001b[0;34m]\u001b[0m\u001b[0;34m\u001b[0m\u001b[0;34m\u001b[0m\u001b[0m\n\u001b[0m",
      "\u001b[0;31mKeyError\u001b[0m: 'm'"
     ]
    }
   ],
   "source": [
    "d['m']"
   ]
  }
 ],
 "metadata": {
  "kernelspec": {
   "display_name": "Python 3",
   "language": "python",
   "name": "python3"
  },
  "language_info": {
   "codemirror_mode": {
    "name": "ipython",
    "version": 3
   },
   "file_extension": ".py",
   "mimetype": "text/x-python",
   "name": "python",
   "nbconvert_exporter": "python",
   "pygments_lexer": "ipython3",
   "version": "3.7.6"
  }
 },
 "nbformat": 4,
 "nbformat_minor": 4
}

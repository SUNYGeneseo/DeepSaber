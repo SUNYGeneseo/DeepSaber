{
 "cells": [
  {
   "cell_type": "markdown",
   "metadata": {},
   "source": [
    "# Data exploration"
   ]
  },
  {
   "cell_type": "code",
   "execution_count": 1,
   "metadata": {},
   "outputs": [],
   "source": [
    "from typing import Tuple\n",
    "import pandas as pd\n",
    "import sys\n",
    "sys.path.append(\"../\") # go to parent dir\n",
    "\n",
    "def load_datasets(storage_folder) -> Tuple[pd.DataFrame, pd.DataFrame, pd.DataFrame]:\n",
    "    return [pd.read_pickle(storage_folder / f'{phase}_beatmaps.pkl') for phase in\n",
    "            ['train', 'val', 'test']]"
   ]
  },
  {
   "cell_type": "code",
   "execution_count": 2,
   "metadata": {},
   "outputs": [],
   "source": [
    "from IPython.display import display, Markdown, Latex\n",
    "\n",
    "def dataset_stats(df: pd.DataFrame):\n",
    "    # 1/2 of snippets are overlapping\n",
    "    group_over = ['name', 'difficulty', 'snippet', 'time', ]\n",
    "    for end_index in range(1, len(group_over) + 1):\n",
    "        print(f\"{df.groupby(group_over[:end_index]).ngroups:9} unique {' × '.join(group_over[:end_index])}\")\n",
    "    \n",
    "    print(f\"{df.groupby(['name']).apply(lambda x: x.index.to_frame()['time'].max()).sum() / 3600:9.2f} \"\n",
    "          'hours of unique audio')\n",
    "    print(f\"{df.groupby(['name', 'difficulty']).apply(lambda x: x.index.to_frame()['time'].max()).sum() / 3600:9.2f} \"\n",
    "          'hours of unique gameplay')\n",
    "    print(f\"{len(df['word'].unique()):9} unique actions\")\n",
    "\n",
    "def whole_dataset_stats(train, val, test):\n",
    "    display(Markdown('### Train'))\n",
    "    dataset_stats(train)\n",
    "    display(Markdown('### Validation'))\n",
    "    dataset_stats(val)\n",
    "    display(Markdown('### Test'))\n",
    "    dataset_stats(test)\n",
    "    display(Markdown('### Unique actions overlap'))\n",
    "    print(f'{len(set(val.word.unique()) - set(train.word.unique())):9} unique actions in validation compared to train')\n",
    "    print(f'{len(set(test.word.unique()) - set(train.word.unique()) - set(val.word.unique())):9} unique actions in test compared to train and validation')"
   ]
  },
  {
   "cell_type": "code",
   "execution_count": 3,
   "metadata": {},
   "outputs": [],
   "source": [
    "from pathlib import Path"
   ]
  },
  {
   "cell_type": "code",
   "execution_count": 105,
   "metadata": {},
   "outputs": [
    {
     "data": {
      "text/markdown": [
       "## Our dataset"
      ],
      "text/plain": [
       "<IPython.core.display.Markdown object>"
      ]
     },
     "metadata": {},
     "output_type": "display_data"
    },
    {
     "data": {
      "text/markdown": [
       "### Train"
      ],
      "text/plain": [
       "<IPython.core.display.Markdown object>"
      ]
     },
     "metadata": {},
     "output_type": "display_data"
    },
    {
     "name": "stdout",
     "output_type": "stream",
     "text": [
      "      705 unique name\n",
      "     1615 unique name × difficulty\n",
      "    33883 unique name × difficulty × snippet\n",
      "  1694150 unique name × difficulty × snippet × time\n",
      "    38.07 hours of unique audio\n",
      "    86.68 hours of unique gameplay\n",
      "     2449 unique actions\n"
     ]
    },
    {
     "data": {
      "text/markdown": [
       "### Validation"
      ],
      "text/plain": [
       "<IPython.core.display.Markdown object>"
      ]
     },
     "metadata": {},
     "output_type": "display_data"
    },
    {
     "name": "stdout",
     "output_type": "stream",
     "text": [
      "       86 unique name\n",
      "      182 unique name × difficulty\n",
      "     3779 unique name × difficulty × snippet\n",
      "   188950 unique name × difficulty × snippet × time\n",
      "     4.49 hours of unique audio\n",
      "     9.22 hours of unique gameplay\n",
      "      924 unique actions\n"
     ]
    },
    {
     "data": {
      "text/markdown": [
       "### Test"
      ],
      "text/plain": [
       "<IPython.core.display.Markdown object>"
      ]
     },
     "metadata": {},
     "output_type": "display_data"
    },
    {
     "name": "stdout",
     "output_type": "stream",
     "text": [
      "       78 unique name\n",
      "      179 unique name × difficulty\n",
      "     4039 unique name × difficulty × snippet\n",
      "   201950 unique name × difficulty × snippet × time\n",
      "     4.23 hours of unique audio\n",
      "     9.36 hours of unique gameplay\n",
      "      946 unique actions\n"
     ]
    },
    {
     "data": {
      "text/markdown": [
       "### Unique actions overlap"
      ],
      "text/plain": [
       "<IPython.core.display.Markdown object>"
      ]
     },
     "metadata": {},
     "output_type": "display_data"
    },
    {
     "name": "stdout",
     "output_type": "stream",
     "text": [
      "       96 unique actions in validation compared to train\n",
      "       99 unique actions in test compared to train and validation\n"
     ]
    },
    {
     "data": {
      "text/markdown": [
       "## OxAI dataset"
      ],
      "text/plain": [
       "<IPython.core.display.Markdown object>"
      ]
     },
     "metadata": {},
     "output_type": "display_data"
    },
    {
     "data": {
      "text/markdown": [
       "### Train"
      ],
      "text/plain": [
       "<IPython.core.display.Markdown object>"
      ]
     },
     "metadata": {},
     "output_type": "display_data"
    },
    {
     "name": "stdout",
     "output_type": "stream",
     "text": [
      "      613 unique name\n",
      "     1499 unique name × difficulty\n",
      "    36141 unique name × difficulty × snippet\n",
      "  1807050 unique name × difficulty × snippet × time\n",
      "    32.48 hours of unique audio\n",
      "    77.61 hours of unique gameplay\n",
      "     2489 unique actions\n"
     ]
    },
    {
     "data": {
      "text/markdown": [
       "### Validation"
      ],
      "text/plain": [
       "<IPython.core.display.Markdown object>"
      ]
     },
     "metadata": {},
     "output_type": "display_data"
    },
    {
     "name": "stdout",
     "output_type": "stream",
     "text": [
      "       80 unique name\n",
      "      197 unique name × difficulty\n",
      "     4927 unique name × difficulty × snippet\n",
      "   246350 unique name × difficulty × snippet × time\n",
      "     4.28 hours of unique audio\n",
      "    10.40 hours of unique gameplay\n",
      "     1060 unique actions\n"
     ]
    },
    {
     "data": {
      "text/markdown": [
       "### Test"
      ],
      "text/plain": [
       "<IPython.core.display.Markdown object>"
      ]
     },
     "metadata": {},
     "output_type": "display_data"
    },
    {
     "name": "stdout",
     "output_type": "stream",
     "text": [
      "       72 unique name\n",
      "      152 unique name × difficulty\n",
      "     3916 unique name × difficulty × snippet\n",
      "   195800 unique name × difficulty × snippet × time\n",
      "     3.93 hours of unique audio\n",
      "     8.19 hours of unique gameplay\n",
      "      981 unique actions\n"
     ]
    },
    {
     "data": {
      "text/markdown": [
       "### Unique actions overlap"
      ],
      "text/plain": [
       "<IPython.core.display.Markdown object>"
      ]
     },
     "metadata": {},
     "output_type": "display_data"
    },
    {
     "name": "stdout",
     "output_type": "stream",
     "text": [
      "      105 unique actions in validation compared to train\n",
      "       79 unique actions in test compared to train and validation\n"
     ]
    }
   ],
   "source": [
    "display(Markdown('## Our dataset'))\n",
    "storage_folder = Path('../../data/old_datasets')\n",
    "whole_dataset_stats(*load_datasets(storage_folder))\n",
    "\n",
    "display(Markdown('## OxAI dataset'))\n",
    "storage_folder = Path('../../data/new_datasets')\n",
    "whole_dataset_stats(*load_datasets(storage_folder))"
   ]
  },
  {
   "cell_type": "markdown",
   "metadata": {},
   "source": [
    "## Number of beat elements per action"
   ]
  },
  {
   "cell_type": "code",
   "execution_count": 204,
   "metadata": {},
   "outputs": [],
   "source": [
    "import matplotlib.pyplot as plt\n",
    "plt.rcParams.update({'font.size': 21})\n",
    "\n",
    "def plot_action_distro(df: pd.DataFrame):\n",
    "    ax = (train.word.str.len() // 5 + 1).value_counts().sort_index().plot.bar(logy=True, figsize=(16, 8))\n",
    "    ax.set_title('Number of beat elements per action')\n",
    "\n",
    "    by_difficulty = train.groupby('difficulty').apply(lambda df: (df.word.str.len() // 5 + 1).value_counts().sort_index().to_frame().T)\n",
    "\n",
    "    by_difficulty.index = by_difficulty.index.droplevel(1)\n",
    "\n",
    "    ax = by_difficulty.reindex(['Easy', 'Normal', 'Hard', 'Expert', 'ExpertPlus',], fill_value=0.0).plot.bar(logy=True, figsize=(16, 8))\n",
    "    ax.set_title('Number of beat elements per action per distribution')\n",
    "    ax.set_ylabel('# of actions')"
   ]
  },
  {
   "cell_type": "code",
   "execution_count": 4,
   "metadata": {
    "scrolled": false
   },
   "outputs": [
    {
     "data": {
      "text/markdown": [
       "## Our dataset"
      ],
      "text/plain": [
       "<IPython.core.display.Markdown object>"
      ]
     },
     "metadata": {},
     "output_type": "display_data"
    },
    {
     "ename": "NameError",
     "evalue": "name 'plot_action_distro' is not defined",
     "output_type": "error",
     "traceback": [
      "\u001b[0;31m---------------------------------------------------------------------------\u001b[0m",
      "\u001b[0;31mNameError\u001b[0m                                 Traceback (most recent call last)",
      "\u001b[0;32m<ipython-input-4-48ed6e0ef74c>\u001b[0m in \u001b[0;36m<module>\u001b[0;34m\u001b[0m\n\u001b[1;32m      2\u001b[0m \u001b[0mstorage_folder\u001b[0m \u001b[0;34m=\u001b[0m \u001b[0mPath\u001b[0m\u001b[0;34m(\u001b[0m\u001b[0;34m'../../data/old_datasets'\u001b[0m\u001b[0;34m)\u001b[0m\u001b[0;34m\u001b[0m\u001b[0;34m\u001b[0m\u001b[0m\n\u001b[1;32m      3\u001b[0m \u001b[0mtrain\u001b[0m\u001b[0;34m,\u001b[0m \u001b[0mval\u001b[0m\u001b[0;34m,\u001b[0m \u001b[0mtest\u001b[0m \u001b[0;34m=\u001b[0m \u001b[0mload_datasets\u001b[0m\u001b[0;34m(\u001b[0m\u001b[0mstorage_folder\u001b[0m\u001b[0;34m)\u001b[0m\u001b[0;34m\u001b[0m\u001b[0;34m\u001b[0m\u001b[0m\n\u001b[0;32m----> 4\u001b[0;31m \u001b[0mplot_action_distro\u001b[0m\u001b[0;34m(\u001b[0m\u001b[0mtrain\u001b[0m\u001b[0;34m)\u001b[0m\u001b[0;34m\u001b[0m\u001b[0;34m\u001b[0m\u001b[0m\n\u001b[0m",
      "\u001b[0;31mNameError\u001b[0m: name 'plot_action_distro' is not defined"
     ]
    }
   ],
   "source": [
    "display(Markdown('## Our dataset'))\n",
    "storage_folder = Path('../../data/old_datasets')\n",
    "train, val, test = load_datasets(storage_folder)\n",
    "plot_action_distro(train)"
   ]
  },
  {
   "cell_type": "code",
   "execution_count": 6,
   "metadata": {},
   "outputs": [
    {
     "data": {
      "text/markdown": [
       "## OxAI dataset"
      ],
      "text/plain": [
       "<IPython.core.display.Markdown object>"
      ]
     },
     "metadata": {},
     "output_type": "display_data"
    },
    {
     "ename": "NameError",
     "evalue": "name 'plot_action_distro' is not defined",
     "output_type": "error",
     "traceback": [
      "\u001b[0;31m---------------------------------------------------------------------------\u001b[0m",
      "\u001b[0;31mNameError\u001b[0m                                 Traceback (most recent call last)",
      "\u001b[0;32m<ipython-input-6-71a6fcf75943>\u001b[0m in \u001b[0;36m<module>\u001b[0;34m\u001b[0m\n\u001b[1;32m      2\u001b[0m \u001b[0mstorage_folder\u001b[0m \u001b[0;34m=\u001b[0m \u001b[0mPath\u001b[0m\u001b[0;34m(\u001b[0m\u001b[0;34m'../../data/new_datasets'\u001b[0m\u001b[0;34m)\u001b[0m\u001b[0;34m\u001b[0m\u001b[0;34m\u001b[0m\u001b[0m\n\u001b[1;32m      3\u001b[0m \u001b[0mtrain\u001b[0m\u001b[0;34m,\u001b[0m \u001b[0mval\u001b[0m\u001b[0;34m,\u001b[0m \u001b[0mtest\u001b[0m \u001b[0;34m=\u001b[0m \u001b[0mload_datasets\u001b[0m\u001b[0;34m(\u001b[0m\u001b[0mstorage_folder\u001b[0m\u001b[0;34m)\u001b[0m\u001b[0;34m\u001b[0m\u001b[0;34m\u001b[0m\u001b[0m\n\u001b[0;32m----> 4\u001b[0;31m \u001b[0mplot_action_distro\u001b[0m\u001b[0;34m(\u001b[0m\u001b[0mtrain\u001b[0m\u001b[0;34m)\u001b[0m\u001b[0;34m\u001b[0m\u001b[0;34m\u001b[0m\u001b[0m\n\u001b[0m",
      "\u001b[0;31mNameError\u001b[0m: name 'plot_action_distro' is not defined"
     ]
    }
   ],
   "source": [
    "display(Markdown('## OxAI dataset'))\n",
    "storage_folder = Path('../../data/new_datasets')\n",
    "train, val, test = load_datasets(storage_folder)\n",
    "plot_action_distro(train)"
   ]
  },
  {
   "cell_type": "markdown",
   "metadata": {},
   "source": [
    "## Song length"
   ]
  },
  {
   "cell_type": "code",
   "execution_count": 217,
   "metadata": {},
   "outputs": [],
   "source": [
    "def create_sentence(x):\n",
    "    x.name = 'word'\n",
    "    x = x.reset_index('time')\n",
    "    x = x.drop_duplicates('time')\n",
    "    return x.word.to_list()\n",
    "\n",
    "def plot_sentence_lengths(df):\n",
    "    lengths = df.droplevel(2).word.groupby(['name', 'difficulty']).apply(create_sentence).str.len()\n",
    "    ax = lengths.plot.hist(figsize=(16, 8))\n",
    "    ax.set_xlabel('Sentence length [# words]')\n",
    "    display(lengths.describe().to_frame())"
   ]
  },
  {
   "cell_type": "code",
   "execution_count": 218,
   "metadata": {},
   "outputs": [
    {
     "data": {
      "text/markdown": [
       "## Our dataset"
      ],
      "text/plain": [
       "<IPython.core.display.Markdown object>"
      ]
     },
     "metadata": {},
     "output_type": "display_data"
    },
    {
     "data": {
      "text/html": [
       "<div>\n",
       "<style scoped>\n",
       "    .dataframe tbody tr th:only-of-type {\n",
       "        vertical-align: middle;\n",
       "    }\n",
       "\n",
       "    .dataframe tbody tr th {\n",
       "        vertical-align: top;\n",
       "    }\n",
       "\n",
       "    .dataframe thead th {\n",
       "        text-align: right;\n",
       "    }\n",
       "</style>\n",
       "<table border=\"1\" class=\"dataframe\">\n",
       "  <thead>\n",
       "    <tr style=\"text-align: right;\">\n",
       "      <th></th>\n",
       "      <th>word</th>\n",
       "    </tr>\n",
       "  </thead>\n",
       "  <tbody>\n",
       "    <tr>\n",
       "      <th>count</th>\n",
       "      <td>1615.000000</td>\n",
       "    </tr>\n",
       "    <tr>\n",
       "      <th>mean</th>\n",
       "      <td>512.653251</td>\n",
       "    </tr>\n",
       "    <tr>\n",
       "      <th>std</th>\n",
       "      <td>250.657588</td>\n",
       "    </tr>\n",
       "    <tr>\n",
       "      <th>min</th>\n",
       "      <td>57.000000</td>\n",
       "    </tr>\n",
       "    <tr>\n",
       "      <th>25%</th>\n",
       "      <td>329.500000</td>\n",
       "    </tr>\n",
       "    <tr>\n",
       "      <th>50%</th>\n",
       "      <td>469.000000</td>\n",
       "    </tr>\n",
       "    <tr>\n",
       "      <th>75%</th>\n",
       "      <td>645.000000</td>\n",
       "    </tr>\n",
       "    <tr>\n",
       "      <th>max</th>\n",
       "      <td>1701.000000</td>\n",
       "    </tr>\n",
       "  </tbody>\n",
       "</table>\n",
       "</div>"
      ],
      "text/plain": [
       "              word\n",
       "count  1615.000000\n",
       "mean    512.653251\n",
       "std     250.657588\n",
       "min      57.000000\n",
       "25%     329.500000\n",
       "50%     469.000000\n",
       "75%     645.000000\n",
       "max    1701.000000"
      ]
     },
     "metadata": {},
     "output_type": "display_data"
    },
    {
     "data": {
      "image/png": "[encoded data removed]",
      "text/plain": [
       "<Figure size 1152x576 with 1 Axes>"
      ]
     },
     "metadata": {
      "needs_background": "light"
     },
     "output_type": "display_data"
    }
   ],
   "source": [
    "display(Markdown('## Our dataset'))\n",
    "storage_folder = Path('../../data/old_datasets')\n",
    "train, val, test = load_datasets(storage_folder)\n",
    "plot_sentence_lengths(train)"
   ]
  },
  {
   "cell_type": "code",
   "execution_count": 17,
   "metadata": {},
   "outputs": [
    {
     "data": {
      "text/markdown": [
       "## OxAI dataset"
      ],
      "text/plain": [
       "<IPython.core.display.Markdown object>"
      ]
     },
     "metadata": {},
     "output_type": "display_data"
    }
   ],
   "source": [
    "display(Markdown('## OxAI dataset'))\n",
    "storage_folder = Path('../../data/new_datasets')\n",
    "train, val, test = load_datasets(storage_folder)\n",
    "plot_sentence_lengths(train)"
   ]
  },
  {
   "cell_type": "markdown",
   "metadata": {},
   "source": [
    "## WordVec velocity"
   ]
  },
  {
   "cell_type": "code",
   "execution_count": 18,
   "metadata": {},
   "outputs": [
    {
     "data": {
      "text/html": [
       "<div>\n",
       "<style scoped>\n",
       "    .dataframe tbody tr th:only-of-type {\n",
       "        vertical-align: middle;\n",
       "    }\n",
       "\n",
       "    .dataframe tbody tr th {\n",
       "        vertical-align: top;\n",
       "    }\n",
       "\n",
       "    .dataframe thead th {\n",
       "        text-align: right;\n",
       "    }\n",
       "</style>\n",
       "<table border=\"1\" class=\"dataframe\">\n",
       "  <thead>\n",
       "    <tr style=\"text-align: right;\">\n",
       "      <th></th>\n",
       "      <th></th>\n",
       "      <th></th>\n",
       "      <th></th>\n",
       "      <th>l_lineLayer</th>\n",
       "      <th>l_lineIndex</th>\n",
       "      <th>l_cutDirection</th>\n",
       "      <th>r_lineLayer</th>\n",
       "      <th>r_lineIndex</th>\n",
       "      <th>r_cutDirection</th>\n",
       "      <th>word</th>\n",
       "      <th>prev</th>\n",
       "      <th>next</th>\n",
       "      <th>part</th>\n",
       "      <th>...</th>\n",
       "      <th>word_vec</th>\n",
       "      <th>word_id</th>\n",
       "      <th>prev_l_lineLayer</th>\n",
       "      <th>prev_l_lineIndex</th>\n",
       "      <th>prev_l_cutDirection</th>\n",
       "      <th>prev_r_lineLayer</th>\n",
       "      <th>prev_r_lineIndex</th>\n",
       "      <th>prev_r_cutDirection</th>\n",
       "      <th>prev_word_vec</th>\n",
       "      <th>prev_word_id</th>\n",
       "    </tr>\n",
       "    <tr>\n",
       "      <th>name</th>\n",
       "      <th>difficulty</th>\n",
       "      <th>snippet</th>\n",
       "      <th>time</th>\n",
       "      <th></th>\n",
       "      <th></th>\n",
       "      <th></th>\n",
       "      <th></th>\n",
       "      <th></th>\n",
       "      <th></th>\n",
       "      <th></th>\n",
       "      <th></th>\n",
       "      <th></th>\n",
       "      <th></th>\n",
       "      <th></th>\n",
       "      <th></th>\n",
       "      <th></th>\n",
       "      <th></th>\n",
       "      <th></th>\n",
       "      <th></th>\n",
       "      <th></th>\n",
       "      <th></th>\n",
       "      <th></th>\n",
       "      <th></th>\n",
       "      <th></th>\n",
       "    </tr>\n",
       "  </thead>\n",
       "  <tbody>\n",
       "    <tr>\n",
       "      <th rowspan=\"2\" valign=\"top\">30ef</th>\n",
       "      <th rowspan=\"2\" valign=\"top\">Expert</th>\n",
       "      <th rowspan=\"2\" valign=\"top\">0</th>\n",
       "      <th>6.276</th>\n",
       "      <td>0</td>\n",
       "      <td>0</td>\n",
       "      <td>8</td>\n",
       "      <td>0</td>\n",
       "      <td>1</td>\n",
       "      <td>8</td>\n",
       "      <td>L008_R018</td>\n",
       "      <td>0.660</td>\n",
       "      <td>0.661</td>\n",
       "      <td>0.019023</td>\n",
       "      <td>...</td>\n",
       "      <td>[0.06204, 0.802, -0.0704, -0.4146, -0.1514, -0...</td>\n",
       "      <td>370</td>\n",
       "      <td>0</td>\n",
       "      <td>2</td>\n",
       "      <td>8</td>\n",
       "      <td>0</td>\n",
       "      <td>3</td>\n",
       "      <td>8</td>\n",
       "      <td>[-0.011314, 0.6533, -0.1385, -0.4766, -0.1547,...</td>\n",
       "      <td>392.0</td>\n",
       "    </tr>\n",
       "    <tr>\n",
       "      <th>6.937</th>\n",
       "      <td>2</td>\n",
       "      <td>2</td>\n",
       "      <td>8</td>\n",
       "      <td>2</td>\n",
       "      <td>3</td>\n",
       "      <td>8</td>\n",
       "      <td>L228_R238</td>\n",
       "      <td>0.661</td>\n",
       "      <td>0.660</td>\n",
       "      <td>0.021027</td>\n",
       "      <td>...</td>\n",
       "      <td>[0.4087, 0.288, -0.0749, -0.3352, 0.0555, -0.3...</td>\n",
       "      <td>371</td>\n",
       "      <td>0</td>\n",
       "      <td>0</td>\n",
       "      <td>8</td>\n",
       "      <td>0</td>\n",
       "      <td>1</td>\n",
       "      <td>8</td>\n",
       "      <td>[0.06204, 0.802, -0.0704, -0.4146, -0.1514, -0...</td>\n",
       "      <td>370.0</td>\n",
       "    </tr>\n",
       "  </tbody>\n",
       "</table>\n",
       "<p>2 rows × 21 columns</p>\n",
       "</div>"
      ],
      "text/plain": [
       "                               l_lineLayer  l_lineIndex  l_cutDirection  \\\n",
       "name difficulty snippet time                                              \n",
       "30ef Expert     0       6.276            0            0               8   \n",
       "                        6.937            2            2               8   \n",
       "\n",
       "                               r_lineLayer  r_lineIndex  r_cutDirection  \\\n",
       "name difficulty snippet time                                              \n",
       "30ef Expert     0       6.276            0            1               8   \n",
       "                        6.937            2            3               8   \n",
       "\n",
       "                                    word   prev   next      part  ...  \\\n",
       "name difficulty snippet time                                      ...   \n",
       "30ef Expert     0       6.276  L008_R018  0.660  0.661  0.019023  ...   \n",
       "                        6.937  L228_R238  0.661  0.660  0.021027  ...   \n",
       "\n",
       "                                                                        word_vec  \\\n",
       "name difficulty snippet time                                                       \n",
       "30ef Expert     0       6.276  [0.06204, 0.802, -0.0704, -0.4146, -0.1514, -0...   \n",
       "                        6.937  [0.4087, 0.288, -0.0749, -0.3352, 0.0555, -0.3...   \n",
       "\n",
       "                              word_id  prev_l_lineLayer  prev_l_lineIndex  \\\n",
       "name difficulty snippet time                                                \n",
       "30ef Expert     0       6.276     370                 0                 2   \n",
       "                        6.937     371                 0                 0   \n",
       "\n",
       "                               prev_l_cutDirection  prev_r_lineLayer  \\\n",
       "name difficulty snippet time                                           \n",
       "30ef Expert     0       6.276                    8                 0   \n",
       "                        6.937                    8                 0   \n",
       "\n",
       "                               prev_r_lineIndex  prev_r_cutDirection  \\\n",
       "name difficulty snippet time                                           \n",
       "30ef Expert     0       6.276                 3                    8   \n",
       "                        6.937                 1                    8   \n",
       "\n",
       "                                                                   prev_word_vec  \\\n",
       "name difficulty snippet time                                                       \n",
       "30ef Expert     0       6.276  [-0.011314, 0.6533, -0.1385, -0.4766, -0.1547,...   \n",
       "                        6.937  [0.06204, 0.802, -0.0704, -0.4146, -0.1514, -0...   \n",
       "\n",
       "                              prev_word_id  \n",
       "name difficulty snippet time                \n",
       "30ef Expert     0       6.276        392.0  \n",
       "                        6.937        370.0  \n",
       "\n",
       "[2 rows x 21 columns]"
      ]
     },
     "execution_count": 18,
     "metadata": {},
     "output_type": "execute_result"
    }
   ],
   "source": [
    "val.head(2)"
   ]
  },
  {
   "cell_type": "code",
   "execution_count": 20,
   "metadata": {},
   "outputs": [
    {
     "data": {
      "text/html": [
       "<div>\n",
       "<style scoped>\n",
       "    .dataframe tbody tr th:only-of-type {\n",
       "        vertical-align: middle;\n",
       "    }\n",
       "\n",
       "    .dataframe tbody tr th {\n",
       "        vertical-align: top;\n",
       "    }\n",
       "\n",
       "    .dataframe thead th {\n",
       "        text-align: right;\n",
       "    }\n",
       "</style>\n",
       "<table border=\"1\" class=\"dataframe\">\n",
       "  <thead>\n",
       "    <tr style=\"text-align: right;\">\n",
       "      <th></th>\n",
       "      <th></th>\n",
       "      <th></th>\n",
       "      <th>l_lineLayer</th>\n",
       "      <th>l_lineIndex</th>\n",
       "      <th>l_cutDirection</th>\n",
       "      <th>r_lineLayer</th>\n",
       "      <th>r_lineIndex</th>\n",
       "      <th>r_cutDirection</th>\n",
       "      <th>word</th>\n",
       "      <th>prev</th>\n",
       "      <th>next</th>\n",
       "      <th>part</th>\n",
       "      <th>...</th>\n",
       "      <th>word_vec</th>\n",
       "      <th>word_id</th>\n",
       "      <th>prev_l_lineLayer</th>\n",
       "      <th>prev_l_lineIndex</th>\n",
       "      <th>prev_l_cutDirection</th>\n",
       "      <th>prev_r_lineLayer</th>\n",
       "      <th>prev_r_lineIndex</th>\n",
       "      <th>prev_r_cutDirection</th>\n",
       "      <th>prev_word_vec</th>\n",
       "      <th>prev_word_id</th>\n",
       "    </tr>\n",
       "    <tr>\n",
       "      <th>name</th>\n",
       "      <th>difficulty</th>\n",
       "      <th>time</th>\n",
       "      <th></th>\n",
       "      <th></th>\n",
       "      <th></th>\n",
       "      <th></th>\n",
       "      <th></th>\n",
       "      <th></th>\n",
       "      <th></th>\n",
       "      <th></th>\n",
       "      <th></th>\n",
       "      <th></th>\n",
       "      <th></th>\n",
       "      <th></th>\n",
       "      <th></th>\n",
       "      <th></th>\n",
       "      <th></th>\n",
       "      <th></th>\n",
       "      <th></th>\n",
       "      <th></th>\n",
       "      <th></th>\n",
       "      <th></th>\n",
       "      <th></th>\n",
       "    </tr>\n",
       "  </thead>\n",
       "  <tbody>\n",
       "    <tr>\n",
       "      <th rowspan=\"2\" valign=\"top\">30ef</th>\n",
       "      <th rowspan=\"2\" valign=\"top\">Expert</th>\n",
       "      <th>6.276</th>\n",
       "      <td>0</td>\n",
       "      <td>0</td>\n",
       "      <td>8</td>\n",
       "      <td>0</td>\n",
       "      <td>1</td>\n",
       "      <td>8</td>\n",
       "      <td>L008_R018</td>\n",
       "      <td>0.660</td>\n",
       "      <td>0.661</td>\n",
       "      <td>0.019023</td>\n",
       "      <td>...</td>\n",
       "      <td>[0.06204, 0.802, -0.0704, -0.4146, -0.1514, -0...</td>\n",
       "      <td>370</td>\n",
       "      <td>0</td>\n",
       "      <td>2</td>\n",
       "      <td>8</td>\n",
       "      <td>0</td>\n",
       "      <td>3</td>\n",
       "      <td>8</td>\n",
       "      <td>[-0.011314, 0.6533, -0.1385, -0.4766, -0.1547,...</td>\n",
       "      <td>392.0</td>\n",
       "    </tr>\n",
       "    <tr>\n",
       "      <th>6.937</th>\n",
       "      <td>2</td>\n",
       "      <td>2</td>\n",
       "      <td>8</td>\n",
       "      <td>2</td>\n",
       "      <td>3</td>\n",
       "      <td>8</td>\n",
       "      <td>L228_R238</td>\n",
       "      <td>0.661</td>\n",
       "      <td>0.660</td>\n",
       "      <td>0.021027</td>\n",
       "      <td>...</td>\n",
       "      <td>[0.4087, 0.288, -0.0749, -0.3352, 0.0555, -0.3...</td>\n",
       "      <td>371</td>\n",
       "      <td>0</td>\n",
       "      <td>0</td>\n",
       "      <td>8</td>\n",
       "      <td>0</td>\n",
       "      <td>1</td>\n",
       "      <td>8</td>\n",
       "      <td>[0.06204, 0.802, -0.0704, -0.4146, -0.1514, -0...</td>\n",
       "      <td>370.0</td>\n",
       "    </tr>\n",
       "  </tbody>\n",
       "</table>\n",
       "<p>2 rows × 21 columns</p>\n",
       "</div>"
      ],
      "text/plain": [
       "                       l_lineLayer  l_lineIndex  l_cutDirection  r_lineLayer  \\\n",
       "name difficulty time                                                           \n",
       "30ef Expert     6.276            0            0               8            0   \n",
       "                6.937            2            2               8            2   \n",
       "\n",
       "                       r_lineIndex  r_cutDirection       word   prev   next  \\\n",
       "name difficulty time                                                          \n",
       "30ef Expert     6.276            1               8  L008_R018  0.660  0.661   \n",
       "                6.937            3               8  L228_R238  0.661  0.660   \n",
       "\n",
       "                           part  ...  \\\n",
       "name difficulty time             ...   \n",
       "30ef Expert     6.276  0.019023  ...   \n",
       "                6.937  0.021027  ...   \n",
       "\n",
       "                                                                word_vec  \\\n",
       "name difficulty time                                                       \n",
       "30ef Expert     6.276  [0.06204, 0.802, -0.0704, -0.4146, -0.1514, -0...   \n",
       "                6.937  [0.4087, 0.288, -0.0749, -0.3352, 0.0555, -0.3...   \n",
       "\n",
       "                      word_id  prev_l_lineLayer  prev_l_lineIndex  \\\n",
       "name difficulty time                                                \n",
       "30ef Expert     6.276     370                 0                 2   \n",
       "                6.937     371                 0                 0   \n",
       "\n",
       "                       prev_l_cutDirection  prev_r_lineLayer  \\\n",
       "name difficulty time                                           \n",
       "30ef Expert     6.276                    8                 0   \n",
       "                6.937                    8                 0   \n",
       "\n",
       "                       prev_r_lineIndex  prev_r_cutDirection  \\\n",
       "name difficulty time                                           \n",
       "30ef Expert     6.276                 3                    8   \n",
       "                6.937                 1                    8   \n",
       "\n",
       "                                                           prev_word_vec  \\\n",
       "name difficulty time                                                       \n",
       "30ef Expert     6.276  [-0.011314, 0.6533, -0.1385, -0.4766, -0.1547,...   \n",
       "                6.937  [0.06204, 0.802, -0.0704, -0.4146, -0.1514, -0...   \n",
       "\n",
       "                      prev_word_id  \n",
       "name difficulty time                \n",
       "30ef Expert     6.276        392.0  \n",
       "                6.937        370.0  \n",
       "\n",
       "[2 rows x 21 columns]"
      ]
     },
     "execution_count": 20,
     "metadata": {},
     "output_type": "execute_result"
    }
   ],
   "source": [
    "# def create_sentence(x):\n",
    "#     x.name = 'word'\n",
    "#     x = x.reset_index('time')\n",
    "#     x = x.drop_duplicates('time')\n",
    "#     x = x.word.str.cat(sep=' ')\n",
    "#     return x\n",
    "\n",
    "# def word_df2text(df: pd.DataFrame):\n",
    "#     return df.droplevel(2).word.groupby(['name', 'difficulty']).apply(create_sentence).str.cat(sep='\\n')\n",
    "nodup = val.droplevel(2)\n",
    "nodup = nodup.loc[~nodup.index.duplicated()]\n",
    "nodup.head(2)"
   ]
  },
  {
   "cell_type": "code",
   "execution_count": 21,
   "metadata": {},
   "outputs": [
    {
     "data": {
      "text/plain": [
       "name  difficulty  time  \n",
       "30ef  Expert      6.276     [0.06204, 0.802, -0.0704, -0.4146, -0.1514, -0...\n",
       "                  6.937     [0.4087, 0.288, -0.0749, -0.3352, 0.0555, -0.3...\n",
       "                  7.597     [0.0726, 0.3982, -0.1726, -0.2705, -0.2386, 0....\n",
       "                  8.093     [-0.313, -0.636, -0.1244, 0.0874, -0.3857, 0.3...\n",
       "                  8.258     [-0.3596, -0.1683, -0.335, -0.2322, 0.07153, 0...\n",
       "                                                  ...                        \n",
       "5695  Normal      84.300    [0.2656, -0.1178, 0.3367, 0.0794, 0.1754, -0.1...\n",
       "                  84.900    [0.1613, -0.1322, 0.2355, 0.2925, 0.2151, 0.22...\n",
       "                  85.500    [0.03885, -0.5884, 0.0778, -0.1375, -0.1312, 0...\n",
       "                  86.100    [0.00938, -0.3953, 0.1516, -0.1353, -0.03183, ...\n",
       "                  86.700    [-0.02002, 0.11383, 0.1425, -0.02528, 0.178, -...\n",
       "Name: word_vec, Length: 120702, dtype: object"
      ]
     },
     "execution_count": 21,
     "metadata": {},
     "output_type": "execute_result"
    }
   ],
   "source": [
    "nodup.word_vec"
   ]
  },
  {
   "cell_type": "code",
   "execution_count": 81,
   "metadata": {},
   "outputs": [
    {
     "data": {
      "text/html": [
       "<div>\n",
       "<style scoped>\n",
       "    .dataframe tbody tr th:only-of-type {\n",
       "        vertical-align: middle;\n",
       "    }\n",
       "\n",
       "    .dataframe tbody tr th {\n",
       "        vertical-align: top;\n",
       "    }\n",
       "\n",
       "    .dataframe thead th {\n",
       "        text-align: right;\n",
       "    }\n",
       "</style>\n",
       "<table border=\"1\" class=\"dataframe\">\n",
       "  <thead>\n",
       "    <tr style=\"text-align: right;\">\n",
       "      <th></th>\n",
       "      <th></th>\n",
       "      <th></th>\n",
       "      <th>0</th>\n",
       "      <th>1</th>\n",
       "      <th>2</th>\n",
       "      <th>3</th>\n",
       "      <th>4</th>\n",
       "      <th>5</th>\n",
       "      <th>6</th>\n",
       "      <th>7</th>\n",
       "      <th>8</th>\n",
       "      <th>9</th>\n",
       "      <th>...</th>\n",
       "      <th>246</th>\n",
       "      <th>247</th>\n",
       "      <th>248</th>\n",
       "      <th>249</th>\n",
       "      <th>250</th>\n",
       "      <th>251</th>\n",
       "      <th>252</th>\n",
       "      <th>253</th>\n",
       "      <th>254</th>\n",
       "      <th>255</th>\n",
       "    </tr>\n",
       "    <tr>\n",
       "      <th>name</th>\n",
       "      <th>difficulty</th>\n",
       "      <th>time</th>\n",
       "      <th></th>\n",
       "      <th></th>\n",
       "      <th></th>\n",
       "      <th></th>\n",
       "      <th></th>\n",
       "      <th></th>\n",
       "      <th></th>\n",
       "      <th></th>\n",
       "      <th></th>\n",
       "      <th></th>\n",
       "      <th></th>\n",
       "      <th></th>\n",
       "      <th></th>\n",
       "      <th></th>\n",
       "      <th></th>\n",
       "      <th></th>\n",
       "      <th></th>\n",
       "      <th></th>\n",
       "      <th></th>\n",
       "      <th></th>\n",
       "      <th></th>\n",
       "    </tr>\n",
       "  </thead>\n",
       "  <tbody>\n",
       "    <tr>\n",
       "      <th rowspan=\"5\" valign=\"top\">30ef</th>\n",
       "      <th rowspan=\"5\" valign=\"top\">Expert</th>\n",
       "      <th>6.276</th>\n",
       "      <td>0.062042</td>\n",
       "      <td>0.801758</td>\n",
       "      <td>-0.070374</td>\n",
       "      <td>-0.414551</td>\n",
       "      <td>-0.151367</td>\n",
       "      <td>-0.282227</td>\n",
       "      <td>0.133545</td>\n",
       "      <td>-0.202637</td>\n",
       "      <td>-0.400635</td>\n",
       "      <td>0.625977</td>\n",
       "      <td>...</td>\n",
       "      <td>-0.536133</td>\n",
       "      <td>-1.173828</td>\n",
       "      <td>-0.283203</td>\n",
       "      <td>0.595703</td>\n",
       "      <td>-0.522949</td>\n",
       "      <td>0.612793</td>\n",
       "      <td>0.054932</td>\n",
       "      <td>-0.343018</td>\n",
       "      <td>-0.354248</td>\n",
       "      <td>0.419922</td>\n",
       "    </tr>\n",
       "    <tr>\n",
       "      <th>6.937</th>\n",
       "      <td>0.408691</td>\n",
       "      <td>0.288086</td>\n",
       "      <td>-0.074890</td>\n",
       "      <td>-0.335205</td>\n",
       "      <td>0.055511</td>\n",
       "      <td>-0.324707</td>\n",
       "      <td>0.166016</td>\n",
       "      <td>-0.373047</td>\n",
       "      <td>-0.314697</td>\n",
       "      <td>0.365723</td>\n",
       "      <td>...</td>\n",
       "      <td>-0.086548</td>\n",
       "      <td>-0.296143</td>\n",
       "      <td>-0.335205</td>\n",
       "      <td>0.463623</td>\n",
       "      <td>-0.337158</td>\n",
       "      <td>0.110718</td>\n",
       "      <td>-0.221802</td>\n",
       "      <td>-0.517090</td>\n",
       "      <td>-0.413574</td>\n",
       "      <td>0.608398</td>\n",
       "    </tr>\n",
       "    <tr>\n",
       "      <th>7.597</th>\n",
       "      <td>0.072571</td>\n",
       "      <td>0.398193</td>\n",
       "      <td>-0.172607</td>\n",
       "      <td>-0.270508</td>\n",
       "      <td>-0.238647</td>\n",
       "      <td>0.024017</td>\n",
       "      <td>0.300781</td>\n",
       "      <td>-0.329346</td>\n",
       "      <td>-0.553711</td>\n",
       "      <td>0.089478</td>\n",
       "      <td>...</td>\n",
       "      <td>-0.355713</td>\n",
       "      <td>-0.560059</td>\n",
       "      <td>-0.399658</td>\n",
       "      <td>0.494385</td>\n",
       "      <td>-0.292236</td>\n",
       "      <td>0.229980</td>\n",
       "      <td>-0.232300</td>\n",
       "      <td>-0.437012</td>\n",
       "      <td>-0.072510</td>\n",
       "      <td>0.498779</td>\n",
       "    </tr>\n",
       "    <tr>\n",
       "      <th>8.093</th>\n",
       "      <td>-0.312988</td>\n",
       "      <td>-0.636230</td>\n",
       "      <td>-0.124390</td>\n",
       "      <td>0.087402</td>\n",
       "      <td>-0.385742</td>\n",
       "      <td>0.379639</td>\n",
       "      <td>-0.260986</td>\n",
       "      <td>0.687988</td>\n",
       "      <td>-0.532227</td>\n",
       "      <td>-0.638184</td>\n",
       "      <td>...</td>\n",
       "      <td>0.628906</td>\n",
       "      <td>-0.182495</td>\n",
       "      <td>-0.072937</td>\n",
       "      <td>-0.398682</td>\n",
       "      <td>0.122070</td>\n",
       "      <td>-0.494385</td>\n",
       "      <td>0.038330</td>\n",
       "      <td>-0.218262</td>\n",
       "      <td>-0.561035</td>\n",
       "      <td>-0.263916</td>\n",
       "    </tr>\n",
       "    <tr>\n",
       "      <th>8.258</th>\n",
       "      <td>-0.359619</td>\n",
       "      <td>-0.168335</td>\n",
       "      <td>-0.334961</td>\n",
       "      <td>-0.232178</td>\n",
       "      <td>0.071533</td>\n",
       "      <td>0.583496</td>\n",
       "      <td>-0.164917</td>\n",
       "      <td>0.536133</td>\n",
       "      <td>-0.556152</td>\n",
       "      <td>-0.810547</td>\n",
       "      <td>...</td>\n",
       "      <td>0.581543</td>\n",
       "      <td>0.176514</td>\n",
       "      <td>0.364502</td>\n",
       "      <td>-0.031647</td>\n",
       "      <td>0.240845</td>\n",
       "      <td>-0.395020</td>\n",
       "      <td>0.471680</td>\n",
       "      <td>0.619629</td>\n",
       "      <td>0.337646</td>\n",
       "      <td>-0.732910</td>\n",
       "    </tr>\n",
       "    <tr>\n",
       "      <th>...</th>\n",
       "      <th>...</th>\n",
       "      <th>...</th>\n",
       "      <td>...</td>\n",
       "      <td>...</td>\n",
       "      <td>...</td>\n",
       "      <td>...</td>\n",
       "      <td>...</td>\n",
       "      <td>...</td>\n",
       "      <td>...</td>\n",
       "      <td>...</td>\n",
       "      <td>...</td>\n",
       "      <td>...</td>\n",
       "      <td>...</td>\n",
       "      <td>...</td>\n",
       "      <td>...</td>\n",
       "      <td>...</td>\n",
       "      <td>...</td>\n",
       "      <td>...</td>\n",
       "      <td>...</td>\n",
       "      <td>...</td>\n",
       "      <td>...</td>\n",
       "      <td>...</td>\n",
       "      <td>...</td>\n",
       "    </tr>\n",
       "    <tr>\n",
       "      <th rowspan=\"5\" valign=\"top\">32c6</th>\n",
       "      <th rowspan=\"5\" valign=\"top\">Expert</th>\n",
       "      <th>13.908</th>\n",
       "      <td>-0.264160</td>\n",
       "      <td>-0.186523</td>\n",
       "      <td>-0.207764</td>\n",
       "      <td>-0.286621</td>\n",
       "      <td>0.098267</td>\n",
       "      <td>-0.125977</td>\n",
       "      <td>-0.009277</td>\n",
       "      <td>0.279541</td>\n",
       "      <td>-0.254639</td>\n",
       "      <td>-0.004940</td>\n",
       "      <td>...</td>\n",
       "      <td>-0.331543</td>\n",
       "      <td>-0.441895</td>\n",
       "      <td>-0.670410</td>\n",
       "      <td>-0.246216</td>\n",
       "      <td>-0.513672</td>\n",
       "      <td>0.140015</td>\n",
       "      <td>-0.624512</td>\n",
       "      <td>-0.753418</td>\n",
       "      <td>-0.685547</td>\n",
       "      <td>0.103210</td>\n",
       "    </tr>\n",
       "    <tr>\n",
       "      <th>14.377</th>\n",
       "      <td>-0.109619</td>\n",
       "      <td>0.051422</td>\n",
       "      <td>-0.152222</td>\n",
       "      <td>-0.283936</td>\n",
       "      <td>0.199829</td>\n",
       "      <td>0.129639</td>\n",
       "      <td>-0.059387</td>\n",
       "      <td>0.300781</td>\n",
       "      <td>-0.002277</td>\n",
       "      <td>0.181763</td>\n",
       "      <td>...</td>\n",
       "      <td>-0.044250</td>\n",
       "      <td>-0.393066</td>\n",
       "      <td>-0.435303</td>\n",
       "      <td>0.169556</td>\n",
       "      <td>-1.041016</td>\n",
       "      <td>0.472412</td>\n",
       "      <td>-0.425781</td>\n",
       "      <td>-0.577148</td>\n",
       "      <td>-0.612793</td>\n",
       "      <td>-0.045044</td>\n",
       "    </tr>\n",
       "    <tr>\n",
       "      <th>14.845</th>\n",
       "      <td>-0.264160</td>\n",
       "      <td>-0.186523</td>\n",
       "      <td>-0.207764</td>\n",
       "      <td>-0.286621</td>\n",
       "      <td>0.098267</td>\n",
       "      <td>-0.125977</td>\n",
       "      <td>-0.009277</td>\n",
       "      <td>0.279541</td>\n",
       "      <td>-0.254639</td>\n",
       "      <td>-0.004940</td>\n",
       "      <td>...</td>\n",
       "      <td>-0.331543</td>\n",
       "      <td>-0.441895</td>\n",
       "      <td>-0.670410</td>\n",
       "      <td>-0.246216</td>\n",
       "      <td>-0.513672</td>\n",
       "      <td>0.140015</td>\n",
       "      <td>-0.624512</td>\n",
       "      <td>-0.753418</td>\n",
       "      <td>-0.685547</td>\n",
       "      <td>0.103210</td>\n",
       "    </tr>\n",
       "    <tr>\n",
       "      <th>15.314</th>\n",
       "      <td>0.128296</td>\n",
       "      <td>0.236572</td>\n",
       "      <td>-0.263184</td>\n",
       "      <td>0.004379</td>\n",
       "      <td>-0.351562</td>\n",
       "      <td>0.267334</td>\n",
       "      <td>0.181152</td>\n",
       "      <td>0.535645</td>\n",
       "      <td>-0.107910</td>\n",
       "      <td>0.527832</td>\n",
       "      <td>...</td>\n",
       "      <td>0.514648</td>\n",
       "      <td>0.165283</td>\n",
       "      <td>0.421143</td>\n",
       "      <td>0.136597</td>\n",
       "      <td>-0.055756</td>\n",
       "      <td>-0.194824</td>\n",
       "      <td>0.329102</td>\n",
       "      <td>-0.089600</td>\n",
       "      <td>-0.307129</td>\n",
       "      <td>-0.147827</td>\n",
       "    </tr>\n",
       "    <tr>\n",
       "      <th>15.783</th>\n",
       "      <td>0.192017</td>\n",
       "      <td>0.086365</td>\n",
       "      <td>0.074524</td>\n",
       "      <td>-0.185913</td>\n",
       "      <td>0.560547</td>\n",
       "      <td>-0.478271</td>\n",
       "      <td>-0.107788</td>\n",
       "      <td>-0.203125</td>\n",
       "      <td>0.004852</td>\n",
       "      <td>0.128052</td>\n",
       "      <td>...</td>\n",
       "      <td>-0.576172</td>\n",
       "      <td>-0.060211</td>\n",
       "      <td>-0.303223</td>\n",
       "      <td>0.237061</td>\n",
       "      <td>-0.551758</td>\n",
       "      <td>0.582031</td>\n",
       "      <td>-0.531738</td>\n",
       "      <td>-0.361328</td>\n",
       "      <td>-0.007179</td>\n",
       "      <td>-0.042969</td>\n",
       "    </tr>\n",
       "  </tbody>\n",
       "</table>\n",
       "<p>9000 rows × 256 columns</p>\n",
       "</div>"
      ],
      "text/plain": [
       "                             0         1         2         3         4    \\\n",
       "name difficulty time                                                       \n",
       "30ef Expert     6.276   0.062042  0.801758 -0.070374 -0.414551 -0.151367   \n",
       "                6.937   0.408691  0.288086 -0.074890 -0.335205  0.055511   \n",
       "                7.597   0.072571  0.398193 -0.172607 -0.270508 -0.238647   \n",
       "                8.093  -0.312988 -0.636230 -0.124390  0.087402 -0.385742   \n",
       "                8.258  -0.359619 -0.168335 -0.334961 -0.232178  0.071533   \n",
       "...                          ...       ...       ...       ...       ...   \n",
       "32c6 Expert     13.908 -0.264160 -0.186523 -0.207764 -0.286621  0.098267   \n",
       "                14.377 -0.109619  0.051422 -0.152222 -0.283936  0.199829   \n",
       "                14.845 -0.264160 -0.186523 -0.207764 -0.286621  0.098267   \n",
       "                15.314  0.128296  0.236572 -0.263184  0.004379 -0.351562   \n",
       "                15.783  0.192017  0.086365  0.074524 -0.185913  0.560547   \n",
       "\n",
       "                             5         6         7         8         9    ...  \\\n",
       "name difficulty time                                                      ...   \n",
       "30ef Expert     6.276  -0.282227  0.133545 -0.202637 -0.400635  0.625977  ...   \n",
       "                6.937  -0.324707  0.166016 -0.373047 -0.314697  0.365723  ...   \n",
       "                7.597   0.024017  0.300781 -0.329346 -0.553711  0.089478  ...   \n",
       "                8.093   0.379639 -0.260986  0.687988 -0.532227 -0.638184  ...   \n",
       "                8.258   0.583496 -0.164917  0.536133 -0.556152 -0.810547  ...   \n",
       "...                          ...       ...       ...       ...       ...  ...   \n",
       "32c6 Expert     13.908 -0.125977 -0.009277  0.279541 -0.254639 -0.004940  ...   \n",
       "                14.377  0.129639 -0.059387  0.300781 -0.002277  0.181763  ...   \n",
       "                14.845 -0.125977 -0.009277  0.279541 -0.254639 -0.004940  ...   \n",
       "                15.314  0.267334  0.181152  0.535645 -0.107910  0.527832  ...   \n",
       "                15.783 -0.478271 -0.107788 -0.203125  0.004852  0.128052  ...   \n",
       "\n",
       "                             246       247       248       249       250  \\\n",
       "name difficulty time                                                       \n",
       "30ef Expert     6.276  -0.536133 -1.173828 -0.283203  0.595703 -0.522949   \n",
       "                6.937  -0.086548 -0.296143 -0.335205  0.463623 -0.337158   \n",
       "                7.597  -0.355713 -0.560059 -0.399658  0.494385 -0.292236   \n",
       "                8.093   0.628906 -0.182495 -0.072937 -0.398682  0.122070   \n",
       "                8.258   0.581543  0.176514  0.364502 -0.031647  0.240845   \n",
       "...                          ...       ...       ...       ...       ...   \n",
       "32c6 Expert     13.908 -0.331543 -0.441895 -0.670410 -0.246216 -0.513672   \n",
       "                14.377 -0.044250 -0.393066 -0.435303  0.169556 -1.041016   \n",
       "                14.845 -0.331543 -0.441895 -0.670410 -0.246216 -0.513672   \n",
       "                15.314  0.514648  0.165283  0.421143  0.136597 -0.055756   \n",
       "                15.783 -0.576172 -0.060211 -0.303223  0.237061 -0.551758   \n",
       "\n",
       "                             251       252       253       254       255  \n",
       "name difficulty time                                                      \n",
       "30ef Expert     6.276   0.612793  0.054932 -0.343018 -0.354248  0.419922  \n",
       "                6.937   0.110718 -0.221802 -0.517090 -0.413574  0.608398  \n",
       "                7.597   0.229980 -0.232300 -0.437012 -0.072510  0.498779  \n",
       "                8.093  -0.494385  0.038330 -0.218262 -0.561035 -0.263916  \n",
       "                8.258  -0.395020  0.471680  0.619629  0.337646 -0.732910  \n",
       "...                          ...       ...       ...       ...       ...  \n",
       "32c6 Expert     13.908  0.140015 -0.624512 -0.753418 -0.685547  0.103210  \n",
       "                14.377  0.472412 -0.425781 -0.577148 -0.612793 -0.045044  \n",
       "                14.845  0.140015 -0.624512 -0.753418 -0.685547  0.103210  \n",
       "                15.314 -0.194824  0.329102 -0.089600 -0.307129 -0.147827  \n",
       "                15.783  0.582031 -0.531738 -0.361328 -0.007179 -0.042969  \n",
       "\n",
       "[9000 rows x 256 columns]"
      ]
     },
     "execution_count": 81,
     "metadata": {},
     "output_type": "execute_result"
    }
   ],
   "source": [
    "import numpy as np\n",
    "\n",
    "top = 9000\n",
    "res = pd.DataFrame(np.array(nodup.word_vec.values.tolist())[:top], index=nodup.index[:top])\n",
    "res"
   ]
  },
  {
   "cell_type": "code",
   "execution_count": 132,
   "metadata": {},
   "outputs": [
    {
     "data": {
      "text/plain": [
       "4"
      ]
     },
     "execution_count": 132,
     "metadata": {},
     "output_type": "execute_result"
    }
   ],
   "source": [
    "a, b = [1, 2, 3], [1, 0, 1]\n",
    "np.dot(a, b)"
   ]
  },
  {
   "cell_type": "code",
   "execution_count": 134,
   "metadata": {},
   "outputs": [
    {
     "data": {
      "text/plain": [
       "4"
      ]
     },
     "execution_count": 134,
     "metadata": {},
     "output_type": "execute_result"
    }
   ],
   "source": [
    "np.sum(np.array(a) * b)"
   ]
  },
  {
   "cell_type": "code",
   "execution_count": 141,
   "metadata": {},
   "outputs": [],
   "source": [
    "from scipy.spatial import distance\n",
    "\n",
    "def cosine_dist(a, b):\n",
    "    return 1 - np.sum(a * b, axis=-1)  / (np.linalg.norm(a, axis=-1) * np.linalg.norm(b, axis=-1))"
   ]
  },
  {
   "cell_type": "code",
   "execution_count": 175,
   "metadata": {},
   "outputs": [
    {
     "data": {
      "text/plain": [
       "<matplotlib.axes._subplots.AxesSubplot at 0x7fa2fd4a9550>"
      ]
     },
     "execution_count": 175,
     "metadata": {},
     "output_type": "execute_result"
    },
    {
     "data": {
      "image/png": "[encoded data removed]",
      "text/plain": [
       "<Figure size 1008x432 with 1 Axes>"
      ]
     },
     "metadata": {
      "needs_background": "light"
     },
     "output_type": "display_data"
    }
   ],
   "source": [
    "def process_snippet(df):\n",
    "    means = df.iloc[::].rolling(7, win_type='boxcar').mean(std=7, tau=7, sym=False)\n",
    "\n",
    "#     velocity  = cosine_dist(means.values, means.shift(4).values)\n",
    "    diff = means - means.shift(4)\n",
    "    velocity = ((diff.dropna()**2).sum(axis=1))**(1/2)\n",
    "    return pd.Series(velocity).dropna()\n",
    "\n",
    "# means = res.groupby(['name', 'difficulty', 'snippet']).rolling(30).mean().dropna()\n",
    "# velocity = means - means.shift(1)\n",
    "# ((velocity**2).sum(axis=1)**(1/2)).reset_index(drop=True).plot()\n",
    "# means\n",
    "res.groupby(['name', 'difficulty']).apply(process_snippet).plot.hist(bins=24, figsize=(14, 6))"
   ]
  },
  {
   "cell_type": "markdown",
   "metadata": {},
   "source": [
    "## LaTeX DataFrame output"
   ]
  },
  {
   "cell_type": "code",
   "execution_count": 183,
   "metadata": {},
   "outputs": [
    {
     "data": {
      "text/plain": [
       "array(['AMENOHOAKARI', 'Adventure of a Lifetime',\n",
       "       'All Time Low (BOXINLION Remix)', 'Alone Slushii Remix', 'Always',\n",
       "       'Armed And Ready', 'BABYMETAL-Starlight', 'BRAVE JEWEL (TV size)',\n",
       "       'Bangarang', 'Beat it', 'Becoming', 'Black Rover (TV Size)',\n",
       "       'Bonfire', 'Bottle of Jack - Mikey Wax',\n",
       "       'Boulevard of Broken Dreams', 'Bring it Back - Tisoki',\n",
       "       'Careless Whisper', 'Closer', 'Conqueror', 'Courage',\n",
       "       'Crack Traxxxx', 'Crawling', 'Crossing Field',\n",
       "       'Darkside - Alan Walker', 'EC1-Rio', 'Fire Hive (Rickput)',\n",
       "       'Flat Zone 2', 'Good Morning USA', 'Goodbye to A World',\n",
       "       'Heaven Rd 2', \"Hideki Naganuma - AIN'T NOTHIN' LIKE A FUNKY BEAT\",\n",
       "       'High Hopes', 'Hitorigoto - ClariS', 'Hype feat. Such',\n",
       "       'Hyper Drive', 'Hysteria', 'I Knew You Were In Trouble',\n",
       "       'I Took A Pill In Ibiza (SeeB Remix)', 'I nyaned for Hours',\n",
       "       'Ignite (SAO)', 'John Powell - Test Drive', 'Jump Up, Super Star!',\n",
       "       'LAST GAME (TV-Size)', 'LUVORATORRRRRY',\n",
       "       'Last Dance (Custic Remix)', 'Megalovania (Cement City Remix)',\n",
       "       'New Dawn', 'Nice To Meet You, Mr. Earthling', 'Nightcore This',\n",
       "       'Nightcore-Senpai', 'No Money', 'No Pantalones',\n",
       "       'Omoi-SnowDrive(01.23)', 'Party Rock Anthem', 'Polish Girl',\n",
       "       'Pompeii', 'Professional Griefers', 'Rasputin (Funk Overload)',\n",
       "       'Ride', 'Sayoko', 'Senbonzakura Poppin Party cover', 'Shakedown',\n",
       "       'Since U Been Gone',\n",
       "       'Six Trillion Years and Overnight Story Roselia cover',\n",
       "       'Solo Camp Recommendation', 'The Bomb',\n",
       "       'The Everlasting Guilty Crown Roselia cover',\n",
       "       'The Force Theme (Far Out Remix)', 'The Fox', 'The Resistance',\n",
       "       'The World Revolving', 'Tieduprightnow', 'Uncle Fucker',\n",
       "       'Uptown Funk', 'Wareta Ringo', 'We Wont Be Alone',\n",
       "       'Weapon of Choice', 'When Can I See You Again', 'Your Love',\n",
       "       'Your Song', 'Zen Zen Zense', \"don't say lazy afterglow cover v2\",\n",
       "       'endless line', 'internet moms', 'meltdown', 'time to say goodbye'],\n",
       "      dtype=object)"
      ]
     },
     "execution_count": 183,
     "metadata": {},
     "output_type": "execute_result"
    }
   ],
   "source": [
    "storage_folder = Path('../../data/old_datasets')\n",
    "train, val, test = load_datasets(storage_folder)\n",
    "val.index.to_frame().name.unique()[:100]"
   ]
  },
  {
   "cell_type": "code",
   "execution_count": 116,
   "metadata": {},
   "outputs": [
    {
     "name": "stdout",
     "output_type": "stream",
     "text": [
      "\\begin{tabular}{llllrrrrrrlrrrllrrrrrrrlr}\n",
      "\\toprule\n",
      "     &        &   &       &  l\\_lineLayer &  l\\_lineIndex &  l\\_cutDirection &  r\\_lineLayer &  r\\_lineIndex &  r\\_cutDirection &       word &   prev &   next &      part &                                               mfcc &                                           word\\_vec &  word\\_id &  prev\\_l\\_lineLayer &  prev\\_l\\_lineIndex &  prev\\_l\\_cutDirection &  prev\\_r\\_lineLayer &  prev\\_r\\_lineIndex &  prev\\_r\\_cutDirection &                                      prev\\_word\\_vec &  prev\\_word\\_id \\\\\n",
      "name & difficulty & snippet & time &              &              &                 &              &              &                 &            &        &        &           &                                                    &                                                    &          &                   &                   &                      &                   &                   &                      &                                                    &               \\\\\n",
      "\\midrule\n",
      "30ef & Expert & 0 & 6.276 &            0 &            0 &               8 &            0 &            1 &               8 &  L008\\_R018 &  0.660 &  0.661 &  0.019023 &  [3.12, 9.734, -5.324, -2.65, -2.318, 2.762, 0.... &  [0.06204, 0.802, -0.0704, -0.4146, -0.1514, -0... &      370 &                 0 &                 2 &                    8 &                 0 &                 3 &                    8 &  [-0.011314, 0.6533, -0.1385, -0.4766, -0.1547,... &         392.0 \\\\\n",
      "     &        &   & 6.937 &            2 &            2 &               8 &            2 &            3 &               8 &  L228\\_R238 &  0.661 &  0.660 &  0.021027 &  [3.12, 9.734, -5.324, -2.65, -2.318, 2.762, 0.... &  [0.4087, 0.288, -0.0749, -0.3352, 0.0555, -0.3... &      371 &                 0 &                 0 &                    8 &                 0 &                 1 &                    8 &  [0.06204, 0.802, -0.0704, -0.4146, -0.1514, -0... &         370.0 \\\\\n",
      "     &        &   & 7.597 &            2 &            0 &               8 &            2 &            1 &               8 &  L208\\_R218 &  0.660 &  0.496 &  0.023027 &  [2.814, 11.266, -6.773, -2.705, -2.238, 3.87, ... &  [0.0726, 0.3982, -0.1726, -0.2705, -0.2386, 0.... &      372 &                 2 &                 2 &                    8 &                 2 &                 3 &                    8 &  [0.4087, 0.288, -0.0749, -0.3352, 0.0555, -0.3... &         371.0 \\\\\n",
      "     &        &   & 8.093 &            0 &            2 &               6 &            0 &            2 &               6 &       R026 &  0.496 &  0.165 &  0.024531 &  [2.568, 7.22, -7.535, -3.975, -3.318, 1.266, 0... &  [-0.313, -0.636, -0.1244, 0.0874, -0.3857, 0.3... &       58 &                 2 &                 0 &                    8 &                 2 &                 1 &                    8 &  [0.0726, 0.3982, -0.1726, -0.2705, -0.2386, 0.... &         372.0 \\\\\n",
      "     &        &   & 8.258 &            0 &            0 &               6 &            0 &            0 &               6 &       L006 &  0.165 &  0.330 &  0.025031 &  [2.568, 7.22, -7.535, -3.975, -3.318, 1.266, 0... &  [-0.3596, -0.1683, -0.335, -0.2322, 0.07153, 0... &       79 &                 0 &                 2 &                    6 &                 0 &                 2 &                    6 &  [-0.313, -0.636, -0.1244, 0.0874, -0.3857, 0.3... &          58.0 \\\\\n",
      "\\bottomrule\n",
      "\\end{tabular}\n",
      "\n",
      "Index(['l_lineLayer', 'l_lineIndex', 'l_cutDirection', 'r_lineLayer',\n",
      "       'r_lineIndex', 'r_cutDirection', 'word', 'prev', 'next', 'part', 'mfcc',\n",
      "       'word_vec', 'word_id', 'prev_l_lineLayer', 'prev_l_lineIndex',\n",
      "       'prev_l_cutDirection', 'prev_r_lineLayer', 'prev_r_lineIndex',\n",
      "       'prev_r_cutDirection', 'prev_word_vec', 'prev_word_id'],\n",
      "      dtype='object')\n"
     ]
    },
    {
     "data": {
      "text/html": [
       "<div>\n",
       "<style scoped>\n",
       "    .dataframe tbody tr th:only-of-type {\n",
       "        vertical-align: middle;\n",
       "    }\n",
       "\n",
       "    .dataframe tbody tr th {\n",
       "        vertical-align: top;\n",
       "    }\n",
       "\n",
       "    .dataframe thead th {\n",
       "        text-align: right;\n",
       "    }\n",
       "</style>\n",
       "<table border=\"1\" class=\"dataframe\">\n",
       "  <thead>\n",
       "    <tr style=\"text-align: right;\">\n",
       "      <th></th>\n",
       "      <th></th>\n",
       "      <th></th>\n",
       "      <th></th>\n",
       "      <th>l_lineLayer</th>\n",
       "      <th>l_lineIndex</th>\n",
       "      <th>l_cutDirection</th>\n",
       "      <th>r_lineLayer</th>\n",
       "      <th>r_lineIndex</th>\n",
       "      <th>r_cutDirection</th>\n",
       "      <th>word</th>\n",
       "      <th>prev</th>\n",
       "      <th>next</th>\n",
       "      <th>part</th>\n",
       "      <th>...</th>\n",
       "      <th>word_vec</th>\n",
       "      <th>word_id</th>\n",
       "      <th>prev_l_lineLayer</th>\n",
       "      <th>prev_l_lineIndex</th>\n",
       "      <th>prev_l_cutDirection</th>\n",
       "      <th>prev_r_lineLayer</th>\n",
       "      <th>prev_r_lineIndex</th>\n",
       "      <th>prev_r_cutDirection</th>\n",
       "      <th>prev_word_vec</th>\n",
       "      <th>prev_word_id</th>\n",
       "    </tr>\n",
       "    <tr>\n",
       "      <th>name</th>\n",
       "      <th>difficulty</th>\n",
       "      <th>snippet</th>\n",
       "      <th>time</th>\n",
       "      <th></th>\n",
       "      <th></th>\n",
       "      <th></th>\n",
       "      <th></th>\n",
       "      <th></th>\n",
       "      <th></th>\n",
       "      <th></th>\n",
       "      <th></th>\n",
       "      <th></th>\n",
       "      <th></th>\n",
       "      <th></th>\n",
       "      <th></th>\n",
       "      <th></th>\n",
       "      <th></th>\n",
       "      <th></th>\n",
       "      <th></th>\n",
       "      <th></th>\n",
       "      <th></th>\n",
       "      <th></th>\n",
       "      <th></th>\n",
       "      <th></th>\n",
       "    </tr>\n",
       "  </thead>\n",
       "  <tbody>\n",
       "    <tr>\n",
       "      <th rowspan=\"5\" valign=\"top\">30ef</th>\n",
       "      <th rowspan=\"5\" valign=\"top\">Expert</th>\n",
       "      <th rowspan=\"5\" valign=\"top\">250</th>\n",
       "      <th>90.918</th>\n",
       "      <td>0</td>\n",
       "      <td>2</td>\n",
       "      <td>1</td>\n",
       "      <td>0</td>\n",
       "      <td>3</td>\n",
       "      <td>1</td>\n",
       "      <td>L021_R031</td>\n",
       "      <td>0.330</td>\n",
       "      <td>0.331</td>\n",
       "      <td>0.275581</td>\n",
       "      <td>...</td>\n",
       "      <td>[-0.2642, -0.1865, -0.2078, -0.2866, 0.09827, ...</td>\n",
       "      <td>88</td>\n",
       "      <td>1</td>\n",
       "      <td>3</td>\n",
       "      <td>3</td>\n",
       "      <td>1</td>\n",
       "      <td>3</td>\n",
       "      <td>3</td>\n",
       "      <td>[0.5366, -0.287, 0.8335, -0.02771, 0.5464, 0.1...</td>\n",
       "      <td>5.0</td>\n",
       "    </tr>\n",
       "    <tr>\n",
       "      <th>91.249</th>\n",
       "      <td>1</td>\n",
       "      <td>0</td>\n",
       "      <td>2</td>\n",
       "      <td>1</td>\n",
       "      <td>0</td>\n",
       "      <td>2</td>\n",
       "      <td>L102</td>\n",
       "      <td>0.331</td>\n",
       "      <td>0.171</td>\n",
       "      <td>0.276584</td>\n",
       "      <td>...</td>\n",
       "      <td>[0.2184, 0.0528, 0.561, -0.0498, -0.0955, 0.40...</td>\n",
       "      <td>4</td>\n",
       "      <td>0</td>\n",
       "      <td>2</td>\n",
       "      <td>1</td>\n",
       "      <td>0</td>\n",
       "      <td>3</td>\n",
       "      <td>1</td>\n",
       "      <td>[-0.2642, -0.1865, -0.2078, -0.2866, 0.09827, ...</td>\n",
       "      <td>88.0</td>\n",
       "    </tr>\n",
       "    <tr>\n",
       "      <th>91.420</th>\n",
       "      <td>0</td>\n",
       "      <td>1</td>\n",
       "      <td>1</td>\n",
       "      <td>0</td>\n",
       "      <td>2</td>\n",
       "      <td>1</td>\n",
       "      <td>L011_R021</td>\n",
       "      <td>0.171</td>\n",
       "      <td>0.159</td>\n",
       "      <td>0.277103</td>\n",
       "      <td>...</td>\n",
       "      <td>[-0.02002, 0.11383, 0.1425, -0.02528, 0.178, -...</td>\n",
       "      <td>25</td>\n",
       "      <td>1</td>\n",
       "      <td>0</td>\n",
       "      <td>2</td>\n",
       "      <td>1</td>\n",
       "      <td>0</td>\n",
       "      <td>2</td>\n",
       "      <td>[0.2184, 0.0528, 0.561, -0.0498, -0.0955, 0.40...</td>\n",
       "      <td>4.0</td>\n",
       "    </tr>\n",
       "    <tr>\n",
       "      <th>91.579</th>\n",
       "      <td>0</td>\n",
       "      <td>3</td>\n",
       "      <td>7</td>\n",
       "      <td>0</td>\n",
       "      <td>3</td>\n",
       "      <td>7</td>\n",
       "      <td>R037</td>\n",
       "      <td>0.159</td>\n",
       "      <td>0.172</td>\n",
       "      <td>0.277584</td>\n",
       "      <td>...</td>\n",
       "      <td>[-0.3286, -0.305, 0.003819, -0.01487, 0.3926, ...</td>\n",
       "      <td>63</td>\n",
       "      <td>0</td>\n",
       "      <td>1</td>\n",
       "      <td>1</td>\n",
       "      <td>0</td>\n",
       "      <td>2</td>\n",
       "      <td>1</td>\n",
       "      <td>[-0.02002, 0.11383, 0.1425, -0.02528, 0.178, -...</td>\n",
       "      <td>25.0</td>\n",
       "    </tr>\n",
       "    <tr>\n",
       "      <th>91.751</th>\n",
       "      <td>0</td>\n",
       "      <td>0</td>\n",
       "      <td>6</td>\n",
       "      <td>0</td>\n",
       "      <td>0</td>\n",
       "      <td>6</td>\n",
       "      <td>L006</td>\n",
       "      <td>0.172</td>\n",
       "      <td>0.158</td>\n",
       "      <td>0.278106</td>\n",
       "      <td>...</td>\n",
       "      <td>[-0.3596, -0.1683, -0.335, -0.2322, 0.07153, 0...</td>\n",
       "      <td>79</td>\n",
       "      <td>0</td>\n",
       "      <td>3</td>\n",
       "      <td>7</td>\n",
       "      <td>0</td>\n",
       "      <td>3</td>\n",
       "      <td>7</td>\n",
       "      <td>[-0.3286, -0.305, 0.003819, -0.01487, 0.3926, ...</td>\n",
       "      <td>63.0</td>\n",
       "    </tr>\n",
       "  </tbody>\n",
       "</table>\n",
       "<p>5 rows × 21 columns</p>\n",
       "</div>"
      ],
      "text/plain": [
       "                                l_lineLayer  l_lineIndex  l_cutDirection  \\\n",
       "name difficulty snippet time                                               \n",
       "30ef Expert     250     90.918            0            2               1   \n",
       "                        91.249            1            0               2   \n",
       "                        91.420            0            1               1   \n",
       "                        91.579            0            3               7   \n",
       "                        91.751            0            0               6   \n",
       "\n",
       "                                r_lineLayer  r_lineIndex  r_cutDirection  \\\n",
       "name difficulty snippet time                                               \n",
       "30ef Expert     250     90.918            0            3               1   \n",
       "                        91.249            1            0               2   \n",
       "                        91.420            0            2               1   \n",
       "                        91.579            0            3               7   \n",
       "                        91.751            0            0               6   \n",
       "\n",
       "                                     word   prev   next      part  ...  \\\n",
       "name difficulty snippet time                                       ...   \n",
       "30ef Expert     250     90.918  L021_R031  0.330  0.331  0.275581  ...   \n",
       "                        91.249       L102  0.331  0.171  0.276584  ...   \n",
       "                        91.420  L011_R021  0.171  0.159  0.277103  ...   \n",
       "                        91.579       R037  0.159  0.172  0.277584  ...   \n",
       "                        91.751       L006  0.172  0.158  0.278106  ...   \n",
       "\n",
       "                                                                         word_vec  \\\n",
       "name difficulty snippet time                                                        \n",
       "30ef Expert     250     90.918  [-0.2642, -0.1865, -0.2078, -0.2866, 0.09827, ...   \n",
       "                        91.249  [0.2184, 0.0528, 0.561, -0.0498, -0.0955, 0.40...   \n",
       "                        91.420  [-0.02002, 0.11383, 0.1425, -0.02528, 0.178, -...   \n",
       "                        91.579  [-0.3286, -0.305, 0.003819, -0.01487, 0.3926, ...   \n",
       "                        91.751  [-0.3596, -0.1683, -0.335, -0.2322, 0.07153, 0...   \n",
       "\n",
       "                               word_id  prev_l_lineLayer  prev_l_lineIndex  \\\n",
       "name difficulty snippet time                                                 \n",
       "30ef Expert     250     90.918      88                 1                 3   \n",
       "                        91.249       4                 0                 2   \n",
       "                        91.420      25                 1                 0   \n",
       "                        91.579      63                 0                 1   \n",
       "                        91.751      79                 0                 3   \n",
       "\n",
       "                                prev_l_cutDirection  prev_r_lineLayer  \\\n",
       "name difficulty snippet time                                            \n",
       "30ef Expert     250     90.918                    3                 1   \n",
       "                        91.249                    1                 0   \n",
       "                        91.420                    2                 1   \n",
       "                        91.579                    1                 0   \n",
       "                        91.751                    7                 0   \n",
       "\n",
       "                                prev_r_lineIndex  prev_r_cutDirection  \\\n",
       "name difficulty snippet time                                            \n",
       "30ef Expert     250     90.918                 3                    3   \n",
       "                        91.249                 3                    1   \n",
       "                        91.420                 0                    2   \n",
       "                        91.579                 2                    1   \n",
       "                        91.751                 3                    7   \n",
       "\n",
       "                                                                    prev_word_vec  \\\n",
       "name difficulty snippet time                                                        \n",
       "30ef Expert     250     90.918  [0.5366, -0.287, 0.8335, -0.02771, 0.5464, 0.1...   \n",
       "                        91.249  [-0.2642, -0.1865, -0.2078, -0.2866, 0.09827, ...   \n",
       "                        91.420  [0.2184, 0.0528, 0.561, -0.0498, -0.0955, 0.40...   \n",
       "                        91.579  [-0.02002, 0.11383, 0.1425, -0.02528, 0.178, -...   \n",
       "                        91.751  [-0.3286, -0.305, 0.003819, -0.01487, 0.3926, ...   \n",
       "\n",
       "                               prev_word_id  \n",
       "name difficulty snippet time                 \n",
       "30ef Expert     250     90.918          5.0  \n",
       "                        91.249         88.0  \n",
       "                        91.420          4.0  \n",
       "                        91.579         25.0  \n",
       "                        91.751         63.0  \n",
       "\n",
       "[5 rows x 21 columns]"
      ]
     },
     "execution_count": 116,
     "metadata": {},
     "output_type": "execute_result"
    }
   ],
   "source": [
    "storage_folder = Path('../../data/new_datasets')\n",
    "train, val, test = load_datasets(storage_folder)\n",
    "print(val.head().to_latex())\n",
    "print(val.columns)\n",
    "val.iloc[500:600].head()"
   ]
  },
  {
   "cell_type": "markdown",
   "metadata": {},
   "source": [
    "## Data changes exploration"
   ]
  },
  {
   "cell_type": "code",
   "execution_count": 118,
   "metadata": {},
   "outputs": [],
   "source": [
    "storage_folder = Path('../../data/new_datasets_config_test') # 26 + 26\n",
    "train, val, test = load_datasets(storage_folder)"
   ]
  },
  {
   "cell_type": "code",
   "execution_count": 130,
   "metadata": {},
   "outputs": [
    {
     "data": {
      "text/plain": [
       "array(['Expert', 'Hard', 'Normal', 'ExpertPlus', 'Easy'], dtype=object)"
      ]
     },
     "execution_count": 130,
     "metadata": {},
     "output_type": "execute_result"
    }
   ],
   "source": [
    "val.index.to_frame().difficulty.unique()"
   ]
  },
  {
   "cell_type": "code",
   "execution_count": 143,
   "metadata": {},
   "outputs": [
    {
     "data": {
      "text/plain": [
       "297"
      ]
     },
     "execution_count": 143,
     "metadata": {},
     "output_type": "execute_result"
    }
   ],
   "source": [
    "len(set(train.word.unique()) - set(train.xs('ExpertPlus', level='difficulty').word.unique()))"
   ]
  },
  {
   "cell_type": "code",
   "execution_count": 151,
   "metadata": {},
   "outputs": [
    {
     "data": {
      "text/plain": [
       "2192"
      ]
     },
     "execution_count": 151,
     "metadata": {},
     "output_type": "execute_result"
    }
   ],
   "source": [
    "len(set(train.xs('ExpertPlus', level='difficulty').word.unique()) & set(train.word.unique()))"
   ]
  },
  {
   "cell_type": "code",
   "execution_count": 150,
   "metadata": {},
   "outputs": [
    {
     "data": {
      "text/plain": [
       "2489"
      ]
     },
     "execution_count": 150,
     "metadata": {},
     "output_type": "execute_result"
    }
   ],
   "source": [
    "len(train.word.unique())- 297 - 2192"
   ]
  },
  {
   "cell_type": "code",
   "execution_count": 89,
   "metadata": {},
   "outputs": [
    {
     "name": "stdout",
     "output_type": "stream",
     "text": [
      "m1-a m1-b\n",
      "m2-a m2-b\n"
     ]
    },
    {
     "ename": "AttributeError",
     "evalue": "'ArbitraryDataclass' object has no attribute 'train'",
     "output_type": "error",
     "traceback": [
      "\u001b[0;31m---------------------------------------------------------------------------\u001b[0m",
      "\u001b[0;31mAttributeError\u001b[0m                            Traceback (most recent call last)",
      "\u001b[0;32m<ipython-input-89-8ee9b8d80077>\u001b[0m in \u001b[0;36m<module>\u001b[0;34m\u001b[0m\n\u001b[1;32m     31\u001b[0m \u001b[0mvisualize\u001b[0m\u001b[0;34m(\u001b[0m\u001b[0mdata\u001b[0m\u001b[0;34m,\u001b[0m \u001b[0mmodels\u001b[0m\u001b[0;34m)\u001b[0m\u001b[0;34m\u001b[0m\u001b[0;34m\u001b[0m\u001b[0m\n\u001b[1;32m     32\u001b[0m \u001b[0;34m\u001b[0m\u001b[0m\n\u001b[0;32m---> 33\u001b[0;31m \u001b[0mdata\u001b[0m\u001b[0;34m[\u001b[0m\u001b[0;34m'm1'\u001b[0m\u001b[0;34m]\u001b[0m\u001b[0;34m.\u001b[0m\u001b[0mtrain\u001b[0m\u001b[0;34m\u001b[0m\u001b[0;34m\u001b[0m\u001b[0m\n\u001b[0m",
      "\u001b[0;31mAttributeError\u001b[0m: 'ArbitraryDataclass' object has no attribute 'train'"
     ]
    }
   ],
   "source": [
    "class ArbitraryDataclass():\n",
    "    def __init__(self, **kwargs):\n",
    "        for key, val in kwargs.items():\n",
    "            setattr(self, key, val)\n",
    "            \n",
    "class DataDict():\n",
    "    def __init__(self):\n",
    "        self.__dict = {}\n",
    "        \n",
    "    def __setitem__(self, key, val):\n",
    "        self.__dict[key] = ArbitraryDataclass(**val)\n",
    "        \n",
    "    def __getitem__(self, key):\n",
    "        return self.__dict[key]\n",
    "\n",
    "models = ['m1', 'm2', ]\n",
    "data = DataDict()\n",
    "\n",
    "def data_prep(data, models):\n",
    "    for m in models:\n",
    "        a = m + '-a'\n",
    "        b = m + '-b'\n",
    "        data[m] = locals()\n",
    "\n",
    "def visualize(data, models):\n",
    "    for m in models:\n",
    "        l = data[m]\n",
    "        print(l.a, l.b, )\n",
    "\n",
    "data_prep(data, models)\n",
    "visualize(data, models)\n",
    "\n",
    "data['m1'].train"
   ]
  },
  {
   "cell_type": "code",
   "execution_count": 84,
   "metadata": {},
   "outputs": [],
   "source": [
    "q = 'asd'"
   ]
  },
  {
   "cell_type": "code",
   "execution_count": 56,
   "metadata": {},
   "outputs": [
    {
     "ename": "KeyError",
     "evalue": "'m'",
     "output_type": "error",
     "traceback": [
      "\u001b[0;31m---------------------------------------------------------------------------\u001b[0m",
      "\u001b[0;31mKeyError\u001b[0m                                  Traceback (most recent call last)",
      "\u001b[0;32m<ipython-input-56-395b77183a02>\u001b[0m in \u001b[0;36m<module>\u001b[0;34m\u001b[0m\n\u001b[0;32m----> 1\u001b[0;31m \u001b[0md\u001b[0m\u001b[0;34m[\u001b[0m\u001b[0;34m'm'\u001b[0m\u001b[0;34m]\u001b[0m\u001b[0;34m\u001b[0m\u001b[0;34m\u001b[0m\u001b[0m\n\u001b[0m",
      "\u001b[0;31mKeyError\u001b[0m: 'm'"
     ]
    }
   ],
   "source": [
    "d['m']"
   ]
  }
 ],
 "metadata": {
  "kernelspec": {
   "display_name": "Python 3",
   "language": "python",
   "name": "python3"
  },
  "language_info": {
   "codemirror_mode": {
    "name": "ipython",
    "version": 3
   },
   "file_extension": ".py",
   "mimetype": "text/x-python",
   "name": "python",
   "nbconvert_exporter": "python",
   "pygments_lexer": "ipython3",
   "version": "3.7.6"
  }
 },
 "nbformat": 4,
 "nbformat_minor": 4
}

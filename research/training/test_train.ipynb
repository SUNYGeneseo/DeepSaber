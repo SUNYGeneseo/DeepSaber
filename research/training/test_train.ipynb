{
  "nbformat": 4,
  "nbformat_minor": 0,
  "metadata": {
    "colab": {
      "name": "test_train.ipynb",
      "version": "0.3.2",
      "provenance": [],
      "collapsed_sections": [],
      "toc_visible": true
    },
    "language_info": {
      "codemirror_mode": {
        "name": "ipython",
        "version": 3
      },
      "file_extension": ".py",
      "mimetype": "text/x-python",
      "name": "python",
      "nbconvert_exporter": "python",
      "pygments_lexer": "ipython3",
      "version": "3.7.3"
    },
    "kernelspec": {
      "name": "python3",
      "display_name": "Python 3"
    },
    "accelerator": "GPU"
  },
  "cells": [
    {
      "cell_type": "markdown",
      "metadata": {
        "id": "l5Bk5J7G15yQ",
        "colab_type": "text"
      },
      "source": [
        "# Training of the model\n",
        "## Extra lib instalation"
      ]
    },
    {
      "cell_type": "code",
      "metadata": {
        "id": "4F78c90J15yS",
        "colab_type": "code",
        "outputId": "b8db148e-9f0e-4826-c69e-44afc96b4297",
        "colab": {
          "base_uri": "https://localhost:8080/",
          "height": 877
        }
      },
      "source": [
        "!pip install speechpy\n",
        "!pip install soundfile\n",
        "!pip install tables\n",
        "!pip install tensorflow-gpu==2.0.0-beta1\n",
        "!pip install imblearn"
      ],
      "execution_count": 0,
      "outputs": [
        {
          "output_type": "stream",
          "text": [
            "Collecting speechpy\n",
            "  Downloading https://files.pythonhosted.org/packages/8f/12/dbda397a998063d9541d9e149c4f523ed138a48824d20598e37632ba33b1/speechpy-2.4-py2.py3-none-any.whl\n",
            "Requirement already satisfied: scipy in /usr/local/lib/python3.6/dist-packages (from speechpy) (1.3.0)\n",
            "Requirement already satisfied: numpy in /usr/local/lib/python3.6/dist-packages (from speechpy) (1.16.4)\n",
            "Installing collected packages: speechpy\n",
            "Successfully installed speechpy-2.4\n",
            "Collecting soundfile\n",
            "  Downloading https://files.pythonhosted.org/packages/68/64/1191352221e2ec90db7492b4bf0c04fd9d2508de67b3f39cbf093cd6bd86/SoundFile-0.10.2-py2.py3-none-any.whl\n",
            "Requirement already satisfied: cffi>=1.0 in /usr/local/lib/python3.6/dist-packages (from soundfile) (1.12.3)\n",
            "Requirement already satisfied: pycparser in /usr/local/lib/python3.6/dist-packages (from cffi>=1.0->soundfile) (2.19)\n",
            "Installing collected packages: soundfile\n",
            "Successfully installed soundfile-0.10.2\n",
            "Requirement already satisfied: tables in /usr/local/lib/python3.6/dist-packages (3.4.4)\n",
            "Requirement already satisfied: numpy>=1.8.0 in /usr/local/lib/python3.6/dist-packages (from tables) (1.16.4)\n",
            "Requirement already satisfied: numexpr>=2.5.2 in /usr/local/lib/python3.6/dist-packages (from tables) (2.6.9)\n",
            "Requirement already satisfied: six>=1.9.0 in /usr/local/lib/python3.6/dist-packages (from tables) (1.12.0)\n",
            "Collecting tensorflow-gpu==2.0.0-beta1\n",
            "\u001b[?25l  Downloading https://files.pythonhosted.org/packages/2b/53/e18c5e7a2263d3581a979645a185804782e59b8e13f42b9c3c3cfb5bb503/tensorflow_gpu-2.0.0b1-cp36-cp36m-manylinux1_x86_64.whl (348.9MB)\n",
            "\u001b[K     |████████████████████████████████| 348.9MB 64kB/s \n",
            "\u001b[?25hRequirement already satisfied: six>=1.10.0 in /usr/local/lib/python3.6/dist-packages (from tensorflow-gpu==2.0.0-beta1) (1.12.0)\n",
            "Collecting tf-estimator-nightly<1.14.0.dev2019060502,>=1.14.0.dev2019060501 (from tensorflow-gpu==2.0.0-beta1)\n",
            "\u001b[?25l  Downloading https://files.pythonhosted.org/packages/32/dd/99c47dd007dcf10d63fd895611b063732646f23059c618a373e85019eb0e/tf_estimator_nightly-1.14.0.dev2019060501-py2.py3-none-any.whl (496kB)\n",
            "\u001b[K     |████████████████████████████████| 501kB 40.8MB/s \n",
            "\u001b[?25hRequirement already satisfied: keras-applications>=1.0.6 in /usr/local/lib/python3.6/dist-packages (from tensorflow-gpu==2.0.0-beta1) (1.0.8)\n",
            "Collecting tb-nightly<1.14.0a20190604,>=1.14.0a20190603 (from tensorflow-gpu==2.0.0-beta1)\n",
            "\u001b[?25l  Downloading https://files.pythonhosted.org/packages/a4/96/571b875cd81dda9d5dfa1422a4f9d749e67c0a8d4f4f0b33a4e5f5f35e27/tb_nightly-1.14.0a20190603-py3-none-any.whl (3.1MB)\n",
            "\u001b[K     |████████████████████████████████| 3.1MB 39.0MB/s \n",
            "\u001b[?25hRequirement already satisfied: numpy<2.0,>=1.14.5 in /usr/local/lib/python3.6/dist-packages (from tensorflow-gpu==2.0.0-beta1) (1.16.4)\n",
            "Requirement already satisfied: wrapt>=1.11.1 in /usr/local/lib/python3.6/dist-packages (from tensorflow-gpu==2.0.0-beta1) (1.11.2)\n",
            "Requirement already satisfied: protobuf>=3.6.1 in /usr/local/lib/python3.6/dist-packages (from tensorflow-gpu==2.0.0-beta1) (3.7.1)\n",
            "Requirement already satisfied: grpcio>=1.8.6 in /usr/local/lib/python3.6/dist-packages (from tensorflow-gpu==2.0.0-beta1) (1.15.0)\n",
            "Requirement already satisfied: wheel>=0.26 in /usr/local/lib/python3.6/dist-packages (from tensorflow-gpu==2.0.0-beta1) (0.33.4)\n",
            "Requirement already satisfied: astor>=0.6.0 in /usr/local/lib/python3.6/dist-packages (from tensorflow-gpu==2.0.0-beta1) (0.8.0)\n",
            "Requirement already satisfied: google-pasta>=0.1.6 in /usr/local/lib/python3.6/dist-packages (from tensorflow-gpu==2.0.0-beta1) (0.1.7)\n",
            "Requirement already satisfied: gast>=0.2.0 in /usr/local/lib/python3.6/dist-packages (from tensorflow-gpu==2.0.0-beta1) (0.2.2)\n",
            "Requirement already satisfied: termcolor>=1.1.0 in /usr/local/lib/python3.6/dist-packages (from tensorflow-gpu==2.0.0-beta1) (1.1.0)\n",
            "Requirement already satisfied: absl-py>=0.7.0 in /usr/local/lib/python3.6/dist-packages (from tensorflow-gpu==2.0.0-beta1) (0.7.1)\n",
            "Requirement already satisfied: keras-preprocessing>=1.0.5 in /usr/local/lib/python3.6/dist-packages (from tensorflow-gpu==2.0.0-beta1) (1.1.0)\n",
            "Requirement already satisfied: h5py in /usr/local/lib/python3.6/dist-packages (from keras-applications>=1.0.6->tensorflow-gpu==2.0.0-beta1) (2.8.0)\n",
            "Requirement already satisfied: werkzeug>=0.11.15 in /usr/local/lib/python3.6/dist-packages (from tb-nightly<1.14.0a20190604,>=1.14.0a20190603->tensorflow-gpu==2.0.0-beta1) (0.15.4)\n",
            "Requirement already satisfied: setuptools>=41.0.0 in /usr/local/lib/python3.6/dist-packages (from tb-nightly<1.14.0a20190604,>=1.14.0a20190603->tensorflow-gpu==2.0.0-beta1) (41.0.1)\n",
            "Requirement already satisfied: markdown>=2.6.8 in /usr/local/lib/python3.6/dist-packages (from tb-nightly<1.14.0a20190604,>=1.14.0a20190603->tensorflow-gpu==2.0.0-beta1) (3.1.1)\n",
            "Installing collected packages: tf-estimator-nightly, tb-nightly, tensorflow-gpu\n",
            "Successfully installed tb-nightly-1.14.0a20190603 tensorflow-gpu-2.0.0b1 tf-estimator-nightly-1.14.0.dev2019060501\n",
            "Requirement already satisfied: imblearn in /usr/local/lib/python3.6/dist-packages (0.0)\n",
            "Requirement already satisfied: imbalanced-learn in /usr/local/lib/python3.6/dist-packages (from imblearn) (0.4.3)\n",
            "Requirement already satisfied: scikit-learn>=0.20 in /usr/local/lib/python3.6/dist-packages (from imbalanced-learn->imblearn) (0.21.2)\n",
            "Requirement already satisfied: numpy>=1.8.2 in /usr/local/lib/python3.6/dist-packages (from imbalanced-learn->imblearn) (1.16.4)\n",
            "Requirement already satisfied: scipy>=0.13.3 in /usr/local/lib/python3.6/dist-packages (from imbalanced-learn->imblearn) (1.3.0)\n",
            "Requirement already satisfied: joblib>=0.11 in /usr/local/lib/python3.6/dist-packages (from scikit-learn>=0.20->imbalanced-learn->imblearn) (0.13.2)\n"
          ],
          "name": "stdout"
        }
      ]
    },
    {
      "cell_type": "markdown",
      "metadata": {
        "id": "FUwuf2dJYUzh",
        "colab_type": "text"
      },
      "source": [
        "## Check if Google gave us the better GPU for DNN"
      ]
    },
    {
      "cell_type": "code",
      "metadata": {
        "id": "NRERTTI3Yj5D",
        "colab_type": "code",
        "outputId": "ccd0c6a6-023f-4746-e730-5231bb18be6d",
        "colab": {
          "base_uri": "https://localhost:8080/",
          "height": 302
        }
      },
      "source": [
        "!nvidia-smi"
      ],
      "execution_count": 0,
      "outputs": [
        {
          "output_type": "stream",
          "text": [
            "Wed Jul  3 09:38:45 2019       \n",
            "+-----------------------------------------------------------------------------+\n",
            "| NVIDIA-SMI 418.67       Driver Version: 410.79       CUDA Version: 10.0     |\n",
            "|-------------------------------+----------------------+----------------------+\n",
            "| GPU  Name        Persistence-M| Bus-Id        Disp.A | Volatile Uncorr. ECC |\n",
            "| Fan  Temp  Perf  Pwr:Usage/Cap|         Memory-Usage | GPU-Util  Compute M. |\n",
            "|===============================+======================+======================|\n",
            "|   0  Tesla K80           Off  | 00000000:00:04.0 Off |                    0 |\n",
            "| N/A   33C    P8    26W / 149W |      0MiB / 11441MiB |      0%      Default |\n",
            "+-------------------------------+----------------------+----------------------+\n",
            "                                                                               \n",
            "+-----------------------------------------------------------------------------+\n",
            "| Processes:                                                       GPU Memory |\n",
            "|  GPU       PID   Type   Process name                             Usage      |\n",
            "|=============================================================================|\n",
            "|  No running processes found                                                 |\n",
            "+-----------------------------------------------------------------------------+\n"
          ],
          "name": "stdout"
        }
      ]
    },
    {
      "cell_type": "code",
      "metadata": {
        "id": "pb-Y88RhYb-q",
        "colab_type": "code",
        "outputId": "f27b7a28-403f-4f53-d3c6-541f379ec5b2",
        "colab": {
          "base_uri": "https://localhost:8080/",
          "height": 430
        }
      },
      "source": [
        "import pynvml\n",
        "\n",
        "pynvml.nvmlInit()\n",
        "handle = pynvml.nvmlDeviceGetHandleByIndex(0)\n",
        "device_name = pynvml.nvmlDeviceGetName(handle)\n",
        "\n",
        "if device_name != b'Tesla T4':\n",
        "    raise Exception(\"\"\"\n",
        "    Unfortunately this instance does not have a T4 GPU.\n",
        "\n",
        "    Please make sure you've configured Colab to request a GPU instance type.\n",
        "\n",
        "    Sometimes Colab allocates a Tesla K80 instead of a T4. Resetting the instance.\n",
        "\n",
        "    If you get a K80 GPU, try Runtime -> Reset all runtimes...\n",
        "    \"\"\")\n",
        "else:\n",
        "    print('Woo! You got the right kind of GPU!')"
      ],
      "execution_count": 0,
      "outputs": [
        {
          "output_type": "stream",
          "text": [
            "ERROR:root:An unexpected error occurred while tokenizing input\n",
            "The following traceback may be corrupted or invalid\n",
            "The error message is: ('EOF in multi-line string', (1, 4))\n",
            "\n"
          ],
          "name": "stderr"
        },
        {
          "output_type": "error",
          "ename": "Exception",
          "evalue": "ignored",
          "traceback": [
            "\u001b[0;31m---------------------------------------------------------------------------\u001b[0m",
            "\u001b[0;31mException\u001b[0m                                 Traceback (most recent call last)",
            "\u001b[0;32m<ipython-input-3-f86af7e6bf3f>\u001b[0m in \u001b[0;36m<module>\u001b[0;34m()\u001b[0m\n\u001b[1;32m     14\u001b[0m \u001b[0;34m\u001b[0m\u001b[0m\n\u001b[1;32m     15\u001b[0m     \u001b[0mIf\u001b[0m \u001b[0myou\u001b[0m \u001b[0mget\u001b[0m \u001b[0ma\u001b[0m \u001b[0mK80\u001b[0m \u001b[0mGPU\u001b[0m\u001b[0;34m,\u001b[0m \u001b[0;32mtry\u001b[0m \u001b[0mRuntime\u001b[0m \u001b[0;34m->\u001b[0m \u001b[0mReset\u001b[0m \u001b[0mall\u001b[0m \u001b[0mruntimes\u001b[0m\u001b[0;34m...\u001b[0m\u001b[0;34m\u001b[0m\u001b[0;34m\u001b[0m\u001b[0m\n\u001b[0;32m---> 16\u001b[0;31m     \"\"\")\n\u001b[0m\u001b[1;32m     17\u001b[0m \u001b[0;32melse\u001b[0m\u001b[0;34m:\u001b[0m\u001b[0;34m\u001b[0m\u001b[0;34m\u001b[0m\u001b[0m\n\u001b[1;32m     18\u001b[0m     \u001b[0mprint\u001b[0m\u001b[0;34m(\u001b[0m\u001b[0;34m'Woo! You got the right kind of GPU!'\u001b[0m\u001b[0;34m)\u001b[0m\u001b[0;34m\u001b[0m\u001b[0;34m\u001b[0m\u001b[0m\n",
            "\u001b[0;31mException\u001b[0m: \n    Unfortunately this instance does not have a T4 GPU.\n\n    Please make sure you've configured Colab to request a GPU instance type.\n\n    Sometimes Colab allocates a Tesla K80 instead of a T4. Resetting the instance.\n\n    If you get a K80 GPU, try Runtime -> Reset all runtimes...\n    "
          ]
        }
      ]
    },
    {
      "cell_type": "markdown",
      "metadata": {
        "id": "gVDqEBol15yW",
        "colab_type": "text"
      },
      "source": [
        "## Lib imports"
      ]
    },
    {
      "cell_type": "code",
      "metadata": {
        "id": "4_r93Wqh15yW",
        "colab_type": "code",
        "colab": {}
      },
      "source": [
        "import numpy as np\n",
        "import pandas as pd\n",
        "import soundfile as sf\n",
        "import scipy.io.wavfile as wav\n",
        "import speechpy\n",
        "import json\n",
        "import os\n",
        "import math\n",
        "import tensorflow.keras as k\n",
        "import dask.dataframe as dd\n",
        "from IPython.display import display, Markdown\n",
        "from time import sleep\n",
        "from pprint import pprint\n",
        "from multiprocessing import Queue, Process, Pool\n",
        "\n",
        "%config IPCompleter.greedy=True"
      ],
      "execution_count": 0,
      "outputs": []
    },
    {
      "cell_type": "markdown",
      "metadata": {
        "id": "Jz0eccUiiWty",
        "colab_type": "text"
      },
      "source": [
        "## Login to yourdrive"
      ]
    },
    {
      "cell_type": "markdown",
      "metadata": {
        "id": "4Xj2pHVZ15yZ",
        "colab_type": "text"
      },
      "source": [
        "For audio processing I will use `speechpy` as it is the fastest of the well known libraries:\n",
        "\n",
        "![speed_comp](https://camo.githubusercontent.com/1465ddaba9f99df4ff86ef800ef4598f35c12698/68747470733a2f2f696d61676573322e696d67626f782e636f6d2f64652f31302f6f4e5a776b49694b5f6f2e706e67)\n",
        "> Source: [sonopy](https://github.com/MycroftAI/sonopy)"
      ]
    },
    {
      "cell_type": "markdown",
      "metadata": {
        "id": "LLWzsoL_15yo",
        "colab_type": "text"
      },
      "source": [
        "## Set which cols to use as X and Y + other hyper params"
      ]
    },
    {
      "cell_type": "code",
      "metadata": {
        "id": "ve0zWaPp15yp",
        "colab_type": "code",
        "colab": {}
      },
      "source": [
        "X_list = []\n",
        "Y = []\n",
        "HARD_MAX = 20000\n",
        "path = '../data'\n",
        "\n",
        "y_cols = [f'{side}_dim{i}' for side in 'rl' for i in range(3) ]\n",
        "X_cols = ['times', 'mfcc']\n",
        "# X_cols = y_cols\n",
        "\n",
        "columns = ['name', 'time'] + X_cols + y_cols\n",
        "\n",
        "train_vals = {\n",
        "    'train_on': 'snippets',  # ['snippets', 'generator', 'generator_tpu']\n",
        "    'get_data_from': 'gdrive' # ['recreate', 'gdrive', 'pc', 'local']\n",
        "}"
      ],
      "execution_count": 0,
      "outputs": []
    },
    {
      "cell_type": "code",
      "metadata": {
        "id": "nz9cIcLmv5qK",
        "colab_type": "code",
        "outputId": "21495ec4-9a25-49e2-ca96-972deba3643e",
        "colab": {
          "base_uri": "https://localhost:8080/",
          "height": 625
        }
      },
      "source": [
        "if train_vals['get_data_from'] == 'gdrive':\n",
        "    # Run this to mount your Google Drive.\n",
        "    from google.colab import drive\n",
        "    from google.colab import auth\n",
        "    from googleapiclient.discovery import build\n",
        "    from googleapiclient.http import MediaIoBaseDownload\n",
        "\n",
        "    drive.mount('/content/drive')\n",
        "\n",
        "    auth.authenticate_user()\n",
        "    drive_service = build('drive', 'v3')"
      ],
      "execution_count": 0,
      "outputs": [
        {
          "output_type": "stream",
          "text": [
            "Go to this URL in a browser: https://accounts.google.com/o/oauth2/auth?client_id=947318989803-6bn6qk8qdgf4n4g3pfee6491hc0brc4i.apps.googleusercontent.com&redirect_uri=urn%3Aietf%3Awg%3Aoauth%3A2.0%3Aoob&scope=email%20https%3A%2F%2Fwww.googleapis.com%2Fauth%2Fdocs.test%20https%3A%2F%2Fwww.googleapis.com%2Fauth%2Fdrive%20https%3A%2F%2Fwww.googleapis.com%2Fauth%2Fdrive.photos.readonly%20https%3A%2F%2Fwww.googleapis.com%2Fauth%2Fpeopleapi.readonly&response_type=code\n",
            "\n",
            "Enter your authorization code:\n",
            "··········\n",
            "Mounted at /content/drive\n"
          ],
          "name": "stdout"
        },
        {
          "output_type": "stream",
          "text": [
            "WARNING: Logging before flag parsing goes to stderr.\n",
            "W0703 22:24:49.502194 140389865355136 __init__.py:44] file_cache is unavailable when using oauth2client >= 4.0.0 or google-auth\n",
            "Traceback (most recent call last):\n",
            "  File \"/usr/local/lib/python3.6/dist-packages/googleapiclient/discovery_cache/__init__.py\", line 36, in autodetect\n",
            "    from google.appengine.api import memcache\n",
            "ModuleNotFoundError: No module named 'google.appengine'\n",
            "\n",
            "During handling of the above exception, another exception occurred:\n",
            "\n",
            "Traceback (most recent call last):\n",
            "  File \"/usr/local/lib/python3.6/dist-packages/googleapiclient/discovery_cache/file_cache.py\", line 33, in <module>\n",
            "    from oauth2client.contrib.locked_file import LockedFile\n",
            "ModuleNotFoundError: No module named 'oauth2client.contrib.locked_file'\n",
            "\n",
            "During handling of the above exception, another exception occurred:\n",
            "\n",
            "Traceback (most recent call last):\n",
            "  File \"/usr/local/lib/python3.6/dist-packages/googleapiclient/discovery_cache/file_cache.py\", line 37, in <module>\n",
            "    from oauth2client.locked_file import LockedFile\n",
            "ModuleNotFoundError: No module named 'oauth2client.locked_file'\n",
            "\n",
            "During handling of the above exception, another exception occurred:\n",
            "\n",
            "Traceback (most recent call last):\n",
            "  File \"/usr/local/lib/python3.6/dist-packages/googleapiclient/discovery_cache/__init__.py\", line 41, in autodetect\n",
            "    from . import file_cache\n",
            "  File \"/usr/local/lib/python3.6/dist-packages/googleapiclient/discovery_cache/file_cache.py\", line 41, in <module>\n",
            "    'file_cache is unavailable when using oauth2client >= 4.0.0 or google-auth')\n",
            "ImportError: file_cache is unavailable when using oauth2client >= 4.0.0 or google-auth\n",
            "W0703 22:24:49.521606 140389865355136 _default.py:280] No project ID could be determined. Consider running `gcloud config set project` or setting the GOOGLE_CLOUD_PROJECT environment variable\n"
          ],
          "name": "stderr"
        }
      ]
    },
    {
      "cell_type": "markdown",
      "metadata": {
        "id": "U-bI5PxU15ya",
        "colab_type": "text"
      },
      "source": [
        "## Processing function for dataset creation"
      ]
    },
    {
      "cell_type": "code",
      "metadata": {
        "scrolled": true,
        "id": "G1qX5aoW15yc",
        "colab_type": "code",
        "colab": {}
      },
      "source": [
        "def df_col2numpy(df, col_names):\n",
        "    ser = df.apply(lambda row: np.array([row[col] for col in col_names]).flatten(), axis=1)\n",
        "    arr = np.array(ser.values.tolist())\n",
        "    return arr\n",
        "\n",
        "def df_col2series(df, col_names):\n",
        "    if len(col_names) == 1:\n",
        "        ser = df[col_names[0]].map(lambda cell: np.array([cell]).flatten())\n",
        "    ser = df.apply(lambda row: np.array([row[col] for col in col_names]).flatten(), axis=1)\n",
        "    return ser\n",
        "\n",
        "def file2mfcc(file_name, frame_length=0.20, frame_stride=0.1, recreate=False):\n",
        "    \"\"\" recreate: whether to recreate existing .npy MFCC\"\"\"\n",
        "    \n",
        "    dir_name = file_name[:file_name.index('blocks')]\n",
        "    file_wav, file_ogg = None, None\n",
        "    \n",
        "#     check for existing .mfcc cache\n",
        "    for file in os.listdir(dir_name):\n",
        "        if file.endswith('.mfcc') and not recreate:\n",
        "            return pd.read_hdf((os.path.join(dir_name, file)))\n",
        "            \n",
        "#     if none .wav found, create it\n",
        "    for file in os.listdir(dir_name):\n",
        "        if file.endswith('.ogg'):\n",
        "            file_ogg = os.path.join(dir_name, file)\n",
        "            if not file_wav:\n",
        "                data, samplerate = sf.read(file_ogg)\n",
        "                file_wav = f'{file_ogg[:-4]}.wav'\n",
        "                sf.write(file_wav, data, samplerate)\n",
        "\n",
        "    fs, signal = wav.read(file_wav)\n",
        "    \n",
        "#     Stereo to mono\n",
        "    if signal.shape[1] == 2:\n",
        "        signal = (signal[:, 0] + signal[:, 1]) / 2\n",
        "    else:\n",
        "        signal = signal[:, 0]\n",
        "\n",
        "    # Pre-emphasize\n",
        "    signal_preemphasized = speechpy.processing.preemphasis(signal, cof=0.98)\n",
        "\n",
        "    # Extract MFCC features\n",
        "    mfcc = speechpy.feature.mfcc(signal, sampling_frequency=fs, frame_length=frame_length, \n",
        "                                 frame_stride=frame_stride, num_filters=40, fft_length=512,\n",
        "                                 low_frequency=0, high_frequency=None, num_cepstral=13)\n",
        "    \n",
        "#     Normalize\n",
        "    mfcc_cmvn = speechpy.processing.cmvnw(mfcc,win_size=301,variance_normalization=True)\n",
        "    \n",
        "#     Cache results and clean .wav to save space\n",
        "#     np.save(f'{file_wav[:-4]}.mfcc.npy', mfcc_cmvn)\n",
        "    if file_ogg:\n",
        "        os.remove(file_wav)\n",
        "\n",
        "#     Recalculate the time differences\n",
        "    index = np.arange(0, (len(mfcc) - 0.5) * frame_stride, frame_stride) + frame_length\n",
        "    df = pd.DataFrame(data=mfcc_cmvn, index=index).apply(np.array, axis=1)\n",
        "    df.to_hdf(f'{file_wav[:-4]}.mfcc', 'mfcc', mode='w', format='fixed')\n",
        "    return df\n",
        "\n",
        "def process_cell(cell, side):\n",
        "    res = cell[:, :, side, :]\n",
        "    \n",
        "    mx = res.max()\n",
        "    mx_index = np.unravel_index(res.argmax(), res.shape)\n",
        "    pred = [None for _ in range(3)]\n",
        "    \n",
        "    for dim in range(3):\n",
        "#         pred[dim] = np.zeros(res.shape[dim] + 1)\n",
        "        pred[dim] = np.zeros(res.shape[dim])\n",
        "        \n",
        "        if mx < 0.5:\n",
        "#             pred[dim][-1] = 1\n",
        "            pass\n",
        "        else:\n",
        "            pred[dim][mx_index[dim]] = 1\n",
        "    \n",
        "    if mx < 0.5:\n",
        "        res = cell[:, :, (side+1) % 2, :]\n",
        "    \n",
        "        mx = res.max()\n",
        "        mx_index = np.unravel_index(res.argmax(), res.shape)\n",
        "        for dim in range(3):\n",
        "            pred[dim][mx_index[dim]] = 1\n",
        "        \n",
        "    return pred\n",
        "\n",
        "def change_output(df: pd.DataFrame):\n",
        "    left, right = df.apply(lambda cell: process_cell(cell, 0)), df.apply(lambda cell: process_cell(cell, 1))\n",
        "    \n",
        "    left = pd.DataFrame(left.to_list(), columns=[f'l_dim{x}' for x in range(3)], index=left.index)\n",
        "    right = pd.DataFrame(right.to_list(), columns=[f'r_dim{x}' for x in range(3)], index=right.index)\n",
        "    \n",
        "    return left.join(right)\n",
        "    \n",
        "def process_file(file_path, recreate=False):\n",
        "    \"\"\" Processing needed to be done per file \"\"\"\n",
        "    print(f'Processing {file_path}')\n",
        "    try:\n",
        "        df = pd.read_pickle(file_path)\n",
        "    \n",
        "        # all in one serialization (99.5 % with bad metric)\n",
        "        #     df['output'] = df_col2series(df, ['output'])\n",
        "        df = df.join(change_output(df['output']))\n",
        "        df['shifted'] = df['output'].shift(1, fill_value=[np.zeros(df['output'].iloc[0].shape)])\n",
        "        \n",
        "        df['times'] = df_col2series(df, ['prev', 'next'])\n",
        "        df['name'] = f'{file_path}'\n",
        "\n",
        "        mfcc = file2mfcc(file_path, recreate=recreate)\n",
        "        mfcc.name = 'mfcc'\n",
        "        round_index = mfcc.index.values[1] - mfcc.index.values[0]\n",
        "        df.index = np.floor(df['time'] / round_index).astype(int)\n",
        "        mfcc.index = (mfcc.index / round_index).astype(int)\n",
        "\n",
        "        df = df.join(mfcc)\n",
        "        df.index = df['time']\n",
        "        df = df.dropna()\n",
        "    except Exception as e:\n",
        "        print(f'Caught Error: {e}')\n",
        "        return None\n",
        "\n",
        "    return df\n",
        "\n",
        "def process_df(df, X_cols, y_cols):\n",
        "    \"\"\" Post processing on the whole DF \"\"\"\n",
        "    \n",
        "    # Add shifter y (predictions)\n",
        "    y_cols_shifted = [f'{x}_shifted' for x in y_cols]\n",
        "    shifted = df[y_cols].groupby('name').shift(1)\n",
        "    df[y_cols_shifted] = shifted\n",
        "    df = df.dropna()\n",
        "    \n",
        "    return df\n",
        "    \n",
        "# file = '../data/Army Of The Night/blocks/Expert.pkl'\n",
        "# file2mfcc(file, recreate=False)\n",
        "# process_file(file).iloc[0]"
      ],
      "execution_count": 0,
      "outputs": []
    },
    {
      "cell_type": "markdown",
      "metadata": {
        "id": "uIrdMxjL15yj",
        "colab_type": "text"
      },
      "source": [
        "## Generate urls to blocks"
      ]
    },
    {
      "cell_type": "code",
      "metadata": {
        "id": "cOF6lCqo15yk",
        "colab_type": "code",
        "colab": {}
      },
      "source": [
        "def get_file_paths(path, hard_max):\n",
        "    \"\"\" \n",
        "    Create a list of all pregenerated blocks files \n",
        "    Search in full subtree of :path:\n",
        "    \"\"\"\n",
        "    \n",
        "    file_paths = []\n",
        "    counter = 0\n",
        "    \n",
        "    for root, dirs, files in os.walk(path, topdown=False):\n",
        "        if counter > hard_max:\n",
        "                break\n",
        "        for name in files:\n",
        "            if root[-6:] == 'blocks':\n",
        "                print(f'#{counter:5} {root}/{name}')\n",
        "                file_paths.append(os.path.join(root, name))\n",
        "                \n",
        "                counter += 1\n",
        "                \n",
        "    return file_paths"
      ],
      "execution_count": 0,
      "outputs": []
    },
    {
      "cell_type": "markdown",
      "metadata": {
        "id": "mT1k47zQ15yr",
        "colab_type": "text"
      },
      "source": [
        "## Create and save training data"
      ]
    },
    {
      "cell_type": "code",
      "metadata": {
        "id": "7NRlQawN15ys",
        "colab_type": "code",
        "colab": {}
      },
      "source": [
        "if train_vals['get_data_from'] == 'recreate':\n",
        "    multi_core = True\n",
        "    if multi_core:\n",
        "        # Embarrassingly parallel problem, but RAM heavy\n",
        "        pool = Pool(processes=None)\n",
        "        X_list = pool.map(process_file, get_file_paths(path, HARD_MAX))\n",
        "        pool.close()\n",
        "        pool.join()\n",
        "    else:\n",
        "        X_list = [process_file(x) for x in get_file_paths(path, HARD_MAX)]\n",
        "\n",
        "    X_list = [x for x in X_list if x is not None]\n",
        "\n",
        "    print(f'Passes {len(X_list):6}/{HARD_MAX:6} hard max')\n",
        "    X = pd.DataFrame(pd.concat(X_list), columns=columns)\n",
        "    X = X.set_index(['name', 'time'])\n",
        "    X = process_df(X, X_cols, y_cols)\n",
        "\n",
        "    X.to_pickle(os.path.join(path, 'X_saved.pkl'))"
      ],
      "execution_count": 0,
      "outputs": []
    },
    {
      "cell_type": "markdown",
      "metadata": {
        "id": "Dg2BzHUc15y0",
        "colab_type": "text"
      },
      "source": [
        "## Load training data"
      ]
    },
    {
      "cell_type": "markdown",
      "metadata": {
        "id": "SQcRjLzdPI92",
        "colab_type": "text"
      },
      "source": [
        "### Load from gDrive"
      ]
    },
    {
      "cell_type": "code",
      "metadata": {
        "id": "jIHtyjeo2sR6",
        "colab_type": "code",
        "colab": {}
      },
      "source": [
        "if train_vals['get_data_from'] == 'gdrive':\n",
        "    # https://drive.google.com/open?id=1F9dpOELfSUJ_U_KMp3oK79h7sPM8ffbY\n",
        "    file_id = '1F9dpOELfSUJ_U_KMp3oK79h7sPM8ffbY'\n",
        "\n",
        "    import io\n",
        "\n",
        "    request = drive_service.files().get_media(fileId=file_id)\n",
        "    downloaded = io.BytesIO()\n",
        "    downloader = MediaIoBaseDownload(downloaded, request)\n",
        "    done = False\n",
        "\n",
        "    while done is False:\n",
        "    # _ is a placeholder for a progress object that we ignore.\n",
        "        _, done = downloader.next_chunk()\n",
        "    \n",
        "    downloaded.seek(0)\n",
        "\n",
        "    # pd.read_table(downloaded, sep=',', index_col=False, error_bad_lines=False, encoding='utf-8')\n",
        "    X = pd.read_pickle(downloaded, compression='zip')"
      ],
      "execution_count": 0,
      "outputs": []
    },
    {
      "cell_type": "markdown",
      "metadata": {
        "id": "p6-i98CiPNWq",
        "colab_type": "text"
      },
      "source": [
        "### Load from PC"
      ]
    },
    {
      "cell_type": "code",
      "metadata": {
        "id": "yYpxPpP7O3GG",
        "colab_type": "code",
        "colab": {}
      },
      "source": [
        "if train_vals['get_data_from'] == 'pc':\n",
        "    from google.colab import files\n",
        "\n",
        "    uploaded = files.upload()\n",
        "\n",
        "    for fn in uploaded.keys():\n",
        "        print('User uploaded file \"{name}\" with length {length} bytes'.format(\n",
        "            name=fn, length=len(uploaded[fn])))"
      ],
      "execution_count": 0,
      "outputs": []
    },
    {
      "cell_type": "markdown",
      "metadata": {
        "id": "Yba1Rs1TPSXO",
        "colab_type": "text"
      },
      "source": [
        "### Load from local"
      ]
    },
    {
      "cell_type": "code",
      "metadata": {
        "id": "i25CE1zP15y3",
        "colab_type": "code",
        "colab": {}
      },
      "source": [
        "if train_vals['get_data_from'] == 'local':\n",
        "    X = pd.read_pickle(os.path.join(path, 'X_saved.pkl'))\n",
        "    print(f'Loaded {len(X)} rows')"
      ],
      "execution_count": 0,
      "outputs": []
    },
    {
      "cell_type": "markdown",
      "metadata": {
        "id": "VQi7kX8t15zH",
        "colab_type": "text"
      },
      "source": [
        "# Training approaches\n",
        "\n",
        "## Generator training approach\n",
        "\n",
        "### Advantages\n",
        "- Every batch can have different length\n",
        "    - No crop of songs in batches needed\n",
        "    - Minimal padding\n",
        "    - $\\Rightarrow$ model learns from songs with the context of beginning and end\n",
        "    \n",
        "### Disadvantages\n",
        "- Less convinient then standard `model.fit(X, y, **kwargs)`\n",
        "- Big memory movement overhead\n",
        "    - Would be even more significant if trained on a GPU\n",
        "    \n",
        "\n",
        "## Standard training approach\n",
        "- Different lengths solved by generating snippets of songs of len $N$\n",
        "    - Effectively creates more versitile dataset, since songs are \"starting\" at different places\n",
        "    \n",
        "### Advantages\n",
        "- No padding and no crop\n",
        "    - No crop of songs in batches needed\n",
        "    - Minimal padding\n",
        "    - $\\Rightarrow$ model learns from songs with the context of beginning and end\n",
        "- All \"heavy altilery\" from TF can be used\n",
        "    \n",
        "### Disadvantages\n",
        "- No differentitation between beggining and end of the song\n",
        "    - $\\Rightarrow$ could be solved by adding procentage column which indicates in interval $(0, 1)$ where the beat lies in the song"
      ]
    },
    {
      "cell_type": "markdown",
      "metadata": {
        "id": "03OEzo1k15zJ",
        "colab_type": "text"
      },
      "source": [
        "# Generator training approach\n",
        "## Helper functions for train_generator"
      ]
    },
    {
      "cell_type": "code",
      "metadata": {
        "scrolled": true,
        "id": "_4dKto6y15zK",
        "colab_type": "code",
        "colab": {}
      },
      "source": [
        "precision = 2\n",
        "\n",
        "def pp(row):\n",
        "    print('*' * 69)\n",
        "    print(row)\n",
        "    \n",
        "def round_up(num:float, prec: int) -> int:\n",
        "    return int(math.ceil((10 ** -prec) * num) / (10 ** -prec))\n",
        "    \n",
        "def get_len_category(song, prec: int=precision):\n",
        "    return int(round_up(len(song), 2))\n",
        "\n",
        "def get_mask(X, prec: int=precision):\n",
        "    mask = X.groupby('name').apply(get_len_category)\n",
        "    return mask.to_dict()\n",
        "\n",
        "def create_batch(group, ceil_len, verbose=True):\n",
        "    if verbose:\n",
        "        print(f'Creating batch of ceil_len {ceil_len:6} with {len(group)} rows')\n",
        "    ceil_len = int(ceil_len)\n",
        "    \n",
        "    batch = []\n",
        "    for name, song in group.groupby('name'):\n",
        "        empty_row = song.head(1).squeeze().apply(np.zeros_like)\n",
        "#         print(f'{ceil_len} | {len(song)} | {empty_row}')\n",
        "        df_to_add = pd.DataFrame([empty_row] * (ceil_len - len(song)))\n",
        "        batch.append(pd.concat([song, df_to_add]))\n",
        "\n",
        "    return pd.concat(batch)\n",
        "\n",
        "# LESON: Don't forget about the NaNs!\n",
        "\n",
        "\n",
        "def list2numpy(batch, col_name, groupby=('name')):\n",
        "    return np.array(batch.groupby(list(groupby))[col_name].apply(list).to_list())"
      ],
      "execution_count": 0,
      "outputs": []
    },
    {
      "cell_type": "markdown",
      "metadata": {
        "id": "R9EkbRwe15zO",
        "colab_type": "text"
      },
      "source": [
        "## Show bucketing results"
      ]
    },
    {
      "cell_type": "code",
      "metadata": {
        "id": "Mdsoppl615zP",
        "colab_type": "code",
        "colab": {}
      },
      "source": [
        "if train_vals['train_on'] == 'generator':\n",
        "    grouped = X.groupby(get_mask(X), level=0)\n",
        "\n",
        "    adjust = 6\n",
        "    stats = []\n",
        "    print(f'{\"from\":>{adjust}} ‒ {\"to\":>{adjust}}: {\"# of songs\":>{adjust*2}}')\n",
        "\n",
        "    for name, group in grouped:\n",
        "        print(f'{name - 10 ** precision:{adjust}} ‒ {name:{adjust}}: {len(group.groupby(\"name\").groups):{adjust*2}}')\n",
        "        stats.append({'from': name - 10 ** precision, 'to': name, '# of songs': len(group.groupby(\"name\").groups)})\n",
        "\n",
        "    # print in your favorite way\n",
        "    # pd.DataFrame(stats, columns=['from', 'to', '# of songs'])"
      ],
      "execution_count": 0,
      "outputs": []
    },
    {
      "cell_type": "code",
      "metadata": {
        "id": "4LET0xNM15zU",
        "colab_type": "code",
        "colab": {}
      },
      "source": [
        "def train_generator(df, X_cols, y_cols, verbose=True):\n",
        "    grouped = X.groupby(get_mask(df), level=0)\n",
        "    \n",
        "#     p = Pool(2)  # slowe because of memory\n",
        "#     batches = p.starmap(create_batch, [(group, ceil_len) for ceil_len, group in grouped])\n",
        "#     grouped = list(grouped)[:2]\n",
        "    batches = [create_batch(group, ceil_len, verbose) for ceil_len, group in grouped]\n",
        "    batches = [batch for batch in batches if len(batch.groupby('name').groups) > 8]\n",
        "    \n",
        "    while True:\n",
        "        for batch in batches:\n",
        "            yield [list2numpy(batch, col) for col in X_cols],\\\n",
        "                  [list2numpy(batch, col) for col in y_cols]\n",
        "            \n",
        "if train_vals['train_on'] == 'generator':\n",
        "    # test generated shapes\n",
        "    generator = train_generator(X, X_cols, y_cols)\n",
        "    for x, y in generator:\n",
        "        print(f'x.shapes {[np.array(x_t).shape for x_t in x]}')\n",
        "        print(f'y.shape {[np.array(y_t).shape for y_t in y]}\\n')\n",
        "        break"
      ],
      "execution_count": 0,
      "outputs": []
    },
    {
      "cell_type": "markdown",
      "metadata": {
        "id": "AL1WBDS715zW",
        "colab_type": "text"
      },
      "source": [
        "# Model"
      ]
    },
    {
      "cell_type": "code",
      "metadata": {
        "id": "qNYhHE4115zW",
        "colab_type": "code",
        "colab": {}
      },
      "source": [
        "from tensorflow.keras.layers import Dense, LSTM, Flatten, Input, Activation, TimeDistributed, concatenate, Dropout, GRU, SimpleRNN\n",
        "from tensorflow.keras.models import Sequential\n",
        "from tensorflow.keras.models import Model\n",
        "from tensorflow.keras.metrics import top_k_categorical_accuracy\n",
        "from tensorflow.keras import optimizers\n",
        "import tensorflow.keras.backend as K"
      ],
      "execution_count": 0,
      "outputs": []
    },
    {
      "cell_type": "code",
      "metadata": {
        "id": "YD81UnWs15zY",
        "colab_type": "code",
        "outputId": "7a15a696-073c-4962-d9d5-db7992bc93ac",
        "colab": {
          "base_uri": "https://localhost:8080/",
          "height": 672
        }
      },
      "source": [
        "def get_model(X, X_cols, y_cols, settings=None, input_length=None, batch_size=None):\n",
        "    rnn_fn = {\n",
        "        'rnn': SimpleRNN,\n",
        "        'gru': GRU,\n",
        "        'lstm': LSTM\n",
        "    }\n",
        "    \n",
        "    opt_fn = {\n",
        "        'adam': optimizers.Adam,\n",
        "        'rmsprop': optimizers.RMSprop,\n",
        "    }\n",
        "  \n",
        "    if not settings:\n",
        "        settings = {\n",
        "            'pre_process': 0.5,\n",
        "            'pre_process_f': 'sigmoid',\n",
        "\n",
        "            'rnn_join':[0, 32],\n",
        "            'fn_join': 'lstm',\n",
        "            'drop_join': 0,\n",
        "\n",
        "            'rnn_split':[0, 32],\n",
        "            'fn_split': 'lstm',\n",
        "            'drop_split': 0,\n",
        "\n",
        "            'optimizer': 'adam',\n",
        "            'lr': 0.005,\n",
        "        }\n",
        "        \n",
        "    stateful = batch_size is not None\n",
        "    \n",
        "    demo_row = X.iloc[0]\n",
        "    X_shapes = [demo_row[col].shape[0] for col in X_cols]\n",
        "    y_shapes = [demo_row[col].shape[0] for col in y_cols]\n",
        "    \n",
        "    inputs = [Input(batch_size=batch_size, shape=(input_length, shape)) for shape in X_shapes]\n",
        "    \n",
        "    if int(settings['pre_process']) != 0:\n",
        "        time_dist = [TimeDistributed(Dense(int(shape * settings['pre_process']), activation=settings['pre_process_f']))(inputs[i])\n",
        "                     for i, shape in enumerate(X_shapes)]\n",
        "    else:\n",
        "        time_dist = inputs\n",
        "    \n",
        "    join = concatenate(time_dist, axis=-1)\n",
        "      \n",
        "    for h_size in settings['rnn_join']:\n",
        "        if h_size != 0:\n",
        "            split = rnn_fn[settings['fn_join']](h_size, return_sequences=True, dropout=settings['drop_join'], stateful=stateful)(join)\n",
        "    \n",
        "    split = None\n",
        "    for h_size in settings['rnn_split']:\n",
        "        if h_size != 0:\n",
        "            if not split:\n",
        "                split = [rnn_fn[settings['fn_split']](h_size, return_sequences=True, dropout=settings['drop_split'], stateful=stateful)(join) for i, col in enumerate(y_cols)]\n",
        "            else:\n",
        "                split = [rnn_fn[settings['fn_split']](h_size, return_sequences=True, dropout=settings['drop_split'], stateful=stateful)(split[i]) for i, col in enumerate(y_cols)]\n",
        "    \n",
        "    if split:\n",
        "        outputs = [TimeDistributed(Dense(shape, activation='softmax'), name=col)(split[i]) \n",
        "                   for i, (shape, col) in enumerate(zip(y_shapes, y_cols))]\n",
        "    else:\n",
        "        outputs = [TimeDistributed(Dense(shape, activation='softmax'), name=col)(join) for shape, col in zip(y_shapes, y_cols)]\n",
        "\n",
        "    model = Model(inputs=inputs, outputs=outputs)\n",
        "    \n",
        "    model.compile(optimizer=opt_fn[settings['optimizer']](lr=settings['lr']),\n",
        "                  loss='categorical_crossentropy',\n",
        "                  metrics=['accuracy'])\n",
        "    \n",
        "    return model\n",
        "\n",
        "\n",
        "model = get_model(X, X_cols, y_cols, input_length=None, batch_size=32)\n",
        "model.summary()\n"
      ],
      "execution_count": 0,
      "outputs": [
        {
          "output_type": "stream",
          "text": [
            "Model: \"model_31\"\n",
            "__________________________________________________________________________________________________\n",
            "Layer (type)                    Output Shape         Param #     Connected to                     \n",
            "==================================================================================================\n",
            "input_67 (InputLayer)           [(32, None, 2)]      0                                            \n",
            "__________________________________________________________________________________________________\n",
            "input_68 (InputLayer)           [(32, None, 13)]     0                                            \n",
            "__________________________________________________________________________________________________\n",
            "concatenate_33 (Concatenate)    (32, None, 15)       0           input_67[0][0]                   \n",
            "                                                                 input_68[0][0]                   \n",
            "__________________________________________________________________________________________________\n",
            "lstm_124 (LSTM)                 (32, None, 32)       6144        concatenate_33[0][0]             \n",
            "__________________________________________________________________________________________________\n",
            "lstm_125 (LSTM)                 (32, None, 32)       6144        concatenate_33[0][0]             \n",
            "__________________________________________________________________________________________________\n",
            "lstm_126 (LSTM)                 (32, None, 32)       6144        concatenate_33[0][0]             \n",
            "__________________________________________________________________________________________________\n",
            "lstm_127 (LSTM)                 (32, None, 32)       6144        concatenate_33[0][0]             \n",
            "__________________________________________________________________________________________________\n",
            "lstm_128 (LSTM)                 (32, None, 32)       6144        concatenate_33[0][0]             \n",
            "__________________________________________________________________________________________________\n",
            "lstm_129 (LSTM)                 (32, None, 32)       6144        concatenate_33[0][0]             \n",
            "__________________________________________________________________________________________________\n",
            "r_dim0 (TimeDistributed)        (None, None, 3)      99          lstm_124[0][0]                   \n",
            "__________________________________________________________________________________________________\n",
            "r_dim1 (TimeDistributed)        (None, None, 4)      132         lstm_125[0][0]                   \n",
            "__________________________________________________________________________________________________\n",
            "r_dim2 (TimeDistributed)        (None, None, 9)      297         lstm_126[0][0]                   \n",
            "__________________________________________________________________________________________________\n",
            "l_dim0 (TimeDistributed)        (None, None, 3)      99          lstm_127[0][0]                   \n",
            "__________________________________________________________________________________________________\n",
            "l_dim1 (TimeDistributed)        (None, None, 4)      132         lstm_128[0][0]                   \n",
            "__________________________________________________________________________________________________\n",
            "l_dim2 (TimeDistributed)        (None, None, 9)      297         lstm_129[0][0]                   \n",
            "==================================================================================================\n",
            "Total params: 37,920\n",
            "Trainable params: 37,920\n",
            "Non-trainable params: 0\n",
            "__________________________________________________________________________________________________\n"
          ],
          "name": "stdout"
        }
      ]
    },
    {
      "cell_type": "markdown",
      "metadata": {
        "id": "We70AaDp15za",
        "colab_type": "text"
      },
      "source": [
        "## Get a new model and show it"
      ]
    },
    {
      "cell_type": "code",
      "metadata": {
        "id": "SUQXBZH93FWp",
        "colab_type": "code",
        "colab": {}
      },
      "source": [
        "X.columns\n"
      ],
      "execution_count": 0,
      "outputs": []
    },
    {
      "cell_type": "code",
      "metadata": {
        "id": "3OtDLqF415zb",
        "colab_type": "code",
        "colab": {}
      },
      "source": [
        "model = get_model(X, X_cols, y_cols)\n",
        "model.summary()"
      ],
      "execution_count": 0,
      "outputs": []
    },
    {
      "cell_type": "markdown",
      "metadata": {
        "id": "OkOk4hNe15zg",
        "colab_type": "text"
      },
      "source": [
        "## Train model on generator"
      ]
    },
    {
      "cell_type": "code",
      "metadata": {
        "scrolled": true,
        "id": "JcCPJekP15zi",
        "colab_type": "code",
        "colab": {}
      },
      "source": [
        "def important_metric(metric_name):\n",
        "    return 'val' in metric_name and 'acc' in metric_name\n",
        "        \n",
        "\n",
        "def train_on_generator(X, X_cols, y_cols, verbose_level=1, model=None, epochs=300):\n",
        "    if not model:\n",
        "        model = get_model(X, X_cols, y_cols)\n",
        "    \n",
        "    acc_results = {}\n",
        "    stats_len = 30\n",
        "\n",
        "    generator = train_generator(X, X_cols, y_cols, verbose_level>=2)\n",
        "    for i, (x, y) in enumerate(generator):\n",
        "        if i > epochs:\n",
        "            break\n",
        "        res = model.fit(x, y, batch_size=128, validation_split=0.1, verbose=verbose_level>=3)\n",
        "        \n",
        "        if verbose_level >= 1:\n",
        "            if i % stats_len == 0:\n",
        "                total_acc = (np.array(list(acc_results.values())) / stats_len).mean()\n",
        "                display(Markdown(f'### Batch {i:4} | {total_acc:4.4}'))\n",
        "                pprint([f'{key:30}: {val/stats_len}' for key, val in acc_results.items()])\n",
        "\n",
        "                acc_results = {key: val[0] for key, val in res.history.items() if important_metric(key)}\n",
        "            else:\n",
        "                for key in acc_results:\n",
        "                    acc_results[key] += res.history[key][0]\n",
        "    \n",
        "    \n",
        "    acc_results = {key: val[0] for key, val in res.history.items() if important_metric(key)}\n",
        "    total_acc = (np.array(list(acc_results.values()))).mean()\n",
        "    display(Markdown(f'### Last epoch {i:4} results | {total_acc:4.4}'))\n",
        "    pprint(acc_results)\n",
        "    \n",
        "    return model\n",
        "    \n",
        "# Test train_on_generator\n",
        "# train_on_generator(X, X_cols, y_cols, 2, None, 2)"
      ],
      "execution_count": 0,
      "outputs": []
    },
    {
      "cell_type": "code",
      "metadata": {
        "id": "wb04RlYF15zs",
        "colab_type": "code",
        "colab": {}
      },
      "source": [
        "if train_vals['train_on'] == 'generator':\n",
        "    train_on_generator(X, y_cols, y_cols, verbose_level=1, model=None, epochs=300)\n",
        "\n",
        "    model = train_on_generator(X, ['times', 'mfcc'] + y_cols_shifted, y_cols, verbose_level=2, model=model, epochs=490)"
      ],
      "execution_count": 0,
      "outputs": []
    },
    {
      "cell_type": "markdown",
      "metadata": {
        "id": "HVreD9xD15zv",
        "colab_type": "text"
      },
      "source": [
        "### Empirical findings\n",
        "- If the `y_cols_shifted` input is not provided, model tends to learn and stay on most common value of each classification.\n",
        "- Sanity check porforms quickly over 90 % acc\n",
        "\n",
        "### Improvements to be tested\n",
        "\n",
        "1. More normalization of the data\n",
        "    - Force the model to catch the underlying principle and not \"mean\"\n",
        "1. Flip L / R hand and horizontal mirorring and rotations\n",
        "1. Flip vertically with rotation\n",
        "1. If one hand not used, mirror the other hand instead of \"0\"\n",
        "1. Instead of generator, create snippets of 100 beats\n",
        "    - Easier GPU training\n",
        "    - Train it on gColab"
      ]
    },
    {
      "cell_type": "markdown",
      "metadata": {
        "id": "mLVxKDND15zw",
        "colab_type": "text"
      },
      "source": [
        "## Hand evaluation\n",
        "- Is needed since good results can be caused by a wrongly chosen matric!"
      ]
    },
    {
      "cell_type": "code",
      "metadata": {
        "id": "ej6DQPVE15zx",
        "colab_type": "code",
        "colab": {}
      },
      "source": [
        "if train_vals['train_on'] == 'generator':\n",
        "    import copy\n",
        "\n",
        "    generator = train_generator(X, ['times', 'mfcc'] + y_cols_shifted, y_cols)\n",
        "    x, y = generator.__next__()\n",
        "    prediction = model.predict(x)"
      ],
      "execution_count": 0,
      "outputs": []
    },
    {
      "cell_type": "code",
      "metadata": {
        "id": "h8IZ6xIp15z0",
        "colab_type": "code",
        "colab": {}
      },
      "source": [
        "if train_vals['train_on'] == 'generator':\n",
        "    f, t = 0, 20\n",
        "    for dim, (p, y_t) in enumerate(zip(prediction, y)):    \n",
        "        df = pd.DataFrame(p[0][f:t])\n",
        "        df = df.eq(df.where(df != 0).max(1), axis=0).astype(int)\n",
        "        df.index.name = y_cols[dim]\n",
        "        df_y = pd.DataFrame(y_t[0][f:t]).astype(int)\n",
        "        df = df.join(df_y, rsuffix='_true')\n",
        "        display(df)"
      ],
      "execution_count": 0,
      "outputs": []
    },
    {
      "cell_type": "code",
      "metadata": {
        "id": "9zFMXO2m15z3",
        "colab_type": "code",
        "colab": {}
      },
      "source": [
        "def eval_generator():\n",
        "    while True:\n",
        "        for x1, x2, y in zip(X['blocks'][300:], X['times'][300:], Y[300:]):\n",
        "            yield [np.array([x1, ]), np.array([x2, ])], np.array([y, ])\n",
        "           \n",
        "if train_vals['train_on'] == 'generator':\n",
        "    model = get_model()\n",
        "    model.batch_size = 8            \n",
        "\n",
        "    model.fit_generator(train_generator(), steps_per_epoch=300, epochs=1, verbose=1, \n",
        "                      use_multiprocessing=False)\n",
        "    model.evaluate_generator(eval_generator(), steps=19, )"
      ],
      "execution_count": 0,
      "outputs": []
    },
    {
      "cell_type": "markdown",
      "metadata": {
        "id": "ootcOOLl0zVn",
        "colab_type": "text"
      },
      "source": [
        "## Add shifted outputs"
      ]
    },
    {
      "cell_type": "code",
      "metadata": {
        "id": "k-wtAu9NdOQM",
        "colab_type": "code",
        "colab": {}
      },
      "source": [
        "X = process_df(X, X_cols, y_cols)\n",
        "X.columns\n",
        "X_cols += ['r_dim0_shifted', 'r_dim1_shifted', 'r_dim2_shifted',\n",
        "       'l_dim0_shifted', 'l_dim1_shifted', 'l_dim2_shifted']\n",
        "X_cols, y_cols"
      ],
      "execution_count": 0,
      "outputs": []
    },
    {
      "cell_type": "markdown",
      "metadata": {
        "id": "QeUxhixL15z5",
        "colab_type": "text"
      },
      "source": [
        "# Song snippets training"
      ]
    },
    {
      "cell_type": "code",
      "metadata": {
        "id": "vxYlN-i015z6",
        "colab_type": "code",
        "colab": {}
      },
      "source": [
        "def generate_snippets(song_df, window=100, skip=50):\n",
        "    stack = []\n",
        "    ln = len(song_df)\n",
        "    \n",
        "    # Check if at least 1 window is possible\n",
        "    if ln < window:\n",
        "        return None\n",
        "    \n",
        "    # name information is contained in the grouping operation\n",
        "    song_df = song_df.reset_index(level='name').drop(columns='name')\n",
        "\n",
        "    for s in range(0, ln, skip):\n",
        "        # Make sure the dataset contains ends of the songs\n",
        "        if s + window > ln:\n",
        "            stack.append(song_df.iloc[-window:])\n",
        "        else:\n",
        "            stack.append(song_df.iloc[s:s+window])\n",
        "    \n",
        "    df = pd.concat(stack, keys=list(range(0, len(song_df), skip)), names=['snippet', 'time'])\n",
        "    return df\n",
        "    \n",
        "X = process_df(X, X_cols, y_cols)\n",
        "X2 = X.iloc[:].groupby('name').apply(generate_snippets)\n"
      ],
      "execution_count": 0,
      "outputs": []
    },
    {
      "cell_type": "code",
      "metadata": {
        "id": "q7vN9ZnO15z8",
        "colab_type": "code",
        "outputId": "71b6cac3-de3c-4c0e-f9af-484fe791dd87",
        "colab": {
          "base_uri": "https://localhost:8080/",
          "height": 34
        }
      },
      "source": [
        "X_cols"
      ],
      "execution_count": 0,
      "outputs": [
        {
          "output_type": "execute_result",
          "data": {
            "text/plain": [
              "['times', 'mfcc']"
            ]
          },
          "metadata": {
            "tags": []
          },
          "execution_count": 22
        }
      ]
    },
    {
      "cell_type": "code",
      "metadata": {
        "id": "2_jIHIHH15z-",
        "colab_type": "code",
        "colab": {}
      },
      "source": [
        "def create_training_data(X, groupby=('name', 'snippet')):\n",
        "    return [list2numpy(X, col, groupby) for col in X_cols],\\\n",
        "           [list2numpy(X, col, groupby) for col in y_cols]\n",
        "\n",
        "x, y = create_training_data(X2)"
      ],
      "execution_count": 0,
      "outputs": []
    },
    {
      "cell_type": "code",
      "metadata": {
        "id": "GpKWtwa0BI_j",
        "colab_type": "code",
        "outputId": "54bdcfae-d839-4eb4-bf97-9a3ecc8977ac",
        "colab": {
          "base_uri": "https://localhost:8080/",
          "height": 269
        }
      },
      "source": [
        "X2.iloc[0]"
      ],
      "execution_count": 0,
      "outputs": [
        {
          "output_type": "execute_result",
          "data": {
            "text/plain": [
              "times                                              [0.5625, 0.5625]\n",
              "mfcc              [0.1203609, 0.8934802, -0.27877954, -0.6908295...\n",
              "r_dim0                                              [1.0, 0.0, 0.0]\n",
              "r_dim1                                         [0.0, 0.0, 0.0, 1.0]\n",
              "r_dim2                [1.0, 0.0, 0.0, 0.0, 0.0, 0.0, 0.0, 0.0, 0.0]\n",
              "l_dim0                                              [1.0, 0.0, 0.0]\n",
              "l_dim1                                         [0.0, 0.0, 1.0, 0.0]\n",
              "l_dim2                [1.0, 0.0, 0.0, 0.0, 0.0, 0.0, 0.0, 0.0, 0.0]\n",
              "r_dim0_shifted                                      [1.0, 0.0, 0.0]\n",
              "r_dim1_shifted                                 [0.0, 0.0, 0.0, 1.0]\n",
              "r_dim2_shifted        [0.0, 1.0, 0.0, 0.0, 0.0, 0.0, 0.0, 0.0, 0.0]\n",
              "l_dim0_shifted                                      [1.0, 0.0, 0.0]\n",
              "l_dim1_shifted                                 [0.0, 0.0, 1.0, 0.0]\n",
              "l_dim2_shifted        [0.0, 1.0, 0.0, 0.0, 0.0, 0.0, 0.0, 0.0, 0.0]\n",
              "Name: (../data/1000 Cuts/blocks/Expert.pkl, 0, 3.6712499999999997), dtype: object"
            ]
          },
          "metadata": {
            "tags": []
          },
          "execution_count": 24
        }
      ]
    },
    {
      "cell_type": "markdown",
      "metadata": {
        "id": "Z6vvlI59hSlz",
        "colab_type": "text"
      },
      "source": [
        "## Train utils\n",
        "- Let's search for good hyperparameters!"
      ]
    },
    {
      "cell_type": "code",
      "metadata": {
        "id": "eBCkel4NhWBV",
        "colab_type": "code",
        "outputId": "3ef21571-72ba-43b7-a1f3-10638f0c04a4",
        "colab": {
          "base_uri": "https://localhost:8080/",
          "height": 195
        }
      },
      "source": [
        "from tensorflow.keras.callbacks import EarlyStopping, ReduceLROnPlateau, TensorBoard\n",
        "from time import time\n",
        "import datetime\n",
        "from pprint import pprint\n",
        "from itertools import product\n",
        "\n",
        "\n",
        "def get_callbacks(settings):\n",
        "    train_name = str(settings)\n",
        "    return [\n",
        "        EarlyStopping('val_loss', min_delta=0.0008, patience=7),\n",
        "#         EarlyStopping('val_loss', min_delta=0.008, patience=4),\n",
        "        ReduceLROnPlateau('val_loss', patience=2, factor=0.2, min_lr=0.0001),\n",
        "#         TensorBoard(log_dir=f'./logs/{train_name}'),\n",
        "    ]\n",
        "\n",
        "train_settings = {}\n",
        "\n",
        "# Pre RNN\n",
        "train_settings['pre_process'] = [0, 0.5, 1, 2]\n",
        "train_settings['pre_process_f'] = ['elu', 'sigmoid']\n",
        "\n",
        "# RNN\n",
        "layers_op = [0, 16, 24, 32]  # potentially add 64, 128\n",
        "for part in ['join', 'split']:\n",
        "    train_settings[f'rnn_{part}'] = list(product(layers_op, repeat=2))\n",
        "    train_settings[f'drop_{part}'] = [0, 0.1, 0.2]\n",
        "    train_settings[f'fn_{part}'] = ['gru', 'lstm']  # rnn is too slow\n",
        "    \n",
        "# Compilation\n",
        "train_settings['optimizer'] = ['adam', 'rmsprop']\n",
        "train_settings['lr'] = [0.03, 0.01, 0.005, 0.001]\n",
        "\n",
        "\n",
        "p = product(*list(train_settings.values()))\n",
        "train_settings_df = pd.DataFrame(p, columns=list(train_settings.keys()))\n",
        "train_settings_df.head()"
      ],
      "execution_count": 0,
      "outputs": [
        {
          "output_type": "execute_result",
          "data": {
            "text/html": [
              "<div>\n",
              "<style scoped>\n",
              "    .dataframe tbody tr th:only-of-type {\n",
              "        vertical-align: middle;\n",
              "    }\n",
              "\n",
              "    .dataframe tbody tr th {\n",
              "        vertical-align: top;\n",
              "    }\n",
              "\n",
              "    .dataframe thead th {\n",
              "        text-align: right;\n",
              "    }\n",
              "</style>\n",
              "<table border=\"1\" class=\"dataframe\">\n",
              "  <thead>\n",
              "    <tr style=\"text-align: right;\">\n",
              "      <th></th>\n",
              "      <th>pre_process</th>\n",
              "      <th>pre_process_f</th>\n",
              "      <th>rnn_join</th>\n",
              "      <th>drop_join</th>\n",
              "      <th>fn_join</th>\n",
              "      <th>rnn_split</th>\n",
              "      <th>drop_split</th>\n",
              "      <th>fn_split</th>\n",
              "      <th>optimizer</th>\n",
              "      <th>lr</th>\n",
              "    </tr>\n",
              "  </thead>\n",
              "  <tbody>\n",
              "    <tr>\n",
              "      <th>0</th>\n",
              "      <td>0.0</td>\n",
              "      <td>elu</td>\n",
              "      <td>(0, 0)</td>\n",
              "      <td>0.0</td>\n",
              "      <td>gru</td>\n",
              "      <td>(0, 0)</td>\n",
              "      <td>0.0</td>\n",
              "      <td>gru</td>\n",
              "      <td>adam</td>\n",
              "      <td>0.030</td>\n",
              "    </tr>\n",
              "    <tr>\n",
              "      <th>1</th>\n",
              "      <td>0.0</td>\n",
              "      <td>elu</td>\n",
              "      <td>(0, 0)</td>\n",
              "      <td>0.0</td>\n",
              "      <td>gru</td>\n",
              "      <td>(0, 0)</td>\n",
              "      <td>0.0</td>\n",
              "      <td>gru</td>\n",
              "      <td>adam</td>\n",
              "      <td>0.010</td>\n",
              "    </tr>\n",
              "    <tr>\n",
              "      <th>2</th>\n",
              "      <td>0.0</td>\n",
              "      <td>elu</td>\n",
              "      <td>(0, 0)</td>\n",
              "      <td>0.0</td>\n",
              "      <td>gru</td>\n",
              "      <td>(0, 0)</td>\n",
              "      <td>0.0</td>\n",
              "      <td>gru</td>\n",
              "      <td>adam</td>\n",
              "      <td>0.005</td>\n",
              "    </tr>\n",
              "    <tr>\n",
              "      <th>3</th>\n",
              "      <td>0.0</td>\n",
              "      <td>elu</td>\n",
              "      <td>(0, 0)</td>\n",
              "      <td>0.0</td>\n",
              "      <td>gru</td>\n",
              "      <td>(0, 0)</td>\n",
              "      <td>0.0</td>\n",
              "      <td>gru</td>\n",
              "      <td>adam</td>\n",
              "      <td>0.001</td>\n",
              "    </tr>\n",
              "    <tr>\n",
              "      <th>4</th>\n",
              "      <td>0.0</td>\n",
              "      <td>elu</td>\n",
              "      <td>(0, 0)</td>\n",
              "      <td>0.0</td>\n",
              "      <td>gru</td>\n",
              "      <td>(0, 0)</td>\n",
              "      <td>0.0</td>\n",
              "      <td>gru</td>\n",
              "      <td>rmsprop</td>\n",
              "      <td>0.030</td>\n",
              "    </tr>\n",
              "  </tbody>\n",
              "</table>\n",
              "</div>"
            ],
            "text/plain": [
              "   pre_process pre_process_f rnn_join  ...  fn_split optimizer     lr\n",
              "0          0.0           elu   (0, 0)  ...       gru      adam  0.030\n",
              "1          0.0           elu   (0, 0)  ...       gru      adam  0.010\n",
              "2          0.0           elu   (0, 0)  ...       gru      adam  0.005\n",
              "3          0.0           elu   (0, 0)  ...       gru      adam  0.001\n",
              "4          0.0           elu   (0, 0)  ...       gru   rmsprop  0.030\n",
              "\n",
              "[5 rows x 10 columns]"
            ]
          },
          "metadata": {
            "tags": []
          },
          "execution_count": 40
        }
      ]
    },
    {
      "cell_type": "code",
      "metadata": {
        "id": "t2Sh0gmw4UP4",
        "colab_type": "code",
        "outputId": "7c52a3fc-9ce3-4989-f270-e2b2e0b05f7e",
        "colab": {
          "base_uri": "https://localhost:8080/",
          "height": 222
        }
      },
      "source": [
        "for i, row in train_settings_df.sample(10).iterrows():\n",
        "    print(row.to_dict())\n",
        "    \n",
        "print(f'Total comb size: {len(train_settings_df)}')"
      ],
      "execution_count": 0,
      "outputs": [
        {
          "output_type": "stream",
          "text": [
            "{'pre_process': 0.0, 'pre_process_f': 'elu', 'rnn_join': (24, 32), 'drop_join': 0.1, 'fn_join': 'lstm', 'rnn_split': (24, 24), 'drop_split': 0.0, 'fn_split': 'gru', 'optimizer': 'rmsprop', 'lr': 0.01}\n",
            "{'pre_process': 2.0, 'pre_process_f': 'sigmoid', 'rnn_join': (16, 0), 'drop_join': 0.1, 'fn_join': 'lstm', 'rnn_split': (24, 32), 'drop_split': 0.2, 'fn_split': 'gru', 'optimizer': 'rmsprop', 'lr': 0.005}\n",
            "{'pre_process': 2.0, 'pre_process_f': 'sigmoid', 'rnn_join': (24, 16), 'drop_join': 0.2, 'fn_join': 'gru', 'rnn_split': (24, 32), 'drop_split': 0.2, 'fn_split': 'lstm', 'optimizer': 'adam', 'lr': 0.001}\n",
            "{'pre_process': 0.0, 'pre_process_f': 'elu', 'rnn_join': (16, 32), 'drop_join': 0.1, 'fn_join': 'lstm', 'rnn_split': (0, 0), 'drop_split': 0.2, 'fn_split': 'gru', 'optimizer': 'rmsprop', 'lr': 0.001}\n",
            "{'pre_process': 0.0, 'pre_process_f': 'elu', 'rnn_join': (0, 0), 'drop_join': 0.0, 'fn_join': 'gru', 'rnn_split': (0, 16), 'drop_split': 0.1, 'fn_split': 'gru', 'optimizer': 'adam', 'lr': 0.005}\n",
            "{'pre_process': 0.5, 'pre_process_f': 'elu', 'rnn_join': (16, 0), 'drop_join': 0.0, 'fn_join': 'lstm', 'rnn_split': (32, 0), 'drop_split': 0.0, 'fn_split': 'gru', 'optimizer': 'adam', 'lr': 0.001}\n",
            "{'pre_process': 0.5, 'pre_process_f': 'elu', 'rnn_join': (0, 0), 'drop_join': 0.1, 'fn_join': 'lstm', 'rnn_split': (32, 32), 'drop_split': 0.1, 'fn_split': 'gru', 'optimizer': 'adam', 'lr': 0.001}\n",
            "{'pre_process': 1.0, 'pre_process_f': 'elu', 'rnn_join': (0, 24), 'drop_join': 0.1, 'fn_join': 'lstm', 'rnn_split': (32, 16), 'drop_split': 0.2, 'fn_split': 'gru', 'optimizer': 'adam', 'lr': 0.03}\n",
            "{'pre_process': 1.0, 'pre_process_f': 'sigmoid', 'rnn_join': (16, 24), 'drop_join': 0.0, 'fn_join': 'gru', 'rnn_split': (32, 16), 'drop_split': 0.2, 'fn_split': 'gru', 'optimizer': 'rmsprop', 'lr': 0.01}\n",
            "{'pre_process': 0.5, 'pre_process_f': 'elu', 'rnn_join': (24, 16), 'drop_join': 0.2, 'fn_join': 'lstm', 'rnn_split': (32, 0), 'drop_split': 0.0, 'fn_split': 'lstm', 'optimizer': 'adam', 'lr': 0.01}\n",
            "Total comb size: 589824\n"
          ],
          "name": "stdout"
        }
      ]
    },
    {
      "cell_type": "code",
      "metadata": {
        "id": "fZvc9MmM-BOi",
        "colab_type": "code",
        "colab": {}
      },
      "source": [
        "# !ls \"/content/drive/My Drive/Programování - projekty a práce/ArtificialDot/Colabs/DeepSaber\"\n",
        "\n",
        "path_for_results = '/content/drive/My Drive/Programování - projekty a práce/ArtificialDot/Colabs/DeepSaber/results.csv'\n",
        "\n",
        "def reset_results():\n",
        "    results_df = pd.DataFrame(columns=['settings',\n",
        "                                        'val_loss',\n",
        "                                        'val_l_dim0_accuracy',\n",
        "                                        'val_l_dim1_accuracy',\n",
        "                                        'val_l_dim2_accuracy',\n",
        "                                        'val_r_dim0_accuracy',\n",
        "                                        'val_r_dim1_accuracy',\n",
        "                                        'val_r_dim2_accuracy',\n",
        "                                        'val_l_dim0_loss',\n",
        "                                        'val_l_dim1_loss',\n",
        "                                        'val_l_dim2_loss',\n",
        "                                        'val_r_dim0_loss',\n",
        "                                        'val_r_dim1_loss',\n",
        "                                        'val_r_dim2_loss',\n",
        "                                        'loss',\n",
        "                                        'l_dim0_accuracy',\n",
        "                                        'l_dim1_accuracy',\n",
        "                                        'l_dim2_accuracy',\n",
        "                                        'r_dim0_accuracy',\n",
        "                                        'r_dim1_accuracy',\n",
        "                                        'r_dim2_accuracy',\n",
        "                                        'l_dim0_loss',\n",
        "                                        'l_dim1_loss',\n",
        "                                        'l_dim2_loss',\n",
        "                                        'r_dim0_loss',\n",
        "                                        'r_dim1_loss',\n",
        "                                        'r_dim2_loss',\n",
        "                                        'lr',\n",
        "                                      ])\n",
        "    results_df.index.rename('id', inplace=True)\n",
        "#     results_df = results_df.append({'settings': 'Test'}, ignore_index=True)\n",
        "    results_df.to_csv(path_for_results)\n",
        "    \n",
        "# reset_results()"
      ],
      "execution_count": 0,
      "outputs": []
    },
    {
      "cell_type": "code",
      "metadata": {
        "id": "5zfoL7mpOJhq",
        "colab_type": "code",
        "outputId": "c3ad9e36-6c02-4f7e-d52a-af54cd04b4e4",
        "colab": {
          "base_uri": "https://localhost:8080/",
          "height": 34
        }
      },
      "source": [
        "try:\n",
        "    results_df = pd.read_csv(path_for_results, index_col='id')\n",
        "except ValueError as e:\n",
        "    print(e)\n",
        "    results_df = pd.read_csv(path_for_results).set_index('Unnamed: 0')\n",
        "    results_df.index.name = 'id'\n",
        "    results_df.to_csv(path_for_results, index_label='id')\n",
        "results_df['elapsed'].mean()\n"
      ],
      "execution_count": 0,
      "outputs": [
        {
          "output_type": "execute_result",
          "data": {
            "text/plain": [
              "524.4864634112204"
            ]
          },
          "metadata": {
            "tags": []
          },
          "execution_count": 43
        }
      ]
    },
    {
      "cell_type": "markdown",
      "metadata": {
        "id": "0zqhbo0Tr29A",
        "colab_type": "text"
      },
      "source": [
        "## Dealocate memory"
      ]
    },
    {
      "cell_type": "code",
      "metadata": {
        "id": "KCFbHKZar2fB",
        "colab_type": "code",
        "outputId": "a14c7bd8-1425-46c5-e2f5-c4e7aee57f5e",
        "colab": {
          "base_uri": "https://localhost:8080/",
          "height": 34
        }
      },
      "source": [
        "# Dealocate memory\n",
        "X = X.iloc[:10]\n",
        "X2 = None\n",
        "\n",
        "import gc\n",
        "gc.collect()"
      ],
      "execution_count": 0,
      "outputs": [
        {
          "output_type": "execute_result",
          "data": {
            "text/plain": [
              "1165"
            ]
          },
          "metadata": {
            "tags": []
          },
          "execution_count": 44
        }
      ]
    },
    {
      "cell_type": "markdown",
      "metadata": {
        "id": "7gqTgS-bBJkX",
        "colab_type": "text"
      },
      "source": [
        "## Train on different architectures and hyperparams and save results to a csv\n",
        "- CSV is safely in a gDrive => access to results outside of this instance"
      ]
    },
    {
      "cell_type": "code",
      "metadata": {
        "id": "nTw0IX2w3WLE",
        "colab_type": "code",
        "colab": {}
      },
      "source": [
        "def subset_list(list_, split_ratio, base):\n",
        "    sectors = len(list_[0]) // base\n",
        "    split = int(sectors * split_ratio) * base\n",
        "    end = sectors * base\n",
        "    \n",
        "    return [x[:split] for x in list_], [x[split:end] for x in list_], [x[end:] for x in list_]"
      ],
      "execution_count": 0,
      "outputs": []
    },
    {
      "cell_type": "code",
      "metadata": {
        "id": "iPOCMF0h150F",
        "colab_type": "code",
        "outputId": "5399fa39-d8c9-4d7e-d855-d0b8c6079d38",
        "colab": {
          "base_uri": "https://localhost:8080/",
          "height": 514
        }
      },
      "source": [
        "from time import time\n",
        "\n",
        "model_path = '/content/drive/My Drive/Programování - projekty a práce/ArtificialDot/Colabs/DeepSaber/model.h5'\n",
        "results_df = pd.read_csv(path_for_results, index_col='id')\n",
        "\n",
        "display(results_df.tail())\n",
        "batch_size = 256\n",
        "\n",
        "x_t, x_v, _ = subset_list(x, 0.8, batch_size)\n",
        "y_t, y_v, _ = subset_list(y, 0.8, batch_size)\n",
        "\n",
        "for i, row in train_settings_df.sample(1000).iterrows():\n",
        "    settings = row.to_dict()\n",
        "    \n",
        "    print(f'Working on: {settings}')\n",
        "    model = get_model(X, X_cols, y_cols, settings, input_length=100, batch_size=None)\n",
        "\n",
        "    start = time()\n",
        "    \n",
        "#     Statefull\n",
        "#     h = model.fit(x_t, y_t, batch_size=batch_size, epochs=150, validation_data=(x_v, y_v), callbacks=get_callbacks(settings), verbose=False, shuffle=False)\n",
        "    \n",
        "#     Not statefull\n",
        "    h = model.fit(x_t, y_t, batch_size=batch_size, epochs=150, validation_data=(x_v, y_v), callbacks=get_callbacks(settings), verbose=False, shuffle=True)\n",
        "    \n",
        "    settings['batch_size'] = batch_size\n",
        "    mvloss_index = h.history['val_loss'].index(min(h.history['val_loss']))\n",
        "    \n",
        "    top_val_loss = {k: v[mvloss_index] for k, v in h.history.items()}\n",
        "    top_val_loss['settings'] = settings\n",
        "    top_val_loss['elapsed'] = time() - start\n",
        "        \n",
        "    results_df = results_df.append(top_val_loss, ignore_index=True)\n",
        "    try:\n",
        "        display(results_df.iloc[-1].to_frame().T)\n",
        "    except Exception:\n",
        "        pass\n",
        "    \n",
        "    results_df.to_csv(path_for_results, index_label='id')"
      ],
      "execution_count": 0,
      "outputs": [
        {
          "output_type": "display_data",
          "data": {
            "text/html": [
              "<div>\n",
              "<style scoped>\n",
              "    .dataframe tbody tr th:only-of-type {\n",
              "        vertical-align: middle;\n",
              "    }\n",
              "\n",
              "    .dataframe tbody tr th {\n",
              "        vertical-align: top;\n",
              "    }\n",
              "\n",
              "    .dataframe thead th {\n",
              "        text-align: right;\n",
              "    }\n",
              "</style>\n",
              "<table border=\"1\" class=\"dataframe\">\n",
              "  <thead>\n",
              "    <tr style=\"text-align: right;\">\n",
              "      <th></th>\n",
              "      <th>settings</th>\n",
              "      <th>val_loss</th>\n",
              "      <th>val_l_dim0_accuracy</th>\n",
              "      <th>val_l_dim1_accuracy</th>\n",
              "      <th>val_l_dim2_accuracy</th>\n",
              "      <th>val_r_dim0_accuracy</th>\n",
              "      <th>val_r_dim1_accuracy</th>\n",
              "      <th>val_r_dim2_accuracy</th>\n",
              "      <th>val_l_dim0_loss</th>\n",
              "      <th>val_l_dim1_loss</th>\n",
              "      <th>val_l_dim2_loss</th>\n",
              "      <th>val_r_dim0_loss</th>\n",
              "      <th>val_r_dim1_loss</th>\n",
              "      <th>val_r_dim2_loss</th>\n",
              "      <th>loss</th>\n",
              "      <th>l_dim0_accuracy</th>\n",
              "      <th>l_dim1_accuracy</th>\n",
              "      <th>l_dim2_accuracy</th>\n",
              "      <th>r_dim0_accuracy</th>\n",
              "      <th>r_dim1_accuracy</th>\n",
              "      <th>r_dim2_accuracy</th>\n",
              "      <th>l_dim0_loss</th>\n",
              "      <th>l_dim1_loss</th>\n",
              "      <th>l_dim2_loss</th>\n",
              "      <th>r_dim0_loss</th>\n",
              "      <th>r_dim1_loss</th>\n",
              "      <th>r_dim2_loss</th>\n",
              "      <th>lr</th>\n",
              "      <th>elapsed</th>\n",
              "    </tr>\n",
              "    <tr>\n",
              "      <th>id</th>\n",
              "      <th></th>\n",
              "      <th></th>\n",
              "      <th></th>\n",
              "      <th></th>\n",
              "      <th></th>\n",
              "      <th></th>\n",
              "      <th></th>\n",
              "      <th></th>\n",
              "      <th></th>\n",
              "      <th></th>\n",
              "      <th></th>\n",
              "      <th></th>\n",
              "      <th></th>\n",
              "      <th></th>\n",
              "      <th></th>\n",
              "      <th></th>\n",
              "      <th></th>\n",
              "      <th></th>\n",
              "      <th></th>\n",
              "      <th></th>\n",
              "      <th></th>\n",
              "      <th></th>\n",
              "      <th></th>\n",
              "      <th></th>\n",
              "      <th></th>\n",
              "      <th></th>\n",
              "      <th></th>\n",
              "      <th></th>\n",
              "      <th></th>\n",
              "    </tr>\n",
              "  </thead>\n",
              "  <tbody>\n",
              "    <tr>\n",
              "      <th>293</th>\n",
              "      <td>{'pre_process': 0.0, 'pre_process_f': 'sigmoid...</td>\n",
              "      <td>7.859069</td>\n",
              "      <td>0.717617</td>\n",
              "      <td>0.308374</td>\n",
              "      <td>0.351241</td>\n",
              "      <td>0.715868</td>\n",
              "      <td>0.313576</td>\n",
              "      <td>0.350583</td>\n",
              "      <td>0.756314</td>\n",
              "      <td>1.362892</td>\n",
              "      <td>1.810183</td>\n",
              "      <td>0.758259</td>\n",
              "      <td>1.361045</td>\n",
              "      <td>1.810376</td>\n",
              "      <td>7.772352</td>\n",
              "      <td>0.720452</td>\n",
              "      <td>0.320980</td>\n",
              "      <td>0.362015</td>\n",
              "      <td>0.718798</td>\n",
              "      <td>0.325219</td>\n",
              "      <td>0.361641</td>\n",
              "      <td>0.746805</td>\n",
              "      <td>1.355003</td>\n",
              "      <td>1.783641</td>\n",
              "      <td>0.749133</td>\n",
              "      <td>1.353813</td>\n",
              "      <td>1.783957</td>\n",
              "      <td>0.005</td>\n",
              "      <td>64.765165</td>\n",
              "    </tr>\n",
              "    <tr>\n",
              "      <th>294</th>\n",
              "      <td>{'pre_process': 2.0, 'pre_process_f': 'sigmoid...</td>\n",
              "      <td>7.832007</td>\n",
              "      <td>0.717632</td>\n",
              "      <td>0.309570</td>\n",
              "      <td>0.359384</td>\n",
              "      <td>0.715871</td>\n",
              "      <td>0.314841</td>\n",
              "      <td>0.358083</td>\n",
              "      <td>0.755399</td>\n",
              "      <td>1.360731</td>\n",
              "      <td>1.799265</td>\n",
              "      <td>0.756035</td>\n",
              "      <td>1.360190</td>\n",
              "      <td>1.800387</td>\n",
              "      <td>7.790599</td>\n",
              "      <td>0.720443</td>\n",
              "      <td>0.319628</td>\n",
              "      <td>0.361351</td>\n",
              "      <td>0.718791</td>\n",
              "      <td>0.323055</td>\n",
              "      <td>0.360691</td>\n",
              "      <td>0.749091</td>\n",
              "      <td>1.356064</td>\n",
              "      <td>1.789778</td>\n",
              "      <td>0.750462</td>\n",
              "      <td>1.354754</td>\n",
              "      <td>1.790449</td>\n",
              "      <td>0.005</td>\n",
              "      <td>105.794477</td>\n",
              "    </tr>\n",
              "    <tr>\n",
              "      <th>295</th>\n",
              "      <td>{'pre_process': 2.0, 'pre_process_f': 'elu', '...</td>\n",
              "      <td>7.806442</td>\n",
              "      <td>0.717653</td>\n",
              "      <td>0.310892</td>\n",
              "      <td>0.363993</td>\n",
              "      <td>0.715871</td>\n",
              "      <td>0.314862</td>\n",
              "      <td>0.362245</td>\n",
              "      <td>0.752658</td>\n",
              "      <td>1.359282</td>\n",
              "      <td>1.790157</td>\n",
              "      <td>0.754562</td>\n",
              "      <td>1.358143</td>\n",
              "      <td>1.791639</td>\n",
              "      <td>7.750645</td>\n",
              "      <td>0.720456</td>\n",
              "      <td>0.323750</td>\n",
              "      <td>0.367909</td>\n",
              "      <td>0.718783</td>\n",
              "      <td>0.325690</td>\n",
              "      <td>0.367303</td>\n",
              "      <td>0.744180</td>\n",
              "      <td>1.353465</td>\n",
              "      <td>1.777939</td>\n",
              "      <td>0.746235</td>\n",
              "      <td>1.351632</td>\n",
              "      <td>1.777194</td>\n",
              "      <td>0.006</td>\n",
              "      <td>122.205487</td>\n",
              "    </tr>\n",
              "    <tr>\n",
              "      <th>296</th>\n",
              "      <td>{'pre_process': 0.0, 'pre_process_f': 'sigmoid...</td>\n",
              "      <td>7.883160</td>\n",
              "      <td>0.717632</td>\n",
              "      <td>0.303194</td>\n",
              "      <td>0.335892</td>\n",
              "      <td>0.715871</td>\n",
              "      <td>0.309306</td>\n",
              "      <td>0.334727</td>\n",
              "      <td>0.756192</td>\n",
              "      <td>1.364213</td>\n",
              "      <td>1.820860</td>\n",
              "      <td>0.758192</td>\n",
              "      <td>1.362752</td>\n",
              "      <td>1.820951</td>\n",
              "      <td>7.835722</td>\n",
              "      <td>0.720439</td>\n",
              "      <td>0.311390</td>\n",
              "      <td>0.340331</td>\n",
              "      <td>0.718797</td>\n",
              "      <td>0.315871</td>\n",
              "      <td>0.339798</td>\n",
              "      <td>0.751780</td>\n",
              "      <td>1.360986</td>\n",
              "      <td>1.804733</td>\n",
              "      <td>0.753028</td>\n",
              "      <td>1.359561</td>\n",
              "      <td>1.805633</td>\n",
              "      <td>0.006</td>\n",
              "      <td>68.505830</td>\n",
              "    </tr>\n",
              "    <tr>\n",
              "      <th>297</th>\n",
              "      <td>{'pre_process': 0.0, 'pre_process_f': 'sigmoid...</td>\n",
              "      <td>7.851960</td>\n",
              "      <td>0.717632</td>\n",
              "      <td>0.308915</td>\n",
              "      <td>0.352533</td>\n",
              "      <td>0.715871</td>\n",
              "      <td>0.310676</td>\n",
              "      <td>0.352181</td>\n",
              "      <td>0.756136</td>\n",
              "      <td>1.361915</td>\n",
              "      <td>1.806289</td>\n",
              "      <td>0.757457</td>\n",
              "      <td>1.360788</td>\n",
              "      <td>1.809376</td>\n",
              "      <td>7.802516</td>\n",
              "      <td>0.720443</td>\n",
              "      <td>0.315555</td>\n",
              "      <td>0.358983</td>\n",
              "      <td>0.718791</td>\n",
              "      <td>0.319916</td>\n",
              "      <td>0.358444</td>\n",
              "      <td>0.749591</td>\n",
              "      <td>1.358665</td>\n",
              "      <td>1.791855</td>\n",
              "      <td>0.750879</td>\n",
              "      <td>1.357567</td>\n",
              "      <td>1.793958</td>\n",
              "      <td>0.010</td>\n",
              "      <td>56.084639</td>\n",
              "    </tr>\n",
              "  </tbody>\n",
              "</table>\n",
              "</div>"
            ],
            "text/plain": [
              "                                              settings  ...     elapsed\n",
              "id                                                      ...            \n",
              "293  {'pre_process': 0.0, 'pre_process_f': 'sigmoid...  ...   64.765165\n",
              "294  {'pre_process': 2.0, 'pre_process_f': 'sigmoid...  ...  105.794477\n",
              "295  {'pre_process': 2.0, 'pre_process_f': 'elu', '...  ...  122.205487\n",
              "296  {'pre_process': 0.0, 'pre_process_f': 'sigmoid...  ...   68.505830\n",
              "297  {'pre_process': 0.0, 'pre_process_f': 'sigmoid...  ...   56.084639\n",
              "\n",
              "[5 rows x 29 columns]"
            ]
          },
          "metadata": {
            "tags": []
          }
        },
        {
          "output_type": "stream",
          "text": [
            "Working on: {'pre_process': 0.5, 'pre_process_f': 'elu', 'rnn_join': (24, 16), 'drop_join': 0.1, 'fn_join': 'lstm', 'rnn_split': (0, 24), 'drop_split': 0.0, 'fn_split': 'gru', 'optimizer': 'rmsprop', 'lr': 0.03}\n"
          ],
          "name": "stdout"
        }
      ]
    },
    {
      "cell_type": "markdown",
      "metadata": {
        "id": "0m73vG7gedpI",
        "colab_type": "text"
      },
      "source": [
        "- TF1 GPU: 4:34 min `batch_size == 32` \n",
        "- TF2 GPU: 4:40 min `batch_size == 32` "
      ]
    },
    {
      "cell_type": "markdown",
      "metadata": {
        "id": "PEv_AZpkill3",
        "colab_type": "text"
      },
      "source": [
        "## Findings\n",
        "\n",
        "Given an architecture:\n",
        "```\n",
        "Layer (type)                    Output Shape         Param #     Connected to                     \n",
        "==================================================================================================\n",
        "inputs (InputLayer)          N x [(None, None, 9)]    0                                            \n",
        "__________________________________________________________________________________________________\n",
        "\n",
        "time_distributed (TimeDistri (None, None, 9)      90          inputs[0][0]                   \n",
        "__________________________________________________________________________________________________\n",
        "concatenate (Concatenate)     (None, None, 47)     0           time_distributed[0][0]        \n",
        "                                                                \n",
        "                                                                N x time_distributed[0][0]        \n",
        "__________________________________________________________________________________________________\n",
        "lstm_1 (LSTM)                   (None, None, 64)     28672       concatenate[0][0]              \n",
        "__________________________________________________________________________________________________\n",
        "lstm_2 (LSTM)                   (None, None, 64)     33024       lstm_1[0][0]                     \n",
        "__________________________________________________________________________________________________\n",
        "outputs (TimeDistributed)       M x (None, None, 9)      585         lstm_2[0][0]                     \n",
        "==================================================================================================\n",
        "```\n",
        "\n",
        "- The above model predicting only one of the features instead all of them performs better on this feature and way quicker\n",
        "  - $\\Rightarrow$ leave more separation in the model\n"
      ]
    },
    {
      "cell_type": "markdown",
      "metadata": {
        "id": "3QJOV8jvd9s_",
        "colab_type": "text"
      },
      "source": [
        "## Train on TPUv2\n",
        "Source: [Medium](www.dlology.com/blog/how-to-train-keras-model-x20-times-faster-with-tpu-for-free/)\n",
        "\n",
        "Caveats:\n",
        "- Works for now only on TF1\n",
        "- Model needs concrete `input_len`\n",
        "- For efficiencty `batch_size` of at least 1024 is reaquired"
      ]
    },
    {
      "cell_type": "code",
      "metadata": {
        "id": "jDEKahuKFBke",
        "colab_type": "code",
        "colab": {}
      },
      "source": [
        "if train_vals['train_on'] == 'generator_tpu':\n",
        "    import tensorflow as tf\n",
        "    import os\n",
        "    # This address identifies the TPU we'll use when configuring TensorFlow.\n",
        "    TPU_WORKER = 'grpc://' + os.environ['COLAB_TPU_ADDR']\n",
        "    tf.logging.set_verbosity(tf.logging.INFO)\n",
        "\n",
        "    tpu_model = tf.contrib.tpu.keras_to_tpu_model(model,\n",
        "                  strategy=tf.contrib.tpu.TPUDistributionStrategy(\n",
        "                      tf.contrib.cluster_resolver.TPUClusterResolver(TPU_WORKER)))\n",
        "\n",
        "    tpu_model.summary()\n",
        "\n",
        "    history = tpu_model.fit(x, y,\n",
        "                      epochs=100,\n",
        "                      batch_size=128 * 8,\n",
        "                      validation_split=0.2)"
      ],
      "execution_count": 0,
      "outputs": []
    },
    {
      "cell_type": "markdown",
      "metadata": {
        "id": "38fBligIYsU0",
        "colab_type": "text"
      },
      "source": [
        "# Train the best model\n",
        "- In future I would like to create an ansamble of models with at least one specific for each dimension"
      ]
    },
    {
      "cell_type": "code",
      "metadata": {
        "id": "V0vm7vjuzPhc",
        "colab_type": "code",
        "outputId": "01630f5f-b751-4a08-c0a2-271d5818d43e",
        "colab": {
          "base_uri": "https://localhost:8080/",
          "height": 497
        }
      },
      "source": [
        "model_path = '/content/drive/My Drive/Programování - projekty a práce/ArtificialDot/Colabs/DeepSaber/model2.h5'\n",
        "results_df = pd.read_csv(path_for_results, index_col='id')\n",
        "\n",
        "results_df = results_df.iloc[100:].sort_values('val_loss')\n",
        "results_df.head()"
      ],
      "execution_count": 0,
      "outputs": [
        {
          "output_type": "execute_result",
          "data": {
            "text/html": [
              "<div>\n",
              "<style scoped>\n",
              "    .dataframe tbody tr th:only-of-type {\n",
              "        vertical-align: middle;\n",
              "    }\n",
              "\n",
              "    .dataframe tbody tr th {\n",
              "        vertical-align: top;\n",
              "    }\n",
              "\n",
              "    .dataframe thead th {\n",
              "        text-align: right;\n",
              "    }\n",
              "</style>\n",
              "<table border=\"1\" class=\"dataframe\">\n",
              "  <thead>\n",
              "    <tr style=\"text-align: right;\">\n",
              "      <th></th>\n",
              "      <th>settings</th>\n",
              "      <th>val_loss</th>\n",
              "      <th>val_l_dim0_accuracy</th>\n",
              "      <th>val_l_dim1_accuracy</th>\n",
              "      <th>val_l_dim2_accuracy</th>\n",
              "      <th>val_r_dim0_accuracy</th>\n",
              "      <th>val_r_dim1_accuracy</th>\n",
              "      <th>val_r_dim2_accuracy</th>\n",
              "      <th>val_l_dim0_loss</th>\n",
              "      <th>val_l_dim1_loss</th>\n",
              "      <th>val_l_dim2_loss</th>\n",
              "      <th>val_r_dim0_loss</th>\n",
              "      <th>val_r_dim1_loss</th>\n",
              "      <th>val_r_dim2_loss</th>\n",
              "      <th>loss</th>\n",
              "      <th>l_dim0_accuracy</th>\n",
              "      <th>l_dim1_accuracy</th>\n",
              "      <th>l_dim2_accuracy</th>\n",
              "      <th>r_dim0_accuracy</th>\n",
              "      <th>r_dim1_accuracy</th>\n",
              "      <th>r_dim2_accuracy</th>\n",
              "      <th>l_dim0_loss</th>\n",
              "      <th>l_dim1_loss</th>\n",
              "      <th>l_dim2_loss</th>\n",
              "      <th>r_dim0_loss</th>\n",
              "      <th>r_dim1_loss</th>\n",
              "      <th>r_dim2_loss</th>\n",
              "      <th>lr</th>\n",
              "      <th>elapsed</th>\n",
              "    </tr>\n",
              "    <tr>\n",
              "      <th>id</th>\n",
              "      <th></th>\n",
              "      <th></th>\n",
              "      <th></th>\n",
              "      <th></th>\n",
              "      <th></th>\n",
              "      <th></th>\n",
              "      <th></th>\n",
              "      <th></th>\n",
              "      <th></th>\n",
              "      <th></th>\n",
              "      <th></th>\n",
              "      <th></th>\n",
              "      <th></th>\n",
              "      <th></th>\n",
              "      <th></th>\n",
              "      <th></th>\n",
              "      <th></th>\n",
              "      <th></th>\n",
              "      <th></th>\n",
              "      <th></th>\n",
              "      <th></th>\n",
              "      <th></th>\n",
              "      <th></th>\n",
              "      <th></th>\n",
              "      <th></th>\n",
              "      <th></th>\n",
              "      <th></th>\n",
              "      <th></th>\n",
              "      <th></th>\n",
              "    </tr>\n",
              "  </thead>\n",
              "  <tbody>\n",
              "    <tr>\n",
              "      <th>148</th>\n",
              "      <td>{'pre_process': 1.0, 'pre_process_f': 'elu', '...</td>\n",
              "      <td>5.632869</td>\n",
              "      <td>0.757460</td>\n",
              "      <td>0.521369</td>\n",
              "      <td>0.607693</td>\n",
              "      <td>0.752092</td>\n",
              "      <td>0.534471</td>\n",
              "      <td>0.605780</td>\n",
              "      <td>0.587627</td>\n",
              "      <td>1.086451</td>\n",
              "      <td>1.146609</td>\n",
              "      <td>0.594735</td>\n",
              "      <td>1.060532</td>\n",
              "      <td>1.144043</td>\n",
              "      <td>5.694790</td>\n",
              "      <td>0.754391</td>\n",
              "      <td>0.530399</td>\n",
              "      <td>0.602532</td>\n",
              "      <td>0.753542</td>\n",
              "      <td>0.540095</td>\n",
              "      <td>0.602019</td>\n",
              "      <td>0.603450</td>\n",
              "      <td>1.078654</td>\n",
              "      <td>1.175350</td>\n",
              "      <td>0.603444</td>\n",
              "      <td>1.060219</td>\n",
              "      <td>1.173939</td>\n",
              "      <td>0.010</td>\n",
              "      <td>612.247779</td>\n",
              "    </tr>\n",
              "    <tr>\n",
              "      <th>122</th>\n",
              "      <td>{'pre_process': 0.5, 'pre_process_f': 'elu', '...</td>\n",
              "      <td>5.645238</td>\n",
              "      <td>0.754961</td>\n",
              "      <td>0.527884</td>\n",
              "      <td>0.611028</td>\n",
              "      <td>0.750275</td>\n",
              "      <td>0.536049</td>\n",
              "      <td>0.609414</td>\n",
              "      <td>0.598623</td>\n",
              "      <td>1.084991</td>\n",
              "      <td>1.148599</td>\n",
              "      <td>0.605833</td>\n",
              "      <td>1.063217</td>\n",
              "      <td>1.145218</td>\n",
              "      <td>5.476404</td>\n",
              "      <td>0.761980</td>\n",
              "      <td>0.553292</td>\n",
              "      <td>0.618100</td>\n",
              "      <td>0.762084</td>\n",
              "      <td>0.558835</td>\n",
              "      <td>0.618609</td>\n",
              "      <td>0.585154</td>\n",
              "      <td>1.036029</td>\n",
              "      <td>1.124806</td>\n",
              "      <td>0.585716</td>\n",
              "      <td>1.024523</td>\n",
              "      <td>1.120140</td>\n",
              "      <td>0.002</td>\n",
              "      <td>436.781732</td>\n",
              "    </tr>\n",
              "    <tr>\n",
              "      <th>169</th>\n",
              "      <td>{'pre_process': 0.0, 'pre_process_f': 'elu', '...</td>\n",
              "      <td>5.649092</td>\n",
              "      <td>0.754609</td>\n",
              "      <td>0.525852</td>\n",
              "      <td>0.612331</td>\n",
              "      <td>0.751189</td>\n",
              "      <td>0.538840</td>\n",
              "      <td>0.609767</td>\n",
              "      <td>0.602075</td>\n",
              "      <td>1.087309</td>\n",
              "      <td>1.155183</td>\n",
              "      <td>0.606111</td>\n",
              "      <td>1.061862</td>\n",
              "      <td>1.148207</td>\n",
              "      <td>5.582051</td>\n",
              "      <td>0.756020</td>\n",
              "      <td>0.539686</td>\n",
              "      <td>0.607651</td>\n",
              "      <td>0.756434</td>\n",
              "      <td>0.551552</td>\n",
              "      <td>0.611877</td>\n",
              "      <td>0.601632</td>\n",
              "      <td>1.059541</td>\n",
              "      <td>1.150478</td>\n",
              "      <td>0.599803</td>\n",
              "      <td>1.036266</td>\n",
              "      <td>1.134449</td>\n",
              "      <td>0.010</td>\n",
              "      <td>599.341655</td>\n",
              "    </tr>\n",
              "    <tr>\n",
              "      <th>168</th>\n",
              "      <td>{'pre_process': 1.0, 'pre_process_f': 'elu', '...</td>\n",
              "      <td>5.656360</td>\n",
              "      <td>0.752164</td>\n",
              "      <td>0.523736</td>\n",
              "      <td>0.609456</td>\n",
              "      <td>0.750956</td>\n",
              "      <td>0.529594</td>\n",
              "      <td>0.609456</td>\n",
              "      <td>0.601553</td>\n",
              "      <td>1.087161</td>\n",
              "      <td>1.147085</td>\n",
              "      <td>0.604966</td>\n",
              "      <td>1.072300</td>\n",
              "      <td>1.142454</td>\n",
              "      <td>5.458638</td>\n",
              "      <td>0.760938</td>\n",
              "      <td>0.553435</td>\n",
              "      <td>0.621511</td>\n",
              "      <td>0.761678</td>\n",
              "      <td>0.559034</td>\n",
              "      <td>0.622661</td>\n",
              "      <td>0.585734</td>\n",
              "      <td>1.036821</td>\n",
              "      <td>1.118918</td>\n",
              "      <td>0.584718</td>\n",
              "      <td>1.022795</td>\n",
              "      <td>1.109753</td>\n",
              "      <td>0.014</td>\n",
              "      <td>577.849849</td>\n",
              "    </tr>\n",
              "    <tr>\n",
              "      <th>150</th>\n",
              "      <td>{'pre_process': 1.0, 'pre_process_f': 'elu', '...</td>\n",
              "      <td>5.659568</td>\n",
              "      <td>0.754154</td>\n",
              "      <td>0.523903</td>\n",
              "      <td>0.608565</td>\n",
              "      <td>0.751751</td>\n",
              "      <td>0.534292</td>\n",
              "      <td>0.600723</td>\n",
              "      <td>0.592575</td>\n",
              "      <td>1.082039</td>\n",
              "      <td>1.155020</td>\n",
              "      <td>0.596631</td>\n",
              "      <td>1.059617</td>\n",
              "      <td>1.160988</td>\n",
              "      <td>5.697525</td>\n",
              "      <td>0.754749</td>\n",
              "      <td>0.533819</td>\n",
              "      <td>0.601885</td>\n",
              "      <td>0.752637</td>\n",
              "      <td>0.543907</td>\n",
              "      <td>0.599388</td>\n",
              "      <td>0.601913</td>\n",
              "      <td>1.072377</td>\n",
              "      <td>1.179846</td>\n",
              "      <td>0.606351</td>\n",
              "      <td>1.051927</td>\n",
              "      <td>1.185173</td>\n",
              "      <td>0.010</td>\n",
              "      <td>623.041372</td>\n",
              "    </tr>\n",
              "  </tbody>\n",
              "</table>\n",
              "</div>"
            ],
            "text/plain": [
              "                                              settings  ...     elapsed\n",
              "id                                                      ...            \n",
              "148  {'pre_process': 1.0, 'pre_process_f': 'elu', '...  ...  612.247779\n",
              "122  {'pre_process': 0.5, 'pre_process_f': 'elu', '...  ...  436.781732\n",
              "169  {'pre_process': 0.0, 'pre_process_f': 'elu', '...  ...  599.341655\n",
              "168  {'pre_process': 1.0, 'pre_process_f': 'elu', '...  ...  577.849849\n",
              "150  {'pre_process': 1.0, 'pre_process_f': 'elu', '...  ...  623.041372\n",
              "\n",
              "[5 rows x 29 columns]"
            ]
          },
          "metadata": {
            "tags": []
          },
          "execution_count": 70
        }
      ]
    },
    {
      "cell_type": "code",
      "metadata": {
        "id": "U2zXYm7X0DXj",
        "colab_type": "code",
        "outputId": "5917d4a7-7fec-4487-c784-8512184c9fc9",
        "colab": {
          "base_uri": "https://localhost:8080/",
          "height": 202
        }
      },
      "source": [
        "import json\n",
        "\n",
        "def str2dict(str_dict):\n",
        "    json_acceptable_string = str_dict.replace(\"'\", \"\\\"\").replace('(', '[').replace(')', ']')\n",
        "    d = json.loads(json_acceptable_string)\n",
        "    return d\n",
        "    \n",
        "best_settings = str2dict(results_df.iloc[0]['settings'])\n",
        "pprint(best_settings)"
      ],
      "execution_count": 0,
      "outputs": [
        {
          "output_type": "stream",
          "text": [
            "{'batch_size': 256,\n",
            " 'drop_join': 0.2,\n",
            " 'drop_split': 0.1,\n",
            " 'fn_join': 'lstm',\n",
            " 'fn_split': 'gru',\n",
            " 'lr': 0.05,\n",
            " 'optimizer': 'adam',\n",
            " 'pre_process': 1.0,\n",
            " 'pre_process_f': 'elu',\n",
            " 'rnn_join': [64, 96],\n",
            " 'rnn_split': [32, 16]}\n"
          ],
          "name": "stdout"
        }
      ]
    },
    {
      "cell_type": "code",
      "metadata": {
        "id": "e5O7aW9J0cJo",
        "colab_type": "code",
        "outputId": "ff189047-f9c3-4e9e-d3cf-78d089872c75",
        "colab": {
          "base_uri": "https://localhost:8080/",
          "height": 1000
        }
      },
      "source": [
        "model = get_model(X, X_cols, y_cols, best_settings)\n",
        "model.summary()"
      ],
      "execution_count": 0,
      "outputs": [
        {
          "output_type": "stream",
          "text": [
            "Model: \"model_29\"\n",
            "__________________________________________________________________________________________________\n",
            "Layer (type)                    Output Shape         Param #     Connected to                     \n",
            "==================================================================================================\n",
            "input_223 (InputLayer)          [(None, None, 2)]    0                                            \n",
            "__________________________________________________________________________________________________\n",
            "input_224 (InputLayer)          [(None, None, 13)]   0                                            \n",
            "__________________________________________________________________________________________________\n",
            "input_225 (InputLayer)          [(None, None, 3)]    0                                            \n",
            "__________________________________________________________________________________________________\n",
            "input_226 (InputLayer)          [(None, None, 4)]    0                                            \n",
            "__________________________________________________________________________________________________\n",
            "input_227 (InputLayer)          [(None, None, 9)]    0                                            \n",
            "__________________________________________________________________________________________________\n",
            "input_228 (InputLayer)          [(None, None, 3)]    0                                            \n",
            "__________________________________________________________________________________________________\n",
            "input_229 (InputLayer)          [(None, None, 4)]    0                                            \n",
            "__________________________________________________________________________________________________\n",
            "input_230 (InputLayer)          [(None, None, 9)]    0                                            \n",
            "__________________________________________________________________________________________________\n",
            "time_distributed_136 (TimeDistr (None, None, 2)      6           input_223[0][0]                  \n",
            "__________________________________________________________________________________________________\n",
            "time_distributed_137 (TimeDistr (None, None, 13)     182         input_224[0][0]                  \n",
            "__________________________________________________________________________________________________\n",
            "time_distributed_138 (TimeDistr (None, None, 3)      12          input_225[0][0]                  \n",
            "__________________________________________________________________________________________________\n",
            "time_distributed_139 (TimeDistr (None, None, 4)      20          input_226[0][0]                  \n",
            "__________________________________________________________________________________________________\n",
            "time_distributed_140 (TimeDistr (None, None, 9)      90          input_227[0][0]                  \n",
            "__________________________________________________________________________________________________\n",
            "time_distributed_141 (TimeDistr (None, None, 3)      12          input_228[0][0]                  \n",
            "__________________________________________________________________________________________________\n",
            "time_distributed_142 (TimeDistr (None, None, 4)      20          input_229[0][0]                  \n",
            "__________________________________________________________________________________________________\n",
            "time_distributed_143 (TimeDistr (None, None, 9)      90          input_230[0][0]                  \n",
            "__________________________________________________________________________________________________\n",
            "concatenate_33 (Concatenate)    (None, None, 47)     0           time_distributed_136[0][0]       \n",
            "                                                                 time_distributed_137[0][0]       \n",
            "                                                                 time_distributed_138[0][0]       \n",
            "                                                                 time_distributed_139[0][0]       \n",
            "                                                                 time_distributed_140[0][0]       \n",
            "                                                                 time_distributed_141[0][0]       \n",
            "                                                                 time_distributed_142[0][0]       \n",
            "                                                                 time_distributed_143[0][0]       \n",
            "__________________________________________________________________________________________________\n",
            "gru_134 (GRU)                   (None, None, 32)     7776        concatenate_33[0][0]             \n",
            "__________________________________________________________________________________________________\n",
            "gru_135 (GRU)                   (None, None, 32)     7776        concatenate_33[0][0]             \n",
            "__________________________________________________________________________________________________\n",
            "gru_136 (GRU)                   (None, None, 32)     7776        concatenate_33[0][0]             \n",
            "__________________________________________________________________________________________________\n",
            "gru_137 (GRU)                   (None, None, 32)     7776        concatenate_33[0][0]             \n",
            "__________________________________________________________________________________________________\n",
            "gru_138 (GRU)                   (None, None, 32)     7776        concatenate_33[0][0]             \n",
            "__________________________________________________________________________________________________\n",
            "gru_139 (GRU)                   (None, None, 32)     7776        concatenate_33[0][0]             \n",
            "__________________________________________________________________________________________________\n",
            "gru_140 (GRU)                   (None, None, 16)     2400        gru_134[0][0]                    \n",
            "__________________________________________________________________________________________________\n",
            "gru_141 (GRU)                   (None, None, 16)     2400        gru_135[0][0]                    \n",
            "__________________________________________________________________________________________________\n",
            "gru_142 (GRU)                   (None, None, 16)     2400        gru_136[0][0]                    \n",
            "__________________________________________________________________________________________________\n",
            "gru_143 (GRU)                   (None, None, 16)     2400        gru_137[0][0]                    \n",
            "__________________________________________________________________________________________________\n",
            "gru_144 (GRU)                   (None, None, 16)     2400        gru_138[0][0]                    \n",
            "__________________________________________________________________________________________________\n",
            "gru_145 (GRU)                   (None, None, 16)     2400        gru_139[0][0]                    \n",
            "__________________________________________________________________________________________________\n",
            "r_dim0 (TimeDistributed)        (None, None, 3)      51          gru_140[0][0]                    \n",
            "__________________________________________________________________________________________________\n",
            "r_dim1 (TimeDistributed)        (None, None, 4)      68          gru_141[0][0]                    \n",
            "__________________________________________________________________________________________________\n",
            "r_dim2 (TimeDistributed)        (None, None, 9)      153         gru_142[0][0]                    \n",
            "__________________________________________________________________________________________________\n",
            "l_dim0 (TimeDistributed)        (None, None, 3)      51          gru_143[0][0]                    \n",
            "__________________________________________________________________________________________________\n",
            "l_dim1 (TimeDistributed)        (None, None, 4)      68          gru_144[0][0]                    \n",
            "__________________________________________________________________________________________________\n",
            "l_dim2 (TimeDistributed)        (None, None, 9)      153         gru_145[0][0]                    \n",
            "==================================================================================================\n",
            "Total params: 62,032\n",
            "Trainable params: 62,032\n",
            "Non-trainable params: 0\n",
            "__________________________________________________________________________________________________\n"
          ],
          "name": "stdout"
        }
      ]
    },
    {
      "cell_type": "code",
      "metadata": {
        "id": "mS_4kqkB3ADq",
        "colab_type": "code",
        "outputId": "14cce750-9407-450c-8798-f2fefebbe2c1",
        "colab": {
          "base_uri": "https://localhost:8080/",
          "height": 350
        }
      },
      "source": [
        "from tensorflow.keras.utils import plot_model\n",
        "\n",
        "plot_model(model, show_shapes=True, dpi=48)"
      ],
      "execution_count": 0,
      "outputs": [
        {
          "output_type": "execute_result",
          "data": {
            "image/png": "[encoded data removed]",
            "text/plain": [
              "<IPython.core.display.Image object>"
            ]
          },
          "metadata": {
            "tags": []
          },
          "execution_count": 73
        }
      ]
    },
    {
      "cell_type": "code",
      "metadata": {
        "id": "kLI-nttw3SjB",
        "colab_type": "code",
        "outputId": "1efddb91-a698-4d76-a4b7-c6c4bcd86ae7",
        "colab": {
          "base_uri": "https://localhost:8080/",
          "height": 121
        }
      },
      "source": [
        "h = model.fit(x_t, y_t, batch_size=best_settings['batch_size'], epochs=150, validation_data=(x_v, y_v), callbacks=get_callbacks(settings), verbose=True, shuffle=True)\n",
        "\n",
        "model.save(model_path)"
      ],
      "execution_count": 0,
      "outputs": [
        {
          "output_type": "stream",
          "text": [
            "Train on 13312 samples, validate on 3328 samples\n",
            "Epoch 1/150\n",
            "13312/13312 [==============================] - 24s 2ms/sample - loss: 7.2201 - r_dim0_loss: 0.7526 - r_dim1_loss: 1.2858 - r_dim2_loss: 1.5746 - l_dim0_loss: 0.7484 - l_dim1_loss: 1.3007 - l_dim2_loss: 1.5580 - r_dim0_accuracy: 0.6962 - r_dim1_accuracy: 0.4039 - r_dim2_accuracy: 0.4398 - l_dim0_accuracy: 0.6970 - l_dim1_accuracy: 0.3933 - l_dim2_accuracy: 0.4502 - val_loss: 6.5365 - val_r_dim0_loss: 0.6972 - val_r_dim1_loss: 1.2002 - val_r_dim2_loss: 1.3689 - val_l_dim0_loss: 0.6912 - val_l_dim1_loss: 1.2092 - val_l_dim2_loss: 1.3698 - val_r_dim0_accuracy: 0.7160 - val_r_dim1_accuracy: 0.4644 - val_r_dim2_accuracy: 0.5365 - val_l_dim0_accuracy: 0.7190 - val_l_dim1_accuracy: 0.4544 - val_l_dim2_accuracy: 0.5423\n",
            "Epoch 2/150\n",
            " 1280/13312 [=>............................] - ETA: 15s - loss: 6.5126 - r_dim0_loss: 0.6858 - r_dim1_loss: 1.1978 - r_dim2_loss: 1.3708 - l_dim0_loss: 0.6802 - l_dim1_loss: 1.2051 - l_dim2_loss: 1.3729 - r_dim0_accuracy: 0.7221 - r_dim1_accuracy: 0.4634 - r_dim2_accuracy: 0.5329 - l_dim0_accuracy: 0.7261 - l_dim1_accuracy: 0.4595 - l_dim2_accuracy: 0.5349"
          ],
          "name": "stdout"
        }
      ]
    },
    {
      "cell_type": "code",
      "metadata": {
        "id": "k40KlZjw3eTF",
        "colab_type": "code",
        "colab": {}
      },
      "source": [
        ""
      ],
      "execution_count": 0,
      "outputs": []
    }
  ]
}